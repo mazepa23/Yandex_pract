{
 "cells": [
  {
   "cell_type": "markdown",
   "metadata": {},
   "source": [
    "<div class=\"alert alert-info\">\n",
    "<h2> Комментарий от ревьюера</h2>\n",
    "Привет. Меня зовут Алина Гусева, я буду делать ревью к твоей работе по статистическому анализу данных. В дальнейшем предлагаю общаться на \"ты\".\n",
    "    \n",
    "Видно, что ты старался, делая проект. Все ключевые этапы проекта выполнены, в целом тебе удалось со всем справиться. Особенно хочется отметить, что соблюдена структура проекта, а код написан аккуратно. Есть, правда, несколько замечаний, которые нужно исправить.\n",
    "    \n",
    "Для того, чтобы и тебе и мне удобнее бы\n",
    "    ло ориентироваться в комментариях, я буду помечать их разными цветами:\n",
    "- красный цвет означает комментарии, которые требуют доработки. Как только ты их исправишь - проект будет принят;\n",
    "- желтый цвет - то, что в следующий раз можно будет сделать по-другому. На твое усмотрение можешь доделать маленькие правки сейчас или учесть замечание для выполнения следующих проектов;\n",
    "- зеленый цвет - очень элегантные и удачные решение, которые желательно использовать в дальнейшей работе.\n",
    "- синий цвет - информация\n",
    "    \n",
    "Предлагаю работать над проектом в диалоге: если ты что-то изменяешь или вносишь какие-то коррективы - выделяй это каким-нибудь цветом и пиши об этом мне. Так мне гораздо легче будет отследить сделанные изменения.\n",
    "    \n",
    "Также попрошу тебя не изменять и не удалять мои комментарии, чтобы проверка твоего самостоятельного проекта прошла оперативнее.\n",
    "    \n",
    " \n",
    "</div>"
   ]
  },
  {
   "cell_type": "markdown",
   "metadata": {},
   "source": [
    "## Исследование надёжности заёмщиков\n",
    "\n",
    "Заказчик — кредитный отдел банка. Нужно разобраться, влияет ли семейное положение и количество детей клиента на факт погашения кредита в срок. Входные данные от банка — статистика о платёжеспособности клиентов.\n",
    "\n",
    "Результаты исследования будут учтены при построении модели **кредитного скоринга** — специальной системы, которая оценивает способность потенциального заёмщика вернуть кредит банку."
   ]
  },
  {
   "cell_type": "markdown",
   "metadata": {},
   "source": [
    "### Шаг 1. Откройте файл с данными и изучите общую информацию. "
   ]
  },
  {
   "cell_type": "code",
   "execution_count": 5,
   "metadata": {},
   "outputs": [
    {
     "name": "stdout",
     "output_type": "stream",
     "text": [
      "<class 'pandas.core.frame.DataFrame'>\n",
      "RangeIndex: 21525 entries, 0 to 21524\n",
      "Data columns (total 12 columns):\n",
      "children            21525 non-null int64\n",
      "days_employed       19351 non-null float64\n",
      "dob_years           21525 non-null int64\n",
      "education           21525 non-null object\n",
      "education_id        21525 non-null int64\n",
      "family_status       21525 non-null object\n",
      "family_status_id    21525 non-null int64\n",
      "gender              21525 non-null object\n",
      "income_type         21525 non-null object\n",
      "debt                21525 non-null int64\n",
      "total_income        19351 non-null float64\n",
      "purpose             21525 non-null object\n",
      "dtypes: float64(2), int64(5), object(5)\n",
      "memory usage: 2.0+ MB\n",
      "None\n",
      "   children  days_employed  dob_years education  education_id  \\\n",
      "0         1   -8437.673028         42    высшее             0   \n",
      "1         1   -4024.803754         36   среднее             1   \n",
      "2         0   -5623.422610         33   Среднее             1   \n",
      "3         3   -4124.747207         32   среднее             1   \n",
      "4         0  340266.072047         53   среднее             1   \n",
      "\n",
      "      family_status  family_status_id gender income_type  debt   total_income  \\\n",
      "0   женат / замужем                 0      F   сотрудник     0  253875.639453   \n",
      "1   женат / замужем                 0      F   сотрудник     0  112080.014102   \n",
      "2   женат / замужем                 0      M   сотрудник     0  145885.952297   \n",
      "3   женат / замужем                 0      M   сотрудник     0  267628.550329   \n",
      "4  гражданский брак                 1      F   пенсионер     0  158616.077870   \n",
      "\n",
      "                      purpose  \n",
      "0               покупка жилья  \n",
      "1     приобретение автомобиля  \n",
      "2               покупка жилья  \n",
      "3  дополнительное образование  \n",
      "4             сыграть свадьбу  \n"
     ]
    }
   ],
   "source": [
    "import pandas as pd\n",
    "data=pd.read_csv('/datasets/data.csv')\n",
    "print(data.info())\n",
    "print(data.head(5))"
   ]
  },
  {
   "cell_type": "markdown",
   "metadata": {},
   "source": [
    "### Вывод"
   ]
  },
  {
   "cell_type": "markdown",
   "metadata": {},
   "source": [
    "Таблица состоит из 12 столбцов и 21525 строк.\n",
    "Заметили пропуски значений в days_employed и total_income.\n",
    "Проанализировали типы данных во всех столбцах и их  количество: float64(2), int64(5), object(5)"
   ]
  },
  {
   "cell_type": "markdown",
   "metadata": {},
   "source": [
    "<div class=\"alert alert-success\">\n",
    "<h2> Комментарий от ревьюера</h2>\n",
    "Молодец, хороший тон использовать метод info() для получения общей информации из таблицы.\n",
    " Также верно сделаны выводы в контексте данного задания.\n",
    "\n",
    "</div>"
   ]
  },
  {
   "cell_type": "markdown",
   "metadata": {},
   "source": [
    "### Шаг 2. Предобработка данных"
   ]
  },
  {
   "cell_type": "markdown",
   "metadata": {},
   "source": [
    "### Обработка пропусков"
   ]
  },
  {
   "cell_type": "code",
   "execution_count": 6,
   "metadata": {},
   "outputs": [
    {
     "name": "stdout",
     "output_type": "stream",
     "text": [
      "19352\n"
     ]
    }
   ],
   "source": [
    "print(len(data['days_employed'].unique()))\n"
   ]
  },
  {
   "cell_type": "markdown",
   "metadata": {},
   "source": [
    "В столбце стажа было найдено 19352 уникальных значения.\n",
    "Столбец имеет числовой тип данных, поэтому мы может его отсортировать и посмотреть на значения в концовке."
   ]
  },
  {
   "cell_type": "code",
   "execution_count": 7,
   "metadata": {},
   "outputs": [
    {
     "name": "stdout",
     "output_type": "stream",
     "text": [
      "       children  days_employed  dob_years education  education_id  \\\n",
      "21489         2            NaN         47   Среднее             1   \n",
      "21495         1            NaN         50   среднее             1   \n",
      "21497         0            NaN         48    ВЫСШЕЕ             0   \n",
      "21502         1            NaN         42   среднее             1   \n",
      "21510         2            NaN         28   среднее             1   \n",
      "\n",
      "          family_status  family_status_id gender income_type  debt  \\\n",
      "21489   женат / замужем                 0      M   компаньон     0   \n",
      "21495  гражданский брак                 1      F   сотрудник     0   \n",
      "21497   женат / замужем                 0      F   компаньон     0   \n",
      "21502   женат / замужем                 0      F   сотрудник     0   \n",
      "21510   женат / замужем                 0      F   сотрудник     0   \n",
      "\n",
      "       total_income                           purpose  \n",
      "21489           NaN              сделка с автомобилем  \n",
      "21495           NaN                           свадьба  \n",
      "21497           NaN        строительство недвижимости  \n",
      "21502           NaN  строительство жилой недвижимости  \n",
      "21510           NaN           приобретение автомобиля  \n"
     ]
    }
   ],
   "source": [
    "print(data.sort_values(by='days_employed').tail(5))"
   ]
  },
  {
   "cell_type": "markdown",
   "metadata": {},
   "source": [
    "Видим, что в столбце стажа есть значения NaN. Это количественная переменная, поэтому можем оценить несколько вариантов:\n",
    "Сколько пропусков относительно всей таблицы? Если меньше 1 процента, то можно удалить эти строки.\n",
    "Если нет, то подставить либо среднее, либо медиану. Оценить что более логично поможет для отчета."
   ]
  },
  {
   "cell_type": "code",
   "execution_count": 8,
   "metadata": {},
   "outputs": [
    {
     "name": "stdout",
     "output_type": "stream",
     "text": [
      "В столбце со стажем пропущено 11.2% значений\n"
     ]
    }
   ],
   "source": [
    "print('В столбце со стажем пропущено {:.1%} значений'.format(data['days_employed'].isna().sum()/data['days_employed'].count()))"
   ]
  },
  {
   "cell_type": "markdown",
   "metadata": {},
   "source": [
    "Удалять нельзя, нужно заполнять.\n",
    "Пропуски в этом столбце могли появиться из-за того, что клиенты могли не указывать свой стаж работы."
   ]
  },
  {
   "cell_type": "code",
   "execution_count": 9,
   "metadata": {},
   "outputs": [
    {
     "name": "stdout",
     "output_type": "stream",
     "text": [
      "Среднее по стажу: 63046.50\n",
      "Медиана по стажу: -1203.37\n"
     ]
    }
   ],
   "source": [
    "print('Среднее по стажу: {:.2f}'.format(data['days_employed'].mean()))\n",
    "print('Медиана по стажу: {:.2f}'.format(data['days_employed'].median()))"
   ]
  },
  {
   "cell_type": "markdown",
   "metadata": {},
   "source": [
    "Среднее значение в данном случае не отображает верную информацию. У кого-то может быть огромный стаж и это может портить выборку. Среднее сильно завышено от реально возможных значений. Это тревожит, нужно проверить.\n",
    "\n",
    "Также замечаю, что медиана по стажу у меня отрицательная. То есть в большинстве случаев у меня указан отрицательный стаж.\n",
    "Нужно оценить сколько таких значений, возможно ошибка при выгрузке.\n"
   ]
  },
  {
   "cell_type": "code",
   "execution_count": 10,
   "metadata": {},
   "outputs": [
    {
     "name": "stdout",
     "output_type": "stream",
     "text": [
      "Процент отрицательного стажа: 82.2%\n"
     ]
    }
   ],
   "source": [
    "print('Процент отрицательного стажа: {:.1%}'.format(data[data['days_employed']<0]['days_employed'].count()/data['days_employed'].count()))"
   ]
  },
  {
   "cell_type": "markdown",
   "metadata": {},
   "source": [
    "Меняю знак для отрицательного стажа. Ошибка могла возникнуть из-за разной логики слияния данных или при выгрузке."
   ]
  },
  {
   "cell_type": "code",
   "execution_count": 11,
   "metadata": {},
   "outputs": [
    {
     "name": "stdout",
     "output_type": "stream",
     "text": [
      "Процент отрицательного стажа: 0.0%\n"
     ]
    }
   ],
   "source": [
    "data['days_employed']=abs(data['days_employed'])\n",
    "print('Процент отрицательного стажа: {:.1%}'.format(data[data['days_employed']<0]['days_employed'].count()/data['days_employed'].count()))"
   ]
  },
  {
   "cell_type": "code",
   "execution_count": 12,
   "metadata": {},
   "outputs": [
    {
     "name": "stdout",
     "output_type": "stream",
     "text": [
      "Средний стаж одного человека в годах: 183\n"
     ]
    }
   ],
   "source": [
    "print('Средний стаж одного человека в годах: {:.0f}'.format(data['days_employed'].mean()/365))"
   ]
  },
  {
   "cell_type": "markdown",
   "metadata": {},
   "source": [
    "Такого быть не может, оценим сколько таких значений в нашей таблице. Возьмем возраст каждого заёмщика и посчитаем какой максимальный стаж в днях у него может быть на данный момент начиная с 18 лет."
   ]
  },
  {
   "cell_type": "code",
   "execution_count": 13,
   "metadata": {},
   "outputs": [
    {
     "name": "stdout",
     "output_type": "stream",
     "text": [
      "Процент завышенного стажа: 20.3%\n"
     ]
    }
   ],
   "source": [
    "print('Процент завышенного стажа: {:.1%}'.format(data[(data['days_employed']/365)>(data['dob_years']-18)]['days_employed'].count()/data['days_employed'].count()))"
   ]
  },
  {
   "cell_type": "markdown",
   "metadata": {},
   "source": [
    "На этом моменте было множество рассуждений и задан вопрос в канале проектов. Оказалось, что далее нам не требуется использовать этот столбец, поэтому осталяю так.\n",
    "Избавились от артефактов и возвращаемся к подсчёту нового среднего и медианы."
   ]
  },
  {
   "cell_type": "markdown",
   "metadata": {},
   "source": [
    "<div class=\"alert alert-success\">\n",
    "<h2> Комментарий от ревьюера</h2>\n",
    "Да, это действительно так. По какой-то причине ланные грузятся некорректно и в  таблице возникает очень много отрицательных значеий. Естесственно, такого быть не должно. Прежде всего нужно обработать их, а потом исктаь пути решения. Тебе верно подсказли, что для дальнейшего исследвания столбец не пригодится. В таком случае, можно сделать минимальную предобработку и сообщить о некорректности данных разработчику баз данных.\n",
    "\n",
    "</div>"
   ]
  },
  {
   "cell_type": "code",
   "execution_count": 14,
   "metadata": {},
   "outputs": [
    {
     "name": "stdout",
     "output_type": "stream",
     "text": [
      "Правильное среднее по стажу: 66914.73\n",
      "Правильная медиана по стажу: 2194.22\n"
     ]
    }
   ],
   "source": [
    "print('Правильное среднее по стажу: {:.2f}'.format(data['days_employed'].mean()))\n",
    "print('Правильная медиана по стажу: {:.2f}'.format(data['days_employed'].median()))"
   ]
  },
  {
   "cell_type": "markdown",
   "metadata": {},
   "source": [
    "При большом разбросе медиана более корректно отображает значение стажа"
   ]
  },
  {
   "cell_type": "code",
   "execution_count": 15,
   "metadata": {},
   "outputs": [
    {
     "data": {
      "text/plain": [
       "21525"
      ]
     },
     "execution_count": 15,
     "metadata": {},
     "output_type": "execute_result"
    }
   ],
   "source": [
    "data['days_employed']=data['days_employed'].fillna(data['days_employed'].median())\n",
    "data['days_employed'].count()"
   ]
  },
  {
   "cell_type": "markdown",
   "metadata": {},
   "source": [
    "Замена прошла успешно, снова проверим среднее и медиану после замены."
   ]
  },
  {
   "cell_type": "code",
   "execution_count": 16,
   "metadata": {},
   "outputs": [
    {
     "name": "stdout",
     "output_type": "stream",
     "text": [
      "После замены седнее по просрочкам: 60378.03\n",
      "После замены медиана по просрочкам: 2194.22\n"
     ]
    }
   ],
   "source": [
    "print('После замены седнее по просрочкам: {:.2f}'.format(data['days_employed'].mean()))\n",
    "print('После замены медиана по просрочкам: {:.2f}'.format(data['days_employed'].median()))"
   ]
  },
  {
   "cell_type": "markdown",
   "metadata": {},
   "source": [
    "Среднее логичным образом снизилось. Медиана не изменилась.\n",
    "Переходим с столбцу с доходами."
   ]
  },
  {
   "cell_type": "code",
   "execution_count": 17,
   "metadata": {},
   "outputs": [
    {
     "name": "stdout",
     "output_type": "stream",
     "text": [
      "19352\n"
     ]
    }
   ],
   "source": [
    "print(len(data['total_income'].unique()))"
   ]
  },
  {
   "cell_type": "markdown",
   "metadata": {},
   "source": [
    "В столбце доходов было найдено 19352 уникальных значения.\n",
    "Столбец имеет числовой тип данных, поэтому мы может его отсортировать и посмотреть на значения в концовке."
   ]
  },
  {
   "cell_type": "code",
   "execution_count": 18,
   "metadata": {},
   "outputs": [
    {
     "name": "stdout",
     "output_type": "stream",
     "text": [
      "       children  days_employed  dob_years education  education_id  \\\n",
      "21489         2    2194.220567         47   Среднее             1   \n",
      "21495         1    2194.220567         50   среднее             1   \n",
      "21497         0    2194.220567         48    ВЫСШЕЕ             0   \n",
      "21502         1    2194.220567         42   среднее             1   \n",
      "21510         2    2194.220567         28   среднее             1   \n",
      "\n",
      "          family_status  family_status_id gender income_type  debt  \\\n",
      "21489   женат / замужем                 0      M   компаньон     0   \n",
      "21495  гражданский брак                 1      F   сотрудник     0   \n",
      "21497   женат / замужем                 0      F   компаньон     0   \n",
      "21502   женат / замужем                 0      F   сотрудник     0   \n",
      "21510   женат / замужем                 0      F   сотрудник     0   \n",
      "\n",
      "       total_income                           purpose  \n",
      "21489           NaN              сделка с автомобилем  \n",
      "21495           NaN                           свадьба  \n",
      "21497           NaN        строительство недвижимости  \n",
      "21502           NaN  строительство жилой недвижимости  \n",
      "21510           NaN           приобретение автомобиля  \n"
     ]
    }
   ],
   "source": [
    "print(data.sort_values(by='total_income').tail(5))"
   ]
  },
  {
   "cell_type": "markdown",
   "metadata": {},
   "source": [
    "Видим, что в столбце дохода есть значения NaN. Это количественная переменная, поэтому можем оценить несколько вариантов:\n",
    "Сколько пропусков относительно всей таблицы? Если меньше 1 процента, то можно удалить эти строки.\n",
    "Если нет, то подставить либо среднее, либо медиану. Оценить что более логично поможет для отчета."
   ]
  },
  {
   "cell_type": "code",
   "execution_count": 19,
   "metadata": {},
   "outputs": [
    {
     "name": "stdout",
     "output_type": "stream",
     "text": [
      "В столбце с доходами пропущено 11.2% значений\n"
     ]
    }
   ],
   "source": [
    "print('В столбце с доходами пропущено {:.1%} значений'.format(data['total_income'].isna().sum()/data['total_income'].count()))"
   ]
  },
  {
   "cell_type": "markdown",
   "metadata": {},
   "source": [
    "Удалять нельзя, нужно заполнять. \n",
    "Пропуски в этом столбце могли появиться из-за того, что данные по доходам могли быть просто не предоставлены."
   ]
  },
  {
   "cell_type": "code",
   "execution_count": 20,
   "metadata": {},
   "outputs": [
    {
     "name": "stdout",
     "output_type": "stream",
     "text": [
      "Среднее по доходам: 167422.30\n",
      "Медиана по доходам: 145017.94\n"
     ]
    }
   ],
   "source": [
    "print('Среднее по доходам: {:.2f}'.format(data['total_income'].mean()))\n",
    "print('Медиана по доходам: {:.2f}'.format(data['total_income'].median()))"
   ]
  },
  {
   "cell_type": "markdown",
   "metadata": {},
   "source": [
    "Среднее значение в данном случае не отображает верную информацию. У кого-то может быть огромный доход и это может портить выборку.\n",
    "Делаю выбор в пользу медианы."
   ]
  },
  {
   "cell_type": "code",
   "execution_count": 21,
   "metadata": {},
   "outputs": [
    {
     "data": {
      "text/plain": [
       "21525"
      ]
     },
     "execution_count": 21,
     "metadata": {},
     "output_type": "execute_result"
    }
   ],
   "source": [
    "data['total_income']=data['total_income'].fillna(data['total_income'].median())\n",
    "data['total_income'].count()"
   ]
  },
  {
   "cell_type": "markdown",
   "metadata": {},
   "source": [
    "<div class=\"alert alert-success\">\n",
    "<h2> Комментарий от ревьюера</h2>\n",
    "В принципе, у тебя верный подход. Но для более точной замены можно было предварительно сгруппировать данные(например, по типу занятости) и уже относительно этих групп заменять пропуски медианным или средним значением. Ведь зарплата у студента и госсслужащего отличается значительно, а сейчас мы все причешем под одну гребенку.\n",
    "</div> "
   ]
  },
  {
   "cell_type": "code",
   "execution_count": 22,
   "metadata": {},
   "outputs": [
    {
     "name": "stdout",
     "output_type": "stream",
     "text": [
      "После замены седнее по доходам: 165159.49\n",
      "После замены медиана по доходам: 145017.94\n"
     ]
    }
   ],
   "source": [
    "print('После замены седнее по доходам: {:.2f}'.format(data['total_income'].mean()))\n",
    "print('После замены медиана по доходам: {:.2f}'.format(data['total_income'].median()))"
   ]
  },
  {
   "cell_type": "markdown",
   "metadata": {},
   "source": [
    "Среднее логичным образом снизилось. Медиана не изменилась.\n",
    "Проверям информацию о всей таблице."
   ]
  },
  {
   "cell_type": "code",
   "execution_count": 23,
   "metadata": {},
   "outputs": [
    {
     "name": "stdout",
     "output_type": "stream",
     "text": [
      "<class 'pandas.core.frame.DataFrame'>\n",
      "RangeIndex: 21525 entries, 0 to 21524\n",
      "Data columns (total 12 columns):\n",
      "children            21525 non-null int64\n",
      "days_employed       21525 non-null float64\n",
      "dob_years           21525 non-null int64\n",
      "education           21525 non-null object\n",
      "education_id        21525 non-null int64\n",
      "family_status       21525 non-null object\n",
      "family_status_id    21525 non-null int64\n",
      "gender              21525 non-null object\n",
      "income_type         21525 non-null object\n",
      "debt                21525 non-null int64\n",
      "total_income        21525 non-null float64\n",
      "purpose             21525 non-null object\n",
      "dtypes: float64(2), int64(5), object(5)\n",
      "memory usage: 2.0+ MB\n"
     ]
    }
   ],
   "source": [
    "data.info()"
   ]
  },
  {
   "cell_type": "markdown",
   "metadata": {},
   "source": [
    "### Вывод"
   ]
  },
  {
   "cell_type": "markdown",
   "metadata": {},
   "source": [
    "Земена пропусков прошла успешно, данные не пострадали. Все столбцы заполнены.\n",
    "\n",
    "Возможно было бы логичнее разделить медианы по типам в соответствии с возрастной группой, образованием и типом занятости. Такие выборки дали бы более точные значения медиан, но таких вариантов (если разделить хотя бы на два значения в каждом виде) получилось бы минимум 8.\n",
    "\n",
    "Если задача потсавлена в короткие сроки, то это можно пропустить."
   ]
  },
  {
   "cell_type": "markdown",
   "metadata": {},
   "source": [
    "### Замена типа данных"
   ]
  },
  {
   "cell_type": "markdown",
   "metadata": {},
   "source": [
    "Нас попросили заменить вещественный тип на целый. Таких столбцов у нас всего два и для замены идеально подойдёт метод astype()\n",
    "Другие методы нет смысла использовать, потому что нам нужно отбросить только дробную часть числа. Это не строковый тип, и не временной. "
   ]
  },
  {
   "cell_type": "code",
   "execution_count": 24,
   "metadata": {},
   "outputs": [
    {
     "name": "stdout",
     "output_type": "stream",
     "text": [
      "<class 'pandas.core.frame.DataFrame'>\n",
      "RangeIndex: 21525 entries, 0 to 21524\n",
      "Data columns (total 12 columns):\n",
      "children            21525 non-null int64\n",
      "days_employed       21525 non-null int64\n",
      "dob_years           21525 non-null int64\n",
      "education           21525 non-null object\n",
      "education_id        21525 non-null int64\n",
      "family_status       21525 non-null object\n",
      "family_status_id    21525 non-null int64\n",
      "gender              21525 non-null object\n",
      "income_type         21525 non-null object\n",
      "debt                21525 non-null int64\n",
      "total_income        21525 non-null int64\n",
      "purpose             21525 non-null object\n",
      "dtypes: int64(7), object(5)\n",
      "memory usage: 2.0+ MB\n"
     ]
    }
   ],
   "source": [
    "data['days_employed']=data['days_employed'].astype('int')\n",
    "data['total_income']=data['total_income'].astype('int')\n",
    "data.info()"
   ]
  },
  {
   "cell_type": "markdown",
   "metadata": {},
   "source": [
    "### Вывод"
   ]
  },
  {
   "cell_type": "markdown",
   "metadata": {},
   "source": [
    "После замены типа с вещественного на целочисленный у нас в таблице осталось только два типа данных. 7 столбцов с целыми числами, 5 со строками "
   ]
  },
  {
   "cell_type": "markdown",
   "metadata": {},
   "source": [
    "<div class=\"alert alert-success\">\n",
    "<h2> Комментарий от ревьюера</h2>\n",
    "Молодец, все столбцы имееют нужный тип данных, можно приступать к следующему шагу)\n",
    "</div>"
   ]
  },
  {
   "cell_type": "markdown",
   "metadata": {},
   "source": [
    "### Обработка дубликатов"
   ]
  },
  {
   "cell_type": "markdown",
   "metadata": {},
   "source": [
    "У нас есть 5 столбцов со строковым типом данных. Нужно проверить их на потенциальные дубликаты. "
   ]
  },
  {
   "cell_type": "code",
   "execution_count": 25,
   "metadata": {},
   "outputs": [
    {
     "data": {
      "text/plain": [
       "Counter({'высшее': 4718,\n",
       "         'среднее': 13750,\n",
       "         'Среднее': 711,\n",
       "         'СРЕДНЕЕ': 772,\n",
       "         'ВЫСШЕЕ': 274,\n",
       "         'неоконченное высшее': 668,\n",
       "         'начальное': 250,\n",
       "         'Высшее': 268,\n",
       "         'НЕОКОНЧЕННОЕ ВЫСШЕЕ': 29,\n",
       "         'Неоконченное высшее': 47,\n",
       "         'НАЧАЛЬНОЕ': 17,\n",
       "         'Начальное': 15,\n",
       "         'Ученая степень': 1,\n",
       "         'УЧЕНАЯ СТЕПЕНЬ': 1,\n",
       "         'ученая степень': 4})"
      ]
     },
     "execution_count": 25,
     "metadata": {},
     "output_type": "execute_result"
    }
   ],
   "source": [
    "from collections import Counter\n",
    "Counter(data['education'])"
   ]
  },
  {
   "cell_type": "markdown",
   "metadata": {},
   "source": [
    "Очевидные дубли, которые отличаются только регистром. Возможно эта графа заполняется вручную пользователем, что может привести к ошибкам такого вида. Приведём все столбцы к нижнему регистру и проверим на уникальность."
   ]
  },
  {
   "cell_type": "code",
   "execution_count": 26,
   "metadata": {},
   "outputs": [
    {
     "data": {
      "text/plain": [
       "Counter({'высшее': 5260,\n",
       "         'среднее': 15233,\n",
       "         'неоконченное высшее': 744,\n",
       "         'начальное': 282,\n",
       "         'ученая степень': 6})"
      ]
     },
     "execution_count": 26,
     "metadata": {},
     "output_type": "execute_result"
    }
   ],
   "source": [
    "data['education']=data['education'].str.lower()\n",
    "Counter(data['education'])"
   ]
  },
  {
   "cell_type": "markdown",
   "metadata": {},
   "source": [
    "Теперь всё хорошо"
   ]
  },
  {
   "cell_type": "markdown",
   "metadata": {},
   "source": [
    "<div class=\"alert alert-success\">\n",
    "<h2> Комментарий от ревьюера</h2>\n",
    "Вот это замечание очень важно. В дальнейшем нужно не забывать приводить текстовый формат данных к единому виду\n",
    "\n",
    "</div>"
   ]
  },
  {
   "cell_type": "code",
   "execution_count": 27,
   "metadata": {},
   "outputs": [
    {
     "data": {
      "text/plain": [
       "Counter({'женат / замужем': 12380,\n",
       "         'гражданский брак': 4177,\n",
       "         'вдовец / вдова': 960,\n",
       "         'в разводе': 1195,\n",
       "         'Не женат / не замужем': 2813})"
      ]
     },
     "execution_count": 27,
     "metadata": {},
     "output_type": "execute_result"
    }
   ],
   "source": [
    "Counter(data['family_status'])"
   ]
  },
  {
   "cell_type": "code",
   "execution_count": 28,
   "metadata": {},
   "outputs": [
    {
     "data": {
      "text/plain": [
       "Counter({'F': 14236, 'M': 7288, 'XNA': 1})"
      ]
     },
     "execution_count": 28,
     "metadata": {},
     "output_type": "execute_result"
    }
   ],
   "source": [
    "Counter(data['gender'])"
   ]
  },
  {
   "cell_type": "markdown",
   "metadata": {},
   "source": [
    "Был найден случайный пропуск, который можно легко восстановить зная Фамилию или Имя. У нас таких данных нет. Найдём и посмотрим на эту строку."
   ]
  },
  {
   "cell_type": "code",
   "execution_count": 29,
   "metadata": {},
   "outputs": [
    {
     "name": "stdout",
     "output_type": "stream",
     "text": [
      "       children  days_employed  dob_years            education  education_id  \\\n",
      "10701         0           2358         24  неоконченное высшее             2   \n",
      "\n",
      "          family_status  family_status_id gender income_type  debt  \\\n",
      "10701  гражданский брак                 1    XNA   компаньон     0   \n",
      "\n",
      "       total_income               purpose  \n",
      "10701        203905  покупка недвижимости  \n"
     ]
    }
   ],
   "source": [
    "print(data[data['gender']=='XNA'])"
   ]
  },
  {
   "cell_type": "markdown",
   "metadata": {},
   "source": [
    "Была единственная надежда на декрет. Но его здесь нет. Придётся удалить эту строку."
   ]
  },
  {
   "cell_type": "markdown",
   "metadata": {},
   "source": [
    "<div class=\"alert alert-success\">\n",
    "<h2> Комментарий от ревьюера</h2>\n",
    "Ошибка в данных, такое бывает. Конечно, такую строчку нужно удалять\n",
    "</div>"
   ]
  },
  {
   "cell_type": "code",
   "execution_count": 30,
   "metadata": {},
   "outputs": [
    {
     "name": "stdout",
     "output_type": "stream",
     "text": [
      "<class 'pandas.core.frame.DataFrame'>\n",
      "Int64Index: 21524 entries, 0 to 21524\n",
      "Data columns (total 12 columns):\n",
      "children            21524 non-null int64\n",
      "days_employed       21524 non-null int64\n",
      "dob_years           21524 non-null int64\n",
      "education           21524 non-null object\n",
      "education_id        21524 non-null int64\n",
      "family_status       21524 non-null object\n",
      "family_status_id    21524 non-null int64\n",
      "gender              21524 non-null object\n",
      "income_type         21524 non-null object\n",
      "debt                21524 non-null int64\n",
      "total_income        21524 non-null int64\n",
      "purpose             21524 non-null object\n",
      "dtypes: int64(7), object(5)\n",
      "memory usage: 2.1+ MB\n",
      "None\n"
     ]
    }
   ],
   "source": [
    "data.drop(data[data['gender']=='XNA'].index, inplace = True) \n",
    "data.reset_index(drop=True)\n",
    "print(data.info())"
   ]
  },
  {
   "cell_type": "code",
   "execution_count": 31,
   "metadata": {},
   "outputs": [
    {
     "data": {
      "text/plain": [
       "Counter({'F': 14236, 'M': 7288})"
      ]
     },
     "execution_count": 31,
     "metadata": {},
     "output_type": "execute_result"
    }
   ],
   "source": [
    "Counter(data['gender'])"
   ]
  },
  {
   "cell_type": "markdown",
   "metadata": {},
   "source": [
    "Удаление произошло корректно"
   ]
  },
  {
   "cell_type": "code",
   "execution_count": 32,
   "metadata": {},
   "outputs": [
    {
     "data": {
      "text/plain": [
       "Counter({'сотрудник': 11119,\n",
       "         'пенсионер': 3856,\n",
       "         'компаньон': 5084,\n",
       "         'госслужащий': 1459,\n",
       "         'безработный': 2,\n",
       "         'предприниматель': 2,\n",
       "         'студент': 1,\n",
       "         'в декрете': 1})"
      ]
     },
     "execution_count": 32,
     "metadata": {},
     "output_type": "execute_result"
    }
   ],
   "source": [
    "Counter(data['income_type'])"
   ]
  },
  {
   "cell_type": "code",
   "execution_count": 33,
   "metadata": {},
   "outputs": [
    {
     "data": {
      "text/plain": [
       "Counter({'покупка жилья': 647,\n",
       "         'приобретение автомобиля': 462,\n",
       "         'дополнительное образование': 462,\n",
       "         'сыграть свадьбу': 774,\n",
       "         'операции с жильем': 653,\n",
       "         'образование': 447,\n",
       "         'на проведение свадьбы': 777,\n",
       "         'покупка жилья для семьи': 641,\n",
       "         'покупка недвижимости': 623,\n",
       "         'покупка коммерческой недвижимости': 664,\n",
       "         'покупка жилой недвижимости': 607,\n",
       "         'строительство собственной недвижимости': 635,\n",
       "         'недвижимость': 634,\n",
       "         'строительство недвижимости': 620,\n",
       "         'на покупку подержанного автомобиля': 479,\n",
       "         'на покупку своего автомобиля': 505,\n",
       "         'операции с коммерческой недвижимостью': 651,\n",
       "         'строительство жилой недвижимости': 626,\n",
       "         'жилье': 647,\n",
       "         'операции со своей недвижимостью': 630,\n",
       "         'автомобили': 478,\n",
       "         'заняться образованием': 412,\n",
       "         'сделка с подержанным автомобилем': 489,\n",
       "         'получение образования': 443,\n",
       "         'автомобиль': 495,\n",
       "         'свадьба': 797,\n",
       "         'получение дополнительного образования': 447,\n",
       "         'покупка своего жилья': 620,\n",
       "         'операции с недвижимостью': 676,\n",
       "         'получение высшего образования': 426,\n",
       "         'свой автомобиль': 480,\n",
       "         'сделка с автомобилем': 455,\n",
       "         'профильное образование': 436,\n",
       "         'высшее образование': 453,\n",
       "         'покупка жилья для сдачи': 653,\n",
       "         'на покупку автомобиля': 472,\n",
       "         'ремонт жилью': 612,\n",
       "         'заняться высшим образованием': 496})"
      ]
     },
     "execution_count": 33,
     "metadata": {},
     "output_type": "execute_result"
    }
   ],
   "source": [
    "purpose_count=Counter(data['purpose'])\n",
    "purpose_count"
   ]
  },
  {
   "cell_type": "code",
   "execution_count": 34,
   "metadata": {},
   "outputs": [
    {
     "name": "stdout",
     "output_type": "stream",
     "text": [
      "Counter({0: 14148, 1: 4818, 2: 2055, 3: 330, 20: 76, -1: 47, 4: 41, 5: 9})\n"
     ]
    }
   ],
   "source": [
    "print(Counter(data['children']))"
   ]
  },
  {
   "cell_type": "markdown",
   "metadata": {},
   "source": [
    "Были найдены артефакты с отрицательным количетсвом детей, их меньше 1 процента - можно удалить."
   ]
  },
  {
   "cell_type": "markdown",
   "metadata": {},
   "source": [
    "<div class=\"alert alert-warning\">\n",
    "<h2> Комментарий от ревьюера</h2>\n",
    "Также подозрительно много пар с количеством детей 20. При этом нет людей с 19,18,17... Скорее всего здесь тоже ошибка и значение необходимо поделить на 10.\n",
    "\n",
    "</div>"
   ]
  },
  {
   "cell_type": "code",
   "execution_count": 35,
   "metadata": {},
   "outputs": [
    {
     "name": "stdout",
     "output_type": "stream",
     "text": [
      "<class 'pandas.core.frame.DataFrame'>\n",
      "Int64Index: 21477 entries, 0 to 21524\n",
      "Data columns (total 12 columns):\n",
      "children            21477 non-null int64\n",
      "days_employed       21477 non-null int64\n",
      "dob_years           21477 non-null int64\n",
      "education           21477 non-null object\n",
      "education_id        21477 non-null int64\n",
      "family_status       21477 non-null object\n",
      "family_status_id    21477 non-null int64\n",
      "gender              21477 non-null object\n",
      "income_type         21477 non-null object\n",
      "debt                21477 non-null int64\n",
      "total_income        21477 non-null int64\n",
      "purpose             21477 non-null object\n",
      "dtypes: int64(7), object(5)\n",
      "memory usage: 2.1+ MB\n",
      "None\n"
     ]
    }
   ],
   "source": [
    "data.drop(data[data['children']<0].index, inplace = True) \n",
    "data.reset_index(drop=True)\n",
    "print(data.info())"
   ]
  },
  {
   "cell_type": "markdown",
   "metadata": {},
   "source": [
    "### Вывод"
   ]
  },
  {
   "cell_type": "markdown",
   "metadata": {},
   "source": [
    "В нашей таблице был только один строковый столбец заполнен ошибочно. Привели всё к одному регистру и проблема решилась. Также была найдена строка со случайной ошибкой в столбце пол, восстановить данные не удалось, удалили её."
   ]
  },
  {
   "cell_type": "markdown",
   "metadata": {},
   "source": [
    "### Лемматизация"
   ]
  },
  {
   "cell_type": "code",
   "execution_count": 36,
   "metadata": {},
   "outputs": [
    {
     "name": "stdout",
     "output_type": "stream",
     "text": [
      "['покупка', '\\n', 'жилье', '\\n', 'приобретение', '\\n', 'автомобиль', '\\n', 'покупка', '\\n']\n"
     ]
    }
   ],
   "source": [
    "from pymystem3 import Mystem\n",
    "m = Mystem()\n",
    "purpose_lemma=[] #создал пустой список для накопления всех слов\n",
    "for i in data['purpose']:\n",
    "    for word in i.split():\n",
    "        if word!=' ':\n",
    "            purpose_lemma+=(m.lemmatize(word))\n",
    "print(purpose_lemma[:10])"
   ]
  },
  {
   "cell_type": "markdown",
   "metadata": {},
   "source": [
    "После лемматизации получил список, посчитаем количество разных слов в приведенном списке"
   ]
  },
  {
   "cell_type": "code",
   "execution_count": 37,
   "metadata": {},
   "outputs": [
    {
     "data": {
      "text/plain": [
       "Counter({'\\n': 55085,\n",
       "         'автомобиль': 4304,\n",
       "         'высокий': 1374,\n",
       "         'для': 1293,\n",
       "         'дополнительный': 906,\n",
       "         'жилой': 1228,\n",
       "         'жилье': 4465,\n",
       "         'заниматься': 908,\n",
       "         'коммерческий': 1314,\n",
       "         'на': 2229,\n",
       "         'недвижимость': 6350,\n",
       "         'образование': 4012,\n",
       "         'операция': 2603,\n",
       "         'подержать': 966,\n",
       "         'покупка': 5898,\n",
       "         'получение': 1314,\n",
       "         'приобретение': 460,\n",
       "         'проведение': 776,\n",
       "         'профильный': 434,\n",
       "         'ремонт': 611,\n",
       "         'с': 2919,\n",
       "         'свадьба': 2346,\n",
       "         'свой': 2228,\n",
       "         'сдача': 652,\n",
       "         'сделка': 943,\n",
       "         'семья': 641,\n",
       "         'со': 627,\n",
       "         'собственный': 634,\n",
       "         'строительство': 1877,\n",
       "         'сыграть': 773})"
      ]
     },
     "execution_count": 37,
     "metadata": {},
     "output_type": "execute_result"
    }
   ],
   "source": [
    "purpose_lemma.sort()\n",
    "Counter(purpose_lemma)"
   ]
  },
  {
   "cell_type": "markdown",
   "metadata": {},
   "source": [
    "### Вывод"
   ]
  },
  {
   "cell_type": "markdown",
   "metadata": {},
   "source": [
    "Среди целей кредита чаще всего встречаются слова 'покупка','жилье','автомобиль','образование','недвижимость' и 'свадьба'.\n",
    "Это исследование поможет нам разделить наши цели всего на несколько типов."
   ]
  },
  {
   "cell_type": "markdown",
   "metadata": {},
   "source": [
    "### Категоризация данных"
   ]
  },
  {
   "cell_type": "code",
   "execution_count": 38,
   "metadata": {},
   "outputs": [
    {
     "data": {
      "text/plain": [
       "недвижимость    10815\n",
       "автомобиль       4304\n",
       "образование      4012\n",
       "свадьба          2346\n",
       "Name: purpose_type, dtype: int64"
      ]
     },
     "execution_count": 38,
     "metadata": {},
     "output_type": "execute_result"
    }
   ],
   "source": [
    "from pymystem3 import Mystem\n",
    "m = Mystem()\n",
    "def lem(row):\n",
    "    l=m.lemmatize(row)\n",
    "    if 'автомобиль' in l:\n",
    "        return 'автомобиль'\n",
    "    elif 'свадьба' in l:\n",
    "        return 'свадьба'\n",
    "    elif 'образование' in l:\n",
    "        return 'образование'\n",
    "    elif 'жилье' or 'недвижимость' in l:\n",
    "        return 'недвижимость'\n",
    "data['purpose_type']=data['purpose'].apply(lem)\n",
    "data['purpose_type'].value_counts()"
   ]
  },
  {
   "cell_type": "markdown",
   "metadata": {},
   "source": [
    "<div class=\"alert alert-success\">\n",
    "<h2> Комментарий от ревьюера</h2>\n",
    "Ура, лемматизация прошла успешно, можно двигаться к следующему шагу)\n",
    "\n",
    "</div>"
   ]
  },
  {
   "cell_type": "code",
   "execution_count": 39,
   "metadata": {},
   "outputs": [
    {
     "name": "stdout",
     "output_type": "stream",
     "text": [
      "<class 'pandas.core.frame.DataFrame'>\n",
      "Int64Index: 21477 entries, 0 to 21524\n",
      "Data columns (total 13 columns):\n",
      "children            21477 non-null int64\n",
      "days_employed       21477 non-null int64\n",
      "dob_years           21477 non-null int64\n",
      "education           21477 non-null object\n",
      "education_id        21477 non-null int64\n",
      "family_status       21477 non-null object\n",
      "family_status_id    21477 non-null int64\n",
      "gender              21477 non-null object\n",
      "income_type         21477 non-null object\n",
      "debt                21477 non-null int64\n",
      "total_income        21477 non-null int64\n",
      "purpose             21477 non-null object\n",
      "purpose_type        21477 non-null object\n",
      "dtypes: int64(7), object(6)\n",
      "memory usage: 2.3+ MB\n"
     ]
    }
   ],
   "source": [
    "data.info()"
   ]
  },
  {
   "cell_type": "markdown",
   "metadata": {},
   "source": [
    "Добавили новый столбец, после применения функции он оказался полностью заполнен"
   ]
  },
  {
   "cell_type": "markdown",
   "metadata": {},
   "source": [
    "### Вывод"
   ]
  },
  {
   "cell_type": "markdown",
   "metadata": {},
   "source": [
    "Лемматизация позволила нам разделить цели получения кредита всего на 4 категории. Что позволит в дальнейшем оценить как цел влияет на задолженность."
   ]
  },
  {
   "cell_type": "markdown",
   "metadata": {},
   "source": [
    "### Шаг 3. Ответьте на вопросы"
   ]
  },
  {
   "cell_type": "markdown",
   "metadata": {},
   "source": [
    "- Есть ли зависимость между наличием детей и возвратом кредита в срок?"
   ]
  },
  {
   "cell_type": "code",
   "execution_count": 40,
   "metadata": {},
   "outputs": [
    {
     "name": "stdout",
     "output_type": "stream",
     "text": [
      "Процент должников по всей таблице: 8%\n"
     ]
    }
   ],
   "source": [
    "print('Процент должников по всей таблице: {:.0%}'.format(data['debt'].sum()/data['debt'].count()))"
   ]
  },
  {
   "cell_type": "code",
   "execution_count": 41,
   "metadata": {},
   "outputs": [
    {
     "name": "stdout",
     "output_type": "stream",
     "text": [
      "Должники сгруппированные по детям: \n",
      " children\n",
      "0     14148\n",
      "1      4818\n",
      "2      2055\n",
      "3       330\n",
      "4        41\n",
      "5         9\n",
      "20       76\n",
      "Name: debt, dtype: int64\n"
     ]
    }
   ],
   "source": [
    "print('Должники сгруппированные по детям: \\n',data.groupby('children')['debt'].count())"
   ]
  },
  {
   "cell_type": "markdown",
   "metadata": {},
   "source": [
    "В нашей таблице количество детей между клиентами распределенно неравномерно. ПОэтому будет логично проверять каждого внутри своей категории."
   ]
  },
  {
   "cell_type": "code",
   "execution_count": 42,
   "metadata": {},
   "outputs": [
    {
     "name": "stdout",
     "output_type": "stream",
     "text": [
      "Процент просрочек с 0 детьми: 7.51%\n",
      "Процент просрочек с 1 детьми: 9.22%\n",
      "Процент просрочек с 2 детьми: 9.44%\n",
      "Процент просрочек с 3 детьми: 8.18%\n",
      "Процент просрочек с 4 детьми: 9.76%\n",
      "Процент просрочек с 5 детьми: 0.00%\n",
      "Процент просрочек с 20 детьми: 10.53%\n"
     ]
    }
   ],
   "source": [
    "children_unique=data['children'].unique()\n",
    "children_unique.sort()\n",
    "for i in children_unique:\n",
    "    print('Процент просрочек с',i,'детьми: {:.2%}'.format(data[data['children']==i]['debt'].sum()/data[data['children']==i]['debt'].count()))"
   ]
  },
  {
   "cell_type": "markdown",
   "metadata": {},
   "source": [
    "### Вывод"
   ]
  },
  {
   "cell_type": "markdown",
   "metadata": {},
   "source": [
    "Исследование внутри каждой группы показало, что процент просрочки прмерно совпадает с общим процентом просрочек. Наблюдается небольшой рост при увеличении количества детей."
   ]
  },
  {
   "cell_type": "markdown",
   "metadata": {},
   "source": [
    "<div class=\"alert alert-success\">\n",
    "<h2> Комментарий от ревьюера</h2>\n",
    "Да, заемщики без детей самые отвтственные.\n",
    "</div>"
   ]
  },
  {
   "cell_type": "markdown",
   "metadata": {},
   "source": [
    "- Есть ли зависимость между семейным положением и возвратом кредита в срок?"
   ]
  },
  {
   "cell_type": "code",
   "execution_count": 43,
   "metadata": {},
   "outputs": [
    {
     "name": "stdout",
     "output_type": "stream",
     "text": [
      "Должники сгруппированные по семейному положению: \n",
      " family_status\n",
      "Не женат / не замужем     2808\n",
      "в разводе                 1191\n",
      "вдовец / вдова             956\n",
      "гражданский брак          4171\n",
      "женат / замужем          12351\n",
      "Name: debt, dtype: int64\n"
     ]
    }
   ],
   "source": [
    "print('Должники сгруппированные по семейному положению: \\n',data.groupby('family_status')['debt'].count())"
   ]
  },
  {
   "cell_type": "markdown",
   "metadata": {},
   "source": [
    "В нашей таблице семейные статус между клиентами распределен неравномерно. ПОэтому будет логично проверять каждого внутри своей категории."
   ]
  },
  {
   "cell_type": "code",
   "execution_count": 44,
   "metadata": {},
   "outputs": [
    {
     "name": "stdout",
     "output_type": "stream",
     "text": [
      "Процент просрочек с семейным статусом Не женат / не замужем : 9.76%\n",
      "Процент просрочек с семейным статусом в разводе : 7.14%\n",
      "Процент просрочек с семейным статусом вдовец / вдова : 6.59%\n",
      "Процент просрочек с семейным статусом гражданский брак : 9.30%\n",
      "Процент просрочек с семейным статусом женат / замужем : 7.53%\n"
     ]
    }
   ],
   "source": [
    "family_status_unique=data['family_status'].unique()\n",
    "family_status_unique.sort()\n",
    "for i in family_status_unique:\n",
    "    print('Процент просрочек с семейным статусом',i,': {:.2%}'.format(data[data['family_status']==i]['debt'].sum()/data[data['family_status']==i]['debt'].count()))"
   ]
  },
  {
   "cell_type": "markdown",
   "metadata": {},
   "source": [
    "### Вывод"
   ]
  },
  {
   "cell_type": "markdown",
   "metadata": {},
   "source": [
    "Исследование внутри каждой группы показало, что процент просрочки прмерно совпадает с общим процентом просрочек. С положительной динамикой выделяются вдовцы, затем разведенные и женатые. Больше всего просрочек у не женатых или живущих в гражданском браке."
   ]
  },
  {
   "cell_type": "markdown",
   "metadata": {},
   "source": [
    "<div class=\"alert alert-success\">\n",
    "<h2> Комментарий от ревьюера</h2>\n",
    "Молодец, вывод сделан правильный!\n",
    "\n",
    "</div>"
   ]
  },
  {
   "cell_type": "markdown",
   "metadata": {},
   "source": [
    "- Есть ли зависимость между уровнем дохода и возвратом кредита в срок?"
   ]
  },
  {
   "cell_type": "code",
   "execution_count": 45,
   "metadata": {},
   "outputs": [
    {
     "name": "stdout",
     "output_type": "stream",
     "text": [
      "Максимальная зарплата: 2265604\n",
      "Средняя зарплата: 165183\n",
      "Медиана по зарплате: 145017\n",
      "Минимальная зарплата: 20667\n"
     ]
    }
   ],
   "source": [
    "print('Максимальная зарплата: {:.0f}'.format(data['total_income'].max()))\n",
    "print('Средняя зарплата: {:.0f}'.format(data['total_income'].mean()))\n",
    "print('Медиана по зарплате: {:.0f}'.format(data['total_income'].median()))\n",
    "print('Минимальная зарплата: {:.0f}'.format(data['total_income'].min()))"
   ]
  },
  {
   "cell_type": "markdown",
   "metadata": {},
   "source": [
    "Оценив разброс зарплат можно разделить всех клиентов на несколько категорий."
   ]
  },
  {
   "cell_type": "code",
   "execution_count": 46,
   "metadata": {},
   "outputs": [
    {
     "data": {
      "text/plain": [
       "выше среднего    7858\n",
       "очень выcокий    5057\n",
       "выcокий          4107\n",
       "средний          4084\n",
       "низкий            371\n",
       "Name: income_level, dtype: int64"
      ]
     },
     "execution_count": 46,
     "metadata": {},
     "output_type": "execute_result"
    }
   ],
   "source": [
    "def income(x):\n",
    "    if x<50000 :\n",
    "        return 'низкий'\n",
    "    elif x<100000:\n",
    "        return 'средний'\n",
    "    elif x<150000:\n",
    "        return 'выше среднего'\n",
    "    elif x<200000:\n",
    "        return 'выcокий'\n",
    "    else:\n",
    "        return 'очень выcокий'\n",
    "data['income_level']=data['total_income'].apply(income)\n",
    "data['income_level'].value_counts()"
   ]
  },
  {
   "cell_type": "markdown",
   "metadata": {},
   "source": [
    "В нашей таблице уровень дохода между клиентами распределен неравномерно. ПОэтому будет логично проверять каждого внутри своей категории."
   ]
  },
  {
   "cell_type": "markdown",
   "metadata": {},
   "source": [
    "<div class=\"alert alert-success\">\n",
    "<h2> Комментарий от ревьюера</h2>\n",
    "Здесь все зависит от того, как ты разделишь на группы. Лучше всего использовать квантиль, чтобы группы получились равные по количеству людей.\n",
    "</div>"
   ]
  },
  {
   "cell_type": "code",
   "execution_count": 47,
   "metadata": {},
   "outputs": [
    {
     "name": "stdout",
     "output_type": "stream",
     "text": [
      "Процент просрочек клиентов, у которых уровень дохода низкий : 6.20%\n",
      "Процент просрочек клиентов, у которых уровень дохода средний : 8.10%\n",
      "Процент просрочек клиентов, у которых уровень дохода выше среднего : 8.40%\n",
      "Процент просрочек клиентов, у которых уровень дохода выcокий : 8.96%\n",
      "Процент просрочек клиентов, у которых уровень дохода очень выcокий : 7.08%\n"
     ]
    }
   ],
   "source": [
    "income_level_unique=['низкий','средний','выше среднего','выcокий','очень выcокий']\n",
    "for i in income_level_unique:\n",
    "    print('Процент просрочек клиентов, у которых уровень дохода',i,': {:.2%}'.format(data[data['income_level']==i]['debt'].sum()/data[data['income_level']==i]['debt'].count()))"
   ]
  },
  {
   "cell_type": "markdown",
   "metadata": {},
   "source": [
    "### Вывод"
   ]
  },
  {
   "cell_type": "markdown",
   "metadata": {},
   "source": [
    "На удивление, но больше всего просрочек у людей с высоким уровнем дохода. У нас наблюдается обратная зависимость. Исключение - клиенты с очень высоким уровнем дохода."
   ]
  },
  {
   "cell_type": "markdown",
   "metadata": {},
   "source": [
    "- Как разные цели кредита влияют на его возврат в срок?"
   ]
  },
  {
   "cell_type": "code",
   "execution_count": 48,
   "metadata": {},
   "outputs": [
    {
     "name": "stdout",
     "output_type": "stream",
     "text": [
      "Процент клиентов, у которых целью кредита является автомобиль : 9.34%\n",
      "Процент клиентов, у которых целью кредита является недвижимость : 7.23%\n",
      "Процент клиентов, у которых целью кредита является образование : 9.22%\n",
      "Процент клиентов, у которых целью кредита является свадьба : 7.93%\n"
     ]
    }
   ],
   "source": [
    "purpose_type_unique=data['purpose_type'].unique()\n",
    "purpose_type_unique.sort()\n",
    "for i in purpose_type_unique:\n",
    "    print('Процент клиентов, у которых целью кредита является',i,': {:.2%}'.format(data[data['purpose_type']==i]['debt'].sum()/data[data['purpose_type']==i]['debt'].count()))"
   ]
  },
  {
   "cell_type": "markdown",
   "metadata": {},
   "source": [
    "### Вывод"
   ]
  },
  {
   "cell_type": "markdown",
   "metadata": {},
   "source": [
    "Меньше просрочек бывает по направлению недвижимости и свадьбы, больше с образованием и автомобилями."
   ]
  },
  {
   "cell_type": "markdown",
   "metadata": {},
   "source": [
    "### Шаг 4. Общий вывод"
   ]
  },
  {
   "cell_type": "markdown",
   "metadata": {},
   "source": [
    "На входе мы получили большую таблицу, в которой были пропуски и дубли. В таблице оказалось много артефактов, такие как отрицательный стаж, отрицательное количество детей, огромный стаж в несколько сотен лет. После небольшой обработки данных, удаления дублей и лемматизации целей мы смогли категоризировать данные и ответить на поставленные вопросы максимально точно. В ходе выполнения мною было добавлено несколько столбцов, в которые я сохранял категории. \n",
    "\n",
    "Конструкцию try-expect логичнее было бы использовать для перевода типа из 'объект' в 'число'\n",
    "\n",
    "В моей таблице ещё остались артефакты, такие как огромный стаж."
   ]
  },
  {
   "cell_type": "code",
   "execution_count": 49,
   "metadata": {},
   "outputs": [
    {
     "data": {
      "text/html": [
       "<div>\n",
       "<style scoped>\n",
       "    .dataframe tbody tr th:only-of-type {\n",
       "        vertical-align: middle;\n",
       "    }\n",
       "\n",
       "    .dataframe tbody tr th {\n",
       "        vertical-align: top;\n",
       "    }\n",
       "\n",
       "    .dataframe thead th {\n",
       "        text-align: right;\n",
       "    }\n",
       "</style>\n",
       "<table border=\"1\" class=\"dataframe\">\n",
       "  <thead>\n",
       "    <tr style=\"text-align: right;\">\n",
       "      <th></th>\n",
       "      <th>children</th>\n",
       "      <th>days_employed</th>\n",
       "      <th>dob_years</th>\n",
       "      <th>education</th>\n",
       "      <th>education_id</th>\n",
       "      <th>family_status</th>\n",
       "      <th>family_status_id</th>\n",
       "      <th>gender</th>\n",
       "      <th>income_type</th>\n",
       "      <th>debt</th>\n",
       "      <th>total_income</th>\n",
       "      <th>purpose</th>\n",
       "      <th>purpose_type</th>\n",
       "      <th>income_level</th>\n",
       "    </tr>\n",
       "  </thead>\n",
       "  <tbody>\n",
       "    <tr>\n",
       "      <td>0</td>\n",
       "      <td>1</td>\n",
       "      <td>8437</td>\n",
       "      <td>42</td>\n",
       "      <td>высшее</td>\n",
       "      <td>0</td>\n",
       "      <td>женат / замужем</td>\n",
       "      <td>0</td>\n",
       "      <td>F</td>\n",
       "      <td>сотрудник</td>\n",
       "      <td>0</td>\n",
       "      <td>253875</td>\n",
       "      <td>покупка жилья</td>\n",
       "      <td>недвижимость</td>\n",
       "      <td>очень выcокий</td>\n",
       "    </tr>\n",
       "    <tr>\n",
       "      <td>1</td>\n",
       "      <td>1</td>\n",
       "      <td>4024</td>\n",
       "      <td>36</td>\n",
       "      <td>среднее</td>\n",
       "      <td>1</td>\n",
       "      <td>женат / замужем</td>\n",
       "      <td>0</td>\n",
       "      <td>F</td>\n",
       "      <td>сотрудник</td>\n",
       "      <td>0</td>\n",
       "      <td>112080</td>\n",
       "      <td>приобретение автомобиля</td>\n",
       "      <td>автомобиль</td>\n",
       "      <td>выше среднего</td>\n",
       "    </tr>\n",
       "    <tr>\n",
       "      <td>2</td>\n",
       "      <td>0</td>\n",
       "      <td>5623</td>\n",
       "      <td>33</td>\n",
       "      <td>среднее</td>\n",
       "      <td>1</td>\n",
       "      <td>женат / замужем</td>\n",
       "      <td>0</td>\n",
       "      <td>M</td>\n",
       "      <td>сотрудник</td>\n",
       "      <td>0</td>\n",
       "      <td>145885</td>\n",
       "      <td>покупка жилья</td>\n",
       "      <td>недвижимость</td>\n",
       "      <td>выше среднего</td>\n",
       "    </tr>\n",
       "    <tr>\n",
       "      <td>3</td>\n",
       "      <td>3</td>\n",
       "      <td>4124</td>\n",
       "      <td>32</td>\n",
       "      <td>среднее</td>\n",
       "      <td>1</td>\n",
       "      <td>женат / замужем</td>\n",
       "      <td>0</td>\n",
       "      <td>M</td>\n",
       "      <td>сотрудник</td>\n",
       "      <td>0</td>\n",
       "      <td>267628</td>\n",
       "      <td>дополнительное образование</td>\n",
       "      <td>образование</td>\n",
       "      <td>очень выcокий</td>\n",
       "    </tr>\n",
       "    <tr>\n",
       "      <td>4</td>\n",
       "      <td>0</td>\n",
       "      <td>340266</td>\n",
       "      <td>53</td>\n",
       "      <td>среднее</td>\n",
       "      <td>1</td>\n",
       "      <td>гражданский брак</td>\n",
       "      <td>1</td>\n",
       "      <td>F</td>\n",
       "      <td>пенсионер</td>\n",
       "      <td>0</td>\n",
       "      <td>158616</td>\n",
       "      <td>сыграть свадьбу</td>\n",
       "      <td>свадьба</td>\n",
       "      <td>выcокий</td>\n",
       "    </tr>\n",
       "  </tbody>\n",
       "</table>\n",
       "</div>"
      ],
      "text/plain": [
       "   children  days_employed  dob_years education  education_id  \\\n",
       "0         1           8437         42    высшее             0   \n",
       "1         1           4024         36   среднее             1   \n",
       "2         0           5623         33   среднее             1   \n",
       "3         3           4124         32   среднее             1   \n",
       "4         0         340266         53   среднее             1   \n",
       "\n",
       "      family_status  family_status_id gender income_type  debt  total_income  \\\n",
       "0   женат / замужем                 0      F   сотрудник     0        253875   \n",
       "1   женат / замужем                 0      F   сотрудник     0        112080   \n",
       "2   женат / замужем                 0      M   сотрудник     0        145885   \n",
       "3   женат / замужем                 0      M   сотрудник     0        267628   \n",
       "4  гражданский брак                 1      F   пенсионер     0        158616   \n",
       "\n",
       "                      purpose  purpose_type   income_level  \n",
       "0               покупка жилья  недвижимость  очень выcокий  \n",
       "1     приобретение автомобиля    автомобиль  выше среднего  \n",
       "2               покупка жилья  недвижимость  выше среднего  \n",
       "3  дополнительное образование   образование  очень выcокий  \n",
       "4             сыграть свадьбу       свадьба        выcокий  "
      ]
     },
     "execution_count": 49,
     "metadata": {},
     "output_type": "execute_result"
    }
   ],
   "source": [
    "data.head(5)"
   ]
  },
  {
   "cell_type": "markdown",
   "metadata": {},
   "source": [
    "<div class=\"alert alert-success\">\n",
    "<h2> Комментарий от ревьюера</h2>\n",
    "\n",
    "Поздравляю с первым успешным проектом!\n",
    "\n",
    "- Ты хорошо делаешь выводы и анализируешь результаты.\n",
    "    \n",
    "- Код написан аккуратно и качественно, видно, что есть какой-то определенный бэкграунд.\n",
    "\n",
    "- Соблюдена структура проекта, было приятно проверять:)\n",
    "    \n",
    "- Все написано четко и по делу\n",
    "\n",
    "    \n",
    " Желаю дальнейших успехов!\n",
    "\n",
    "\n",
    "</div>\n"
   ]
  },
  {
   "cell_type": "markdown",
   "metadata": {},
   "source": [
    "### Чек-лист готовности проекта\n",
    "\n",
    "Поставьте 'x' в выполненных пунктах. Далее нажмите Shift+Enter."
   ]
  },
  {
   "cell_type": "markdown",
   "metadata": {},
   "source": [
    "- [x]  открыт файл;\n",
    "- [x]  файл изучен;\n",
    "- [x]  определены пропущенные значения;\n",
    "- [x]  заполнены пропущенные значения;\n",
    "- [x]  есть пояснение, какие пропущенные значения обнаружены;\n",
    "- [x]  описаны возможные причины появления пропусков в данных;\n",
    "- [x]  объяснено, по какому принципу заполнены пропуски;\n",
    "- [x]  заменен вещественный тип данных на целочисленный;\n",
    "- [x]  есть пояснение, какой метод используется для изменения типа данных и почему;\n",
    "- [x]  удалены дубликаты;\n",
    "- [x]  есть пояснение, какой метод используется для поиска и удаления дубликатов;\n",
    "- [x]  описаны возможные причины появления дубликатов в данных;\n",
    "- [x]  выделены леммы в значениях столбца с целями получения кредита;\n",
    "- [x]  описан процесс лемматизации;\n",
    "- [x]  данные категоризированы;\n",
    "- [x]  есть объяснение принципа категоризации данных;\n",
    "- [x]  есть ответ на вопрос: \"Есть ли зависимость между наличием детей и возвратом кредита в срок?\";\n",
    "- [x]  есть ответ на вопрос: \"Есть ли зависимость между семейным положением и возвратом кредита в срок?\";\n",
    "- [x]  есть ответ на вопрос: \"Есть ли зависимость между уровнем дохода и возвратом кредита в срок?\";\n",
    "- [x]  есть ответ на вопрос: \"Как разные цели кредита влияют на его возврат в срок?\";\n",
    "- [x]  в каждом этапе есть выводы;\n",
    "- [x]  есть общий вывод."
   ]
  }
 ],
 "metadata": {
  "kernelspec": {
   "display_name": "Python 3",
   "language": "python",
   "name": "python3"
  },
  "language_info": {
   "codemirror_mode": {
    "name": "ipython",
    "version": 3
   },
   "file_extension": ".py",
   "mimetype": "text/x-python",
   "name": "python",
   "nbconvert_exporter": "python",
   "pygments_lexer": "ipython3",
   "version": "3.7.8"
  },
  "toc": {
   "base_numbering": 1,
   "nav_menu": {},
   "number_sections": true,
   "sideBar": true,
   "skip_h1_title": true,
   "title_cell": "Table of Contents",
   "title_sidebar": "Contents",
   "toc_cell": false,
   "toc_position": {},
   "toc_section_display": true,
   "toc_window_display": false
  }
 },
 "nbformat": 4,
 "nbformat_minor": 2
}
