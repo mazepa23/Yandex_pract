{
 "cells": [
  {
   "cell_type": "markdown",
   "metadata": {
    "toc": true
   },
   "source": [
    "<h1>Содержание<span class=\"tocSkip\"></span></h1>\n",
    "<div class=\"toc\"><ul class=\"toc-item\"><li><ul class=\"toc-item\"><li><span><a href=\"#Общее-впечатление\" data-toc-modified-id=\"Общее-впечатление-0.1\"><span class=\"toc-item-num\">0.1&nbsp;&nbsp;</span><font color=\"orange\">Общее впечатление</font></a></span></li><li><span><a href=\"#Общее-впечатление-(ревью-2)\" data-toc-modified-id=\"Общее-впечатление-(ревью-2)-0.2\"><span class=\"toc-item-num\">0.2&nbsp;&nbsp;</span><font color=\"orange\">Общее впечатление (ревью 2)</font></a></span></li></ul></li><li><span><a href=\"#Подготовка\" data-toc-modified-id=\"Подготовка-1\"><span class=\"toc-item-num\">1&nbsp;&nbsp;</span>Подготовка</a></span><ul class=\"toc-item\"><li><span><a href=\"#Стоп-слова\" data-toc-modified-id=\"Стоп-слова-1.1\"><span class=\"toc-item-num\">1.1&nbsp;&nbsp;</span>Стоп-слова</a></span></li><li><span><a href=\"#Токенизация\" data-toc-modified-id=\"Токенизация-1.2\"><span class=\"toc-item-num\">1.2&nbsp;&nbsp;</span>Токенизация</a></span></li><li><span><a href=\"#Лемматизация\" data-toc-modified-id=\"Лемматизация-1.3\"><span class=\"toc-item-num\">1.3&nbsp;&nbsp;</span>Лемматизация</a></span></li></ul></li><li><span><a href=\"#Обучение\" data-toc-modified-id=\"Обучение-2\"><span class=\"toc-item-num\">2&nbsp;&nbsp;</span>Обучение</a></span><ul class=\"toc-item\"><li><span><a href=\"#Разделение-на-признаки-и-векторизация\" data-toc-modified-id=\"Разделение-на-признаки-и-векторизация-2.1\"><span class=\"toc-item-num\">2.1&nbsp;&nbsp;</span>Разделение на признаки и векторизация</a></span></li><li><span><a href=\"#Логистическая-регрессия\" data-toc-modified-id=\"Логистическая-регрессия-2.2\"><span class=\"toc-item-num\">2.2&nbsp;&nbsp;</span>Логистическая регрессия</a></span></li><li><span><a href=\"#Решающее-дерево\" data-toc-modified-id=\"Решающее-дерево-2.3\"><span class=\"toc-item-num\">2.3&nbsp;&nbsp;</span>Решающее дерево</a></span></li><li><span><a href=\"#Решающий-лес\" data-toc-modified-id=\"Решающий-лес-2.4\"><span class=\"toc-item-num\">2.4&nbsp;&nbsp;</span>Решающий лес</a></span></li><li><span><a href=\"#LGBMClassifier\" data-toc-modified-id=\"LGBMClassifier-2.5\"><span class=\"toc-item-num\">2.5&nbsp;&nbsp;</span>LGBMClassifier</a></span></li><li><span><a href=\"#CatBoostClassifier\" data-toc-modified-id=\"CatBoostClassifier-2.6\"><span class=\"toc-item-num\">2.6&nbsp;&nbsp;</span>CatBoostClassifier</a></span></li></ul></li><li><span><a href=\"#Выводы\" data-toc-modified-id=\"Выводы-3\"><span class=\"toc-item-num\">3&nbsp;&nbsp;</span>Выводы</a></span></li><li><span><a href=\"#Чек-лист-проверки\" data-toc-modified-id=\"Чек-лист-проверки-4\"><span class=\"toc-item-num\">4&nbsp;&nbsp;</span>Чек-лист проверки</a></span></li></ul></div>"
   ]
  },
  {
   "cell_type": "markdown",
   "metadata": {},
   "source": [
    "# Проект для «Викишоп»"
   ]
  },
  {
   "cell_type": "markdown",
   "metadata": {},
   "source": [
    "Интернет-магазин «Викишоп» запускает новый сервис. Теперь пользователи могут редактировать и дополнять описания товаров, как в вики-сообществах. То есть клиенты предлагают свои правки и комментируют изменения других. Магазину нужен инструмент, который будет искать токсичные комментарии и отправлять их на модерацию. \n",
    "\n",
    "Обучите модель классифицировать комментарии на позитивные и негативные. В вашем распоряжении набор данных с разметкой о токсичности правок.\n",
    "\n",
    "Постройте модель со значением метрики качества *F1* не меньше 0.75. \n",
    "\n",
    "**Инструкция по выполнению проекта**\n",
    "\n",
    "1. Загрузите и подготовьте данные.\n",
    "2. Обучите разные модели. \n",
    "3. Сделайте выводы.\n",
    "\n",
    "Для выполнения проекта применять *BERT* необязательно, но вы можете попробовать.\n",
    "\n",
    "**Описание данных**\n",
    "\n",
    "Данные находятся в файле `toxic_comments.csv`. Столбец *text* в нём содержит текст комментария, а *toxic* — целевой признак."
   ]
  },
  {
   "cell_type": "markdown",
   "metadata": {},
   "source": [
    "## Подготовка"
   ]
  },
  {
   "cell_type": "code",
   "execution_count": 1,
   "metadata": {},
   "outputs": [
    {
     "name": "stderr",
     "output_type": "stream",
     "text": [
      "[nltk_data] Downloading package stopwords to /home/jovyan/nltk_data...\n",
      "[nltk_data]   Package stopwords is already up-to-date!\n",
      "[nltk_data] Downloading package wordnet to /home/jovyan/nltk_data...\n",
      "[nltk_data]   Package wordnet is already up-to-date!\n"
     ]
    },
    {
     "data": {
      "text/plain": [
       "True"
      ]
     },
     "execution_count": 1,
     "metadata": {},
     "output_type": "execute_result"
    }
   ],
   "source": [
    "import pandas as pd\n",
    "import nltk\n",
    "import re\n",
    "from nltk.corpus import stopwords\n",
    "from sklearn.feature_extraction.text import TfidfVectorizer\n",
    "from nltk.tokenize import TweetTokenizer\n",
    "from nltk.stem.wordnet import WordNetLemmatizer\n",
    "from sklearn.linear_model import LogisticRegression\n",
    "from sklearn.tree import DecisionTreeClassifier\n",
    "from sklearn.ensemble import RandomForestClassifier\n",
    "from lightgbm import LGBMClassifier\n",
    "from catboost import CatBoostClassifier\n",
    "from sklearn.model_selection import train_test_split\n",
    "from sklearn.metrics import f1_score\n",
    "nltk.download('stopwords')\n",
    "nltk.download('wordnet')"
   ]
  },
  {
   "cell_type": "code",
   "execution_count": 2,
   "metadata": {},
   "outputs": [
    {
     "data": {
      "text/html": [
       "<div>\n",
       "<style scoped>\n",
       "    .dataframe tbody tr th:only-of-type {\n",
       "        vertical-align: middle;\n",
       "    }\n",
       "\n",
       "    .dataframe tbody tr th {\n",
       "        vertical-align: top;\n",
       "    }\n",
       "\n",
       "    .dataframe thead th {\n",
       "        text-align: right;\n",
       "    }\n",
       "</style>\n",
       "<table border=\"1\" class=\"dataframe\">\n",
       "  <thead>\n",
       "    <tr style=\"text-align: right;\">\n",
       "      <th></th>\n",
       "      <th>text</th>\n",
       "      <th>toxic</th>\n",
       "    </tr>\n",
       "  </thead>\n",
       "  <tbody>\n",
       "    <tr>\n",
       "      <td>67507</td>\n",
       "      <td>FYI \\n\\nHi Durova,\\n\\nWasn't sure if you'd not...</td>\n",
       "      <td>0</td>\n",
       "    </tr>\n",
       "    <tr>\n",
       "      <td>32477</td>\n",
       "      <td>The hutu/twa are considered the ancient parent...</td>\n",
       "      <td>0</td>\n",
       "    </tr>\n",
       "    <tr>\n",
       "      <td>63171</td>\n",
       "      <td>\"\\n\\nLet me answer these in order...\\n\\nI am n...</td>\n",
       "      <td>0</td>\n",
       "    </tr>\n",
       "    <tr>\n",
       "      <td>100706</td>\n",
       "      <td>hello cow head</td>\n",
       "      <td>1</td>\n",
       "    </tr>\n",
       "    <tr>\n",
       "      <td>26931</td>\n",
       "      <td>\"\\n\\nBus ServiceDestinationFrequencyJourney Ti...</td>\n",
       "      <td>0</td>\n",
       "    </tr>\n",
       "    <tr>\n",
       "      <td>122202</td>\n",
       "      <td>It's back again. I think there's a bug, Ill tr...</td>\n",
       "      <td>0</td>\n",
       "    </tr>\n",
       "    <tr>\n",
       "      <td>4468</td>\n",
       "      <td>\"Just face the truth: you can't escape it!==\\n...</td>\n",
       "      <td>1</td>\n",
       "    </tr>\n",
       "    <tr>\n",
       "      <td>152644</td>\n",
       "      <td>\"\\n\\n Please do not remove content from pages ...</td>\n",
       "      <td>0</td>\n",
       "    </tr>\n",
       "    <tr>\n",
       "      <td>86396</td>\n",
       "      <td>Removal of the Dred Scott Comparison - Complet...</td>\n",
       "      <td>0</td>\n",
       "    </tr>\n",
       "    <tr>\n",
       "      <td>26230</td>\n",
       "      <td>One question to the admins: If you intend to l...</td>\n",
       "      <td>0</td>\n",
       "    </tr>\n",
       "  </tbody>\n",
       "</table>\n",
       "</div>"
      ],
      "text/plain": [
       "                                                     text  toxic\n",
       "67507   FYI \\n\\nHi Durova,\\n\\nWasn't sure if you'd not...      0\n",
       "32477   The hutu/twa are considered the ancient parent...      0\n",
       "63171   \"\\n\\nLet me answer these in order...\\n\\nI am n...      0\n",
       "100706                                     hello cow head      1\n",
       "26931   \"\\n\\nBus ServiceDestinationFrequencyJourney Ti...      0\n",
       "122202  It's back again. I think there's a bug, Ill tr...      0\n",
       "4468    \"Just face the truth: you can't escape it!==\\n...      1\n",
       "152644  \"\\n\\n Please do not remove content from pages ...      0\n",
       "86396   Removal of the Dred Scott Comparison - Complet...      0\n",
       "26230   One question to the admins: If you intend to l...      0"
      ]
     },
     "execution_count": 2,
     "metadata": {},
     "output_type": "execute_result"
    }
   ],
   "source": [
    "data = pd.read_csv('/datasets/toxic_comments.csv')\n",
    "data.sample(10)"
   ]
  },
  {
   "cell_type": "code",
   "execution_count": 3,
   "metadata": {},
   "outputs": [
    {
     "data": {
      "text/html": [
       "<div>\n",
       "<style scoped>\n",
       "    .dataframe tbody tr th:only-of-type {\n",
       "        vertical-align: middle;\n",
       "    }\n",
       "\n",
       "    .dataframe tbody tr th {\n",
       "        vertical-align: top;\n",
       "    }\n",
       "\n",
       "    .dataframe thead th {\n",
       "        text-align: right;\n",
       "    }\n",
       "</style>\n",
       "<table border=\"1\" class=\"dataframe\">\n",
       "  <thead>\n",
       "    <tr style=\"text-align: right;\">\n",
       "      <th></th>\n",
       "      <th>toxic</th>\n",
       "    </tr>\n",
       "  </thead>\n",
       "  <tbody>\n",
       "    <tr>\n",
       "      <td>count</td>\n",
       "      <td>159571.000000</td>\n",
       "    </tr>\n",
       "    <tr>\n",
       "      <td>mean</td>\n",
       "      <td>0.101679</td>\n",
       "    </tr>\n",
       "    <tr>\n",
       "      <td>std</td>\n",
       "      <td>0.302226</td>\n",
       "    </tr>\n",
       "    <tr>\n",
       "      <td>min</td>\n",
       "      <td>0.000000</td>\n",
       "    </tr>\n",
       "    <tr>\n",
       "      <td>25%</td>\n",
       "      <td>0.000000</td>\n",
       "    </tr>\n",
       "    <tr>\n",
       "      <td>50%</td>\n",
       "      <td>0.000000</td>\n",
       "    </tr>\n",
       "    <tr>\n",
       "      <td>75%</td>\n",
       "      <td>0.000000</td>\n",
       "    </tr>\n",
       "    <tr>\n",
       "      <td>max</td>\n",
       "      <td>1.000000</td>\n",
       "    </tr>\n",
       "  </tbody>\n",
       "</table>\n",
       "</div>"
      ],
      "text/plain": [
       "               toxic\n",
       "count  159571.000000\n",
       "mean        0.101679\n",
       "std         0.302226\n",
       "min         0.000000\n",
       "25%         0.000000\n",
       "50%         0.000000\n",
       "75%         0.000000\n",
       "max         1.000000"
      ]
     },
     "execution_count": 3,
     "metadata": {},
     "output_type": "execute_result"
    }
   ],
   "source": [
    "data.describe()"
   ]
  },
  {
   "cell_type": "markdown",
   "metadata": {},
   "source": [
    "Наши данные несбалансированы, положительных ответов всего 10 %"
   ]
  },
  {
   "cell_type": "code",
   "execution_count": 4,
   "metadata": {},
   "outputs": [
    {
     "data": {
      "text/html": [
       "<div>\n",
       "<style scoped>\n",
       "    .dataframe tbody tr th:only-of-type {\n",
       "        vertical-align: middle;\n",
       "    }\n",
       "\n",
       "    .dataframe tbody tr th {\n",
       "        vertical-align: top;\n",
       "    }\n",
       "\n",
       "    .dataframe thead th {\n",
       "        text-align: right;\n",
       "    }\n",
       "</style>\n",
       "<table border=\"1\" class=\"dataframe\">\n",
       "  <thead>\n",
       "    <tr style=\"text-align: right;\">\n",
       "      <th></th>\n",
       "      <th>text</th>\n",
       "      <th>toxic</th>\n",
       "    </tr>\n",
       "  </thead>\n",
       "  <tbody>\n",
       "    <tr>\n",
       "      <td>0</td>\n",
       "      <td>There's an interesting article about artists' ...</td>\n",
       "      <td>0</td>\n",
       "    </tr>\n",
       "    <tr>\n",
       "      <td>1</td>\n",
       "      <td>Image making \\n\\nHey. I just wanted to ask you...</td>\n",
       "      <td>0</td>\n",
       "    </tr>\n",
       "    <tr>\n",
       "      <td>2</td>\n",
       "      <td>As Marge Simpson says, there's no shame in bei...</td>\n",
       "      <td>0</td>\n",
       "    </tr>\n",
       "    <tr>\n",
       "      <td>3</td>\n",
       "      <td>Volkswagen \\n\\nI wasn't vandalising you little...</td>\n",
       "      <td>0</td>\n",
       "    </tr>\n",
       "    <tr>\n",
       "      <td>4</td>\n",
       "      <td>IP editor Welcome to Wikipedia.If you want to ...</td>\n",
       "      <td>0</td>\n",
       "    </tr>\n",
       "    <tr>\n",
       "      <td>...</td>\n",
       "      <td>...</td>\n",
       "      <td>...</td>\n",
       "    </tr>\n",
       "    <tr>\n",
       "      <td>79781</td>\n",
       "      <td>\"\\n\\n BI \\n\\nMick, I guess I'm going to be blo...</td>\n",
       "      <td>0</td>\n",
       "    </tr>\n",
       "    <tr>\n",
       "      <td>79782</td>\n",
       "      <td>Permanent Block? \\n\\nI admit to doing wrong an...</td>\n",
       "      <td>0</td>\n",
       "    </tr>\n",
       "    <tr>\n",
       "      <td>79783</td>\n",
       "      <td>ref 118 \\n\\nThe abstract for this ref (don't h...</td>\n",
       "      <td>0</td>\n",
       "    </tr>\n",
       "    <tr>\n",
       "      <td>79784</td>\n",
       "      <td>I have made the changes detailed in the steps ...</td>\n",
       "      <td>0</td>\n",
       "    </tr>\n",
       "    <tr>\n",
       "      <td>79785</td>\n",
       "      <td>For length and style we might look at an artic...</td>\n",
       "      <td>0</td>\n",
       "    </tr>\n",
       "  </tbody>\n",
       "</table>\n",
       "<p>79786 rows × 2 columns</p>\n",
       "</div>"
      ],
      "text/plain": [
       "                                                    text  toxic\n",
       "0      There's an interesting article about artists' ...      0\n",
       "1      Image making \\n\\nHey. I just wanted to ask you...      0\n",
       "2      As Marge Simpson says, there's no shame in bei...      0\n",
       "3      Volkswagen \\n\\nI wasn't vandalising you little...      0\n",
       "4      IP editor Welcome to Wikipedia.If you want to ...      0\n",
       "...                                                  ...    ...\n",
       "79781  \"\\n\\n BI \\n\\nMick, I guess I'm going to be blo...      0\n",
       "79782  Permanent Block? \\n\\nI admit to doing wrong an...      0\n",
       "79783  ref 118 \\n\\nThe abstract for this ref (don't h...      0\n",
       "79784  I have made the changes detailed in the steps ...      0\n",
       "79785  For length and style we might look at an artic...      0\n",
       "\n",
       "[79786 rows x 2 columns]"
      ]
     },
     "execution_count": 4,
     "metadata": {},
     "output_type": "execute_result"
    }
   ],
   "source": [
    "short_data=data.sample(frac=0.5).reset_index(drop='True')\n",
    "short_data"
   ]
  },
  {
   "cell_type": "code",
   "execution_count": 5,
   "metadata": {},
   "outputs": [
    {
     "data": {
      "text/html": [
       "<div>\n",
       "<style scoped>\n",
       "    .dataframe tbody tr th:only-of-type {\n",
       "        vertical-align: middle;\n",
       "    }\n",
       "\n",
       "    .dataframe tbody tr th {\n",
       "        vertical-align: top;\n",
       "    }\n",
       "\n",
       "    .dataframe thead th {\n",
       "        text-align: right;\n",
       "    }\n",
       "</style>\n",
       "<table border=\"1\" class=\"dataframe\">\n",
       "  <thead>\n",
       "    <tr style=\"text-align: right;\">\n",
       "      <th></th>\n",
       "      <th>toxic</th>\n",
       "    </tr>\n",
       "  </thead>\n",
       "  <tbody>\n",
       "    <tr>\n",
       "      <td>count</td>\n",
       "      <td>79786.000000</td>\n",
       "    </tr>\n",
       "    <tr>\n",
       "      <td>mean</td>\n",
       "      <td>0.100343</td>\n",
       "    </tr>\n",
       "    <tr>\n",
       "      <td>std</td>\n",
       "      <td>0.300459</td>\n",
       "    </tr>\n",
       "    <tr>\n",
       "      <td>min</td>\n",
       "      <td>0.000000</td>\n",
       "    </tr>\n",
       "    <tr>\n",
       "      <td>25%</td>\n",
       "      <td>0.000000</td>\n",
       "    </tr>\n",
       "    <tr>\n",
       "      <td>50%</td>\n",
       "      <td>0.000000</td>\n",
       "    </tr>\n",
       "    <tr>\n",
       "      <td>75%</td>\n",
       "      <td>0.000000</td>\n",
       "    </tr>\n",
       "    <tr>\n",
       "      <td>max</td>\n",
       "      <td>1.000000</td>\n",
       "    </tr>\n",
       "  </tbody>\n",
       "</table>\n",
       "</div>"
      ],
      "text/plain": [
       "              toxic\n",
       "count  79786.000000\n",
       "mean       0.100343\n",
       "std        0.300459\n",
       "min        0.000000\n",
       "25%        0.000000\n",
       "50%        0.000000\n",
       "75%        0.000000\n",
       "max        1.000000"
      ]
     },
     "execution_count": 5,
     "metadata": {},
     "output_type": "execute_result"
    }
   ],
   "source": [
    "short_data.describe()"
   ]
  },
  {
   "cell_type": "markdown",
   "metadata": {},
   "source": [
    "Баланс данных сохранён."
   ]
  },
  {
   "cell_type": "code",
   "execution_count": 6,
   "metadata": {},
   "outputs": [],
   "source": [
    "def clear_text(text):\n",
    "    clear_text=re.sub(r'[^a-zA-Z]', ' ', text)\n",
    "    clear_text=clear_text.split()\n",
    "    return ' '.join(clear_text)"
   ]
  },
  {
   "cell_type": "markdown",
   "metadata": {},
   "source": [
    "data['text']=data['text'].apply(clear_text)\n",
    "data['text']"
   ]
  },
  {
   "cell_type": "code",
   "execution_count": 7,
   "metadata": {},
   "outputs": [
    {
     "data": {
      "text/plain": [
       "0        There s an interesting article about artists s...\n",
       "1        Image making Hey I just wanted to ask you what...\n",
       "2        As Marge Simpson says there s no shame in bein...\n",
       "3        Volkswagen I wasn t vandalising you little sh ...\n",
       "4        IP editor Welcome to Wikipedia If you want to ...\n",
       "                               ...                        \n",
       "79781    BI Mick I guess I m going to be blocked for su...\n",
       "79782    Permanent Block I admit to doing wrong and I d...\n",
       "79783    ref The abstract for this ref don t have the p...\n",
       "79784    I have made the changes detailed in the steps ...\n",
       "79785    For length and style we might look at an artic...\n",
       "Name: text, Length: 79786, dtype: object"
      ]
     },
     "execution_count": 7,
     "metadata": {},
     "output_type": "execute_result"
    }
   ],
   "source": [
    "short_data['text']=short_data['text'].apply(clear_text)\n",
    "short_data['text']"
   ]
  },
  {
   "cell_type": "code",
   "execution_count": 8,
   "metadata": {},
   "outputs": [
    {
     "name": "stdout",
     "output_type": "stream",
     "text": [
      "<class 'pandas.core.frame.DataFrame'>\n",
      "RangeIndex: 159571 entries, 0 to 159570\n",
      "Data columns (total 2 columns):\n",
      "text     159571 non-null object\n",
      "toxic    159571 non-null int64\n",
      "dtypes: int64(1), object(1)\n",
      "memory usage: 2.4+ MB\n"
     ]
    }
   ],
   "source": [
    "data.info()"
   ]
  },
  {
   "cell_type": "code",
   "execution_count": 9,
   "metadata": {},
   "outputs": [
    {
     "name": "stdout",
     "output_type": "stream",
     "text": [
      "<class 'pandas.core.frame.DataFrame'>\n",
      "RangeIndex: 79786 entries, 0 to 79785\n",
      "Data columns (total 2 columns):\n",
      "text     79786 non-null object\n",
      "toxic    79786 non-null int64\n",
      "dtypes: int64(1), object(1)\n",
      "memory usage: 1.2+ MB\n"
     ]
    }
   ],
   "source": [
    "short_data.info()"
   ]
  },
  {
   "cell_type": "markdown",
   "metadata": {},
   "source": [
    "stop = stopwords.words('english')\n",
    "data['text_without_stopwords'] = data['text'].apply(lambda x: ' '.join([word for word in x.split() if word not in (stop)]))\n",
    "print(data['text_without_stopwords'])"
   ]
  },
  {
   "cell_type": "markdown",
   "metadata": {},
   "source": [
    "### Стоп-слова"
   ]
  },
  {
   "cell_type": "code",
   "execution_count": 10,
   "metadata": {},
   "outputs": [
    {
     "name": "stdout",
     "output_type": "stream",
     "text": [
      "0        There interesting article artists statements talk\n",
      "1        Image making Hey I wanted ask type software us...\n",
      "2        As Marge Simpson says shame pariah Particularl...\n",
      "3                       Volkswagen I vandalising little sh\n",
      "4        IP editor Welcome Wikipedia If want test pleas...\n",
      "                               ...                        \n",
      "79781    BI Mick I guess I going blocked supporting Ne ...\n",
      "79782    Permanent Block I admit wrong I doubt permanen...\n",
      "79783    ref The abstract ref paper seems talk solution...\n",
      "79784    I made changes detailed steps I also reduced m...\n",
      "79785    For length style might look article like Paul ...\n",
      "Name: text_without_stopwords, Length: 79786, dtype: object\n"
     ]
    }
   ],
   "source": [
    "stop = stopwords.words('english')\n",
    "short_data['text_without_stopwords'] = short_data['text'].apply(lambda x: ' '.join([word for word in x.split() if word not in (stop)]))\n",
    "print(short_data['text_without_stopwords'])"
   ]
  },
  {
   "cell_type": "markdown",
   "metadata": {
    "scrolled": true
   },
   "source": [
    "tt = TweetTokenizer()\n",
    "data['tokenised_text'] = data['text_without_stopwords'].apply(tt.tokenize)\n",
    "print(data['tokenised_text'])"
   ]
  },
  {
   "cell_type": "markdown",
   "metadata": {},
   "source": [
    "### Токенизация"
   ]
  },
  {
   "cell_type": "code",
   "execution_count": 11,
   "metadata": {
    "scrolled": true
   },
   "outputs": [
    {
     "name": "stdout",
     "output_type": "stream",
     "text": [
      "0        [There, interesting, article, artists, stateme...\n",
      "1        [Image, making, Hey, I, wanted, ask, type, sof...\n",
      "2        [As, Marge, Simpson, says, shame, pariah, Part...\n",
      "3                 [Volkswagen, I, vandalising, little, sh]\n",
      "4        [IP, editor, Welcome, Wikipedia, If, want, tes...\n",
      "                               ...                        \n",
      "79781    [BI, Mick, I, guess, I, going, blocked, suppor...\n",
      "79782    [Permanent, Block, I, admit, wrong, I, doubt, ...\n",
      "79783    [ref, The, abstract, ref, paper, seems, talk, ...\n",
      "79784    [I, made, changes, detailed, steps, I, also, r...\n",
      "79785    [For, length, style, might, look, article, lik...\n",
      "Name: tokenised_text, Length: 79786, dtype: object\n"
     ]
    }
   ],
   "source": [
    "tt = TweetTokenizer()\n",
    "short_data['tokenised_text'] = short_data['text_without_stopwords'].apply(tt.tokenize)\n",
    "print(short_data['tokenised_text'])"
   ]
  },
  {
   "cell_type": "markdown",
   "metadata": {},
   "source": [
    "lmtzr = WordNetLemmatizer()\n",
    "data['lemm_text'] = data['tokenised_text'].apply(\n",
    "                    lambda lst:[lmtzr.lemmatize(word) for word in lst])\n",
    "print(data['lemm_text'])"
   ]
  },
  {
   "cell_type": "markdown",
   "metadata": {},
   "source": [
    "### Лемматизация"
   ]
  },
  {
   "cell_type": "code",
   "execution_count": 12,
   "metadata": {},
   "outputs": [
    {
     "name": "stdout",
     "output_type": "stream",
     "text": [
      "0        [There, interesting, article, artist, statemen...\n",
      "1        [Image, making, Hey, I, wanted, ask, type, sof...\n",
      "2        [As, Marge, Simpson, say, shame, pariah, Parti...\n",
      "3                 [Volkswagen, I, vandalising, little, sh]\n",
      "4        [IP, editor, Welcome, Wikipedia, If, want, tes...\n",
      "                               ...                        \n",
      "79781    [BI, Mick, I, guess, I, going, blocked, suppor...\n",
      "79782    [Permanent, Block, I, admit, wrong, I, doubt, ...\n",
      "79783    [ref, The, abstract, ref, paper, seems, talk, ...\n",
      "79784    [I, made, change, detailed, step, I, also, red...\n",
      "79785    [For, length, style, might, look, article, lik...\n",
      "Name: lemm_text, Length: 79786, dtype: object\n"
     ]
    }
   ],
   "source": [
    "lmtzr = WordNetLemmatizer()\n",
    "short_data['lemm_text'] = short_data['tokenised_text'].apply(\n",
    "                    lambda lst:[lmtzr.lemmatize(word) for word in lst])\n",
    "print(short_data['lemm_text'])"
   ]
  },
  {
   "cell_type": "markdown",
   "metadata": {},
   "source": [
    "data['lemm_text']=data['lemm_text'].apply(' '.join)\n",
    "data['lemm_text']"
   ]
  },
  {
   "cell_type": "code",
   "execution_count": 13,
   "metadata": {},
   "outputs": [
    {
     "data": {
      "text/plain": [
       "0          There interesting article artist statement talk\n",
       "1        Image making Hey I wanted ask type software us...\n",
       "2        As Marge Simpson say shame pariah Particularly...\n",
       "3                       Volkswagen I vandalising little sh\n",
       "4        IP editor Welcome Wikipedia If want test pleas...\n",
       "                               ...                        \n",
       "79781    BI Mick I guess I going blocked supporting Ne ...\n",
       "79782    Permanent Block I admit wrong I doubt permanen...\n",
       "79783    ref The abstract ref paper seems talk solution...\n",
       "79784    I made change detailed step I also reduced mil...\n",
       "79785    For length style might look article like Paul ...\n",
       "Name: lemm_text, Length: 79786, dtype: object"
      ]
     },
     "execution_count": 13,
     "metadata": {},
     "output_type": "execute_result"
    }
   ],
   "source": [
    "short_data['lemm_text']=short_data['lemm_text'].apply(' '.join)\n",
    "short_data['lemm_text']"
   ]
  },
  {
   "cell_type": "markdown",
   "metadata": {},
   "source": [
    "Обработали текст, удалили стоп-слова и провели лемматизацию."
   ]
  },
  {
   "cell_type": "markdown",
   "metadata": {},
   "source": [
    "## Обучение"
   ]
  },
  {
   "cell_type": "markdown",
   "metadata": {},
   "source": [
    "### Разделение на признаки и векторизация"
   ]
  },
  {
   "cell_type": "markdown",
   "metadata": {},
   "source": [
    "train, test = train_test_split(data, test_size=0.25, random_state=12345)"
   ]
  },
  {
   "cell_type": "code",
   "execution_count": 14,
   "metadata": {},
   "outputs": [],
   "source": [
    "s_train, s_test = train_test_split(short_data, test_size=0.25, random_state=12345)"
   ]
  },
  {
   "cell_type": "code",
   "execution_count": 15,
   "metadata": {},
   "outputs": [],
   "source": [
    "stopwords = set(stopwords.words('english'))\n",
    "count_tf_idf = TfidfVectorizer(stop_words=stopwords)"
   ]
  },
  {
   "cell_type": "markdown",
   "metadata": {},
   "source": [
    "corpus_train = train['lemm_text'].values.astype('U')\n",
    "corpus_test = test['lemm_text'].values.astype('U')"
   ]
  },
  {
   "cell_type": "code",
   "execution_count": 16,
   "metadata": {},
   "outputs": [],
   "source": [
    "corpus_s_train = s_train['lemm_text'].values.astype('U')\n",
    "corpus_s_test = s_test['lemm_text'].values.astype('U')"
   ]
  },
  {
   "cell_type": "markdown",
   "metadata": {},
   "source": [
    "tf_idf_train = count_tf_idf.fit_transform(corpus_train)\n",
    "tf_idf_test = count_tf_idf.transform(corpus_test)"
   ]
  },
  {
   "cell_type": "code",
   "execution_count": 17,
   "metadata": {},
   "outputs": [],
   "source": [
    "tf_idf_s_train = count_tf_idf.fit_transform(corpus_s_train)\n",
    "tf_idf_s_test = count_tf_idf.transform(corpus_s_test)"
   ]
  },
  {
   "cell_type": "markdown",
   "metadata": {},
   "source": [
    "tf_idf_train.shape"
   ]
  },
  {
   "cell_type": "markdown",
   "metadata": {},
   "source": [
    "tf_idf_test.shape"
   ]
  },
  {
   "cell_type": "code",
   "execution_count": 18,
   "metadata": {},
   "outputs": [
    {
     "data": {
      "text/plain": [
       "(59839, 91872)"
      ]
     },
     "execution_count": 18,
     "metadata": {},
     "output_type": "execute_result"
    }
   ],
   "source": [
    "tf_idf_s_train.shape"
   ]
  },
  {
   "cell_type": "code",
   "execution_count": 19,
   "metadata": {},
   "outputs": [
    {
     "data": {
      "text/plain": [
       "(19947, 91872)"
      ]
     },
     "execution_count": 19,
     "metadata": {},
     "output_type": "execute_result"
    }
   ],
   "source": [
    "tf_idf_s_test.shape"
   ]
  },
  {
   "cell_type": "markdown",
   "metadata": {},
   "source": [
    "train_f=tf_idf_train\n",
    "train_t=train['toxic']\n",
    "test_f=tf_idf_test\n",
    "test_t=test['toxic']"
   ]
  },
  {
   "cell_type": "code",
   "execution_count": 20,
   "metadata": {},
   "outputs": [],
   "source": [
    "s_train_f=tf_idf_s_train\n",
    "s_train_t=s_train['toxic']\n",
    "s_test_f=tf_idf_s_test\n",
    "s_test_t=s_test['toxic']"
   ]
  },
  {
   "cell_type": "markdown",
   "metadata": {},
   "source": [
    "def pred(model):\n",
    "    model.fit(train_f,train_t)\n",
    "    prediction=model.predict(test_f)\n",
    "    score=f1_score(prediction,test_t)\n",
    "    print(score)"
   ]
  },
  {
   "cell_type": "code",
   "execution_count": 21,
   "metadata": {},
   "outputs": [],
   "source": [
    "def short_pred(model):\n",
    "    model.fit(s_train_f,s_train_t)\n",
    "    prediction=model.predict(s_test_f)\n",
    "    score=f1_score(prediction,s_test_t)\n",
    "    print(score)"
   ]
  },
  {
   "cell_type": "markdown",
   "metadata": {},
   "source": [
    "### Логистическая регрессия"
   ]
  },
  {
   "cell_type": "code",
   "execution_count": 22,
   "metadata": {},
   "outputs": [],
   "source": [
    "model=LogisticRegression(class_weight='balanced',random_state=12345,C=10)"
   ]
  },
  {
   "cell_type": "code",
   "execution_count": 23,
   "metadata": {},
   "outputs": [
    {
     "name": "stderr",
     "output_type": "stream",
     "text": [
      "/opt/conda/lib/python3.7/site-packages/sklearn/linear_model/logistic.py:432: FutureWarning: Default solver will be changed to 'lbfgs' in 0.22. Specify a solver to silence this warning.\n",
      "  FutureWarning)\n"
     ]
    },
    {
     "name": "stdout",
     "output_type": "stream",
     "text": [
      "0.7665071770334927\n"
     ]
    }
   ],
   "source": [
    "short_pred(model)"
   ]
  },
  {
   "cell_type": "markdown",
   "metadata": {},
   "source": [
    "### Решающее дерево"
   ]
  },
  {
   "cell_type": "code",
   "execution_count": 24,
   "metadata": {},
   "outputs": [],
   "source": [
    "model=DecisionTreeClassifier(class_weight='balanced',random_state=12345)"
   ]
  },
  {
   "cell_type": "code",
   "execution_count": 25,
   "metadata": {},
   "outputs": [
    {
     "name": "stdout",
     "output_type": "stream",
     "text": [
      "0.6253621573434366\n",
      "CPU times: user 1min 4s, sys: 0 ns, total: 1min 4s\n",
      "Wall time: 1min 4s\n"
     ]
    }
   ],
   "source": [
    "%%time\n",
    "short_pred(model)"
   ]
  },
  {
   "cell_type": "markdown",
   "metadata": {},
   "source": [
    "### Решающий лес"
   ]
  },
  {
   "cell_type": "code",
   "execution_count": 26,
   "metadata": {},
   "outputs": [],
   "source": [
    "model=RandomForestClassifier(class_weight='balanced',random_state=12345)"
   ]
  },
  {
   "cell_type": "code",
   "execution_count": 27,
   "metadata": {},
   "outputs": [
    {
     "name": "stderr",
     "output_type": "stream",
     "text": [
      "/opt/conda/lib/python3.7/site-packages/sklearn/ensemble/forest.py:245: FutureWarning: The default value of n_estimators will change from 10 in version 0.20 to 100 in 0.22.\n",
      "  \"10 in version 0.20 to 100 in 0.22.\", FutureWarning)\n"
     ]
    },
    {
     "name": "stdout",
     "output_type": "stream",
     "text": [
      "0.5611263736263736\n",
      "CPU times: user 23.6 s, sys: 0 ns, total: 23.6 s\n",
      "Wall time: 23.6 s\n"
     ]
    }
   ],
   "source": [
    "%%time\n",
    "short_pred(model)"
   ]
  },
  {
   "cell_type": "markdown",
   "metadata": {},
   "source": [
    "### LGBMClassifier"
   ]
  },
  {
   "cell_type": "code",
   "execution_count": 28,
   "metadata": {},
   "outputs": [],
   "source": [
    "model=LGBMClassifier(iterations=500,class_weight='balanced',random_state=12345)"
   ]
  },
  {
   "cell_type": "code",
   "execution_count": 29,
   "metadata": {},
   "outputs": [
    {
     "name": "stdout",
     "output_type": "stream",
     "text": [
      "CPU times: user 11min 22s, sys: 7.08 s, total: 11min 29s\n",
      "Wall time: 11min 33s\n"
     ]
    },
    {
     "data": {
      "text/plain": [
       "LGBMClassifier(boosting_type='gbdt', class_weight='balanced',\n",
       "               colsample_bytree=1.0, importance_type='split', iterations=500,\n",
       "               learning_rate=0.1, max_depth=-1, min_child_samples=20,\n",
       "               min_child_weight=0.001, min_split_gain=0.0, n_estimators=100,\n",
       "               n_jobs=-1, num_leaves=31, objective=None, random_state=12345,\n",
       "               reg_alpha=0.0, reg_lambda=0.0, silent=True, subsample=1.0,\n",
       "               subsample_for_bin=200000, subsample_freq=0)"
      ]
     },
     "execution_count": 29,
     "metadata": {},
     "output_type": "execute_result"
    }
   ],
   "source": [
    "%%time\n",
    "model.fit(s_train_f,s_train_t)"
   ]
  },
  {
   "cell_type": "code",
   "execution_count": 30,
   "metadata": {},
   "outputs": [
    {
     "data": {
      "text/plain": [
       "0.7209145931405515"
      ]
     },
     "execution_count": 30,
     "metadata": {},
     "output_type": "execute_result"
    }
   ],
   "source": [
    "prediction=model.predict(s_test_f)\n",
    "f1_score(prediction,s_test_t)"
   ]
  },
  {
   "cell_type": "markdown",
   "metadata": {},
   "source": [
    "### CatBoostClassifier"
   ]
  },
  {
   "cell_type": "code",
   "execution_count": 31,
   "metadata": {},
   "outputs": [],
   "source": [
    "model=CatBoostClassifier(iterations=500,loss_function='Logloss',class_weights=(1,10),random_state=12345)"
   ]
  },
  {
   "cell_type": "code",
   "execution_count": 32,
   "metadata": {
    "scrolled": true
   },
   "outputs": [
    {
     "name": "stdout",
     "output_type": "stream",
     "text": [
      "Learning rate set to 0.098907\n",
      "0:\tlearn: 0.6491928\ttotal: 3.52s\tremaining: 29m 14s\n",
      "1:\tlearn: 0.6213731\ttotal: 6.48s\tremaining: 26m 53s\n",
      "2:\tlearn: 0.6038083\ttotal: 9.5s\tremaining: 26m 13s\n",
      "3:\tlearn: 0.5857083\ttotal: 12.4s\tremaining: 25m 37s\n",
      "4:\tlearn: 0.5777110\ttotal: 15.4s\tremaining: 25m 23s\n",
      "5:\tlearn: 0.5664322\ttotal: 18.3s\tremaining: 25m 5s\n",
      "6:\tlearn: 0.5577543\ttotal: 21.2s\tremaining: 24m 51s\n",
      "7:\tlearn: 0.5496519\ttotal: 24.1s\tremaining: 24m 39s\n",
      "8:\tlearn: 0.5425533\ttotal: 27s\tremaining: 24m 31s\n",
      "9:\tlearn: 0.5344278\ttotal: 29.9s\tremaining: 24m 23s\n",
      "10:\tlearn: 0.5285804\ttotal: 32.8s\tremaining: 24m 17s\n",
      "11:\tlearn: 0.5220457\ttotal: 35.7s\tremaining: 24m 10s\n",
      "12:\tlearn: 0.5158769\ttotal: 38.7s\tremaining: 24m 8s\n",
      "13:\tlearn: 0.5123445\ttotal: 41.6s\tremaining: 24m 2s\n",
      "14:\tlearn: 0.5068839\ttotal: 44.5s\tremaining: 23m 57s\n",
      "15:\tlearn: 0.5036671\ttotal: 47.4s\tremaining: 23m 52s\n",
      "16:\tlearn: 0.4981727\ttotal: 50.1s\tremaining: 23m 42s\n",
      "17:\tlearn: 0.4949431\ttotal: 53s\tremaining: 23m 38s\n",
      "18:\tlearn: 0.4909674\ttotal: 55.9s\tremaining: 23m 34s\n",
      "19:\tlearn: 0.4882379\ttotal: 58.7s\tremaining: 23m 27s\n",
      "20:\tlearn: 0.4840844\ttotal: 1m 1s\tremaining: 23m 26s\n",
      "21:\tlearn: 0.4802004\ttotal: 1m 4s\tremaining: 23m 20s\n",
      "22:\tlearn: 0.4779355\ttotal: 1m 7s\tremaining: 23m 14s\n",
      "23:\tlearn: 0.4749782\ttotal: 1m 10s\tremaining: 23m 11s\n",
      "24:\tlearn: 0.4721583\ttotal: 1m 12s\tremaining: 23m 6s\n",
      "25:\tlearn: 0.4704734\ttotal: 1m 15s\tremaining: 23m 2s\n",
      "26:\tlearn: 0.4687045\ttotal: 1m 18s\tremaining: 22m 57s\n",
      "27:\tlearn: 0.4664662\ttotal: 1m 21s\tremaining: 22m 52s\n",
      "28:\tlearn: 0.4635468\ttotal: 1m 24s\tremaining: 22m 48s\n",
      "29:\tlearn: 0.4614676\ttotal: 1m 27s\tremaining: 22m 45s\n",
      "30:\tlearn: 0.4591442\ttotal: 1m 29s\tremaining: 22m 41s\n",
      "31:\tlearn: 0.4573320\ttotal: 1m 32s\tremaining: 22m 37s\n",
      "32:\tlearn: 0.4547388\ttotal: 1m 35s\tremaining: 22m 34s\n",
      "33:\tlearn: 0.4526655\ttotal: 1m 38s\tremaining: 22m 31s\n",
      "34:\tlearn: 0.4511187\ttotal: 1m 41s\tremaining: 22m 27s\n",
      "35:\tlearn: 0.4495143\ttotal: 1m 44s\tremaining: 22m 26s\n",
      "36:\tlearn: 0.4479347\ttotal: 1m 47s\tremaining: 22m 21s\n",
      "37:\tlearn: 0.4460208\ttotal: 1m 50s\tremaining: 22m 17s\n",
      "38:\tlearn: 0.4445941\ttotal: 1m 52s\tremaining: 22m 15s\n",
      "39:\tlearn: 0.4415133\ttotal: 1m 55s\tremaining: 22m 12s\n",
      "40:\tlearn: 0.4396953\ttotal: 1m 58s\tremaining: 22m 8s\n",
      "41:\tlearn: 0.4378397\ttotal: 2m 1s\tremaining: 22m 5s\n",
      "42:\tlearn: 0.4360563\ttotal: 2m 4s\tremaining: 22m 2s\n",
      "43:\tlearn: 0.4350678\ttotal: 2m 7s\tremaining: 21m 58s\n",
      "44:\tlearn: 0.4335293\ttotal: 2m 10s\tremaining: 21m 56s\n",
      "45:\tlearn: 0.4319484\ttotal: 2m 13s\tremaining: 21m 52s\n",
      "46:\tlearn: 0.4310242\ttotal: 2m 15s\tremaining: 21m 49s\n",
      "47:\tlearn: 0.4288523\ttotal: 2m 18s\tremaining: 21m 47s\n",
      "48:\tlearn: 0.4273285\ttotal: 2m 21s\tremaining: 21m 44s\n",
      "49:\tlearn: 0.4257380\ttotal: 2m 24s\tremaining: 21m 40s\n",
      "50:\tlearn: 0.4245689\ttotal: 2m 27s\tremaining: 21m 37s\n",
      "51:\tlearn: 0.4221238\ttotal: 2m 30s\tremaining: 21m 35s\n",
      "52:\tlearn: 0.4208678\ttotal: 2m 33s\tremaining: 21m 31s\n",
      "53:\tlearn: 0.4193392\ttotal: 2m 36s\tremaining: 21m 28s\n",
      "54:\tlearn: 0.4183821\ttotal: 2m 38s\tremaining: 21m 25s\n",
      "55:\tlearn: 0.4172129\ttotal: 2m 41s\tremaining: 21m 22s\n",
      "56:\tlearn: 0.4153282\ttotal: 2m 44s\tremaining: 21m 20s\n",
      "57:\tlearn: 0.4143534\ttotal: 2m 47s\tremaining: 21m 16s\n",
      "58:\tlearn: 0.4133072\ttotal: 2m 50s\tremaining: 21m 12s\n",
      "59:\tlearn: 0.4123014\ttotal: 2m 53s\tremaining: 21m 10s\n",
      "60:\tlearn: 0.4115759\ttotal: 2m 56s\tremaining: 21m 6s\n",
      "61:\tlearn: 0.4106500\ttotal: 2m 58s\tremaining: 21m 3s\n",
      "62:\tlearn: 0.4098558\ttotal: 3m 1s\tremaining: 21m 1s\n",
      "63:\tlearn: 0.4084090\ttotal: 3m 4s\tremaining: 20m 57s\n",
      "64:\tlearn: 0.4071055\ttotal: 3m 7s\tremaining: 20m 54s\n",
      "65:\tlearn: 0.4059185\ttotal: 3m 10s\tremaining: 20m 52s\n",
      "66:\tlearn: 0.4047189\ttotal: 3m 13s\tremaining: 20m 49s\n",
      "67:\tlearn: 0.4037382\ttotal: 3m 16s\tremaining: 20m 47s\n",
      "68:\tlearn: 0.4019793\ttotal: 3m 19s\tremaining: 20m 43s\n",
      "69:\tlearn: 0.4011171\ttotal: 3m 21s\tremaining: 20m 40s\n",
      "70:\tlearn: 0.4004543\ttotal: 3m 24s\tremaining: 20m 37s\n",
      "71:\tlearn: 0.3995059\ttotal: 3m 27s\tremaining: 20m 35s\n",
      "72:\tlearn: 0.3989162\ttotal: 3m 30s\tremaining: 20m 32s\n",
      "73:\tlearn: 0.3978186\ttotal: 3m 33s\tremaining: 20m 29s\n",
      "74:\tlearn: 0.3968952\ttotal: 3m 36s\tremaining: 20m 26s\n",
      "75:\tlearn: 0.3957092\ttotal: 3m 39s\tremaining: 20m 23s\n",
      "76:\tlearn: 0.3943769\ttotal: 3m 42s\tremaining: 20m 21s\n",
      "77:\tlearn: 0.3935076\ttotal: 3m 45s\tremaining: 20m 18s\n",
      "78:\tlearn: 0.3927151\ttotal: 3m 48s\tremaining: 20m 15s\n",
      "79:\tlearn: 0.3921620\ttotal: 3m 51s\tremaining: 20m 13s\n",
      "80:\tlearn: 0.3914254\ttotal: 3m 54s\tremaining: 20m 10s\n",
      "81:\tlearn: 0.3906331\ttotal: 3m 56s\tremaining: 20m 7s\n",
      "82:\tlearn: 0.3900762\ttotal: 3m 59s\tremaining: 20m 5s\n",
      "83:\tlearn: 0.3891509\ttotal: 4m 2s\tremaining: 20m 1s\n",
      "84:\tlearn: 0.3883523\ttotal: 4m 5s\tremaining: 19m 59s\n",
      "85:\tlearn: 0.3869231\ttotal: 4m 8s\tremaining: 19m 56s\n",
      "86:\tlearn: 0.3855255\ttotal: 4m 11s\tremaining: 19m 53s\n",
      "87:\tlearn: 0.3848899\ttotal: 4m 14s\tremaining: 19m 50s\n",
      "88:\tlearn: 0.3840661\ttotal: 4m 17s\tremaining: 19m 47s\n",
      "89:\tlearn: 0.3828794\ttotal: 4m 19s\tremaining: 19m 44s\n",
      "90:\tlearn: 0.3823618\ttotal: 4m 22s\tremaining: 19m 41s\n",
      "91:\tlearn: 0.3813073\ttotal: 4m 25s\tremaining: 19m 38s\n",
      "92:\tlearn: 0.3805155\ttotal: 4m 28s\tremaining: 19m 35s\n",
      "93:\tlearn: 0.3799776\ttotal: 4m 31s\tremaining: 19m 33s\n",
      "94:\tlearn: 0.3792861\ttotal: 4m 34s\tremaining: 19m 30s\n",
      "95:\tlearn: 0.3786556\ttotal: 4m 37s\tremaining: 19m 27s\n",
      "96:\tlearn: 0.3779093\ttotal: 4m 40s\tremaining: 19m 24s\n",
      "97:\tlearn: 0.3773256\ttotal: 4m 43s\tremaining: 19m 21s\n",
      "98:\tlearn: 0.3766792\ttotal: 4m 46s\tremaining: 19m 19s\n",
      "99:\tlearn: 0.3758851\ttotal: 4m 49s\tremaining: 19m 16s\n",
      "100:\tlearn: 0.3750810\ttotal: 4m 51s\tremaining: 19m 13s\n",
      "101:\tlearn: 0.3743175\ttotal: 4m 54s\tremaining: 19m 10s\n",
      "102:\tlearn: 0.3737712\ttotal: 4m 57s\tremaining: 19m 8s\n",
      "103:\tlearn: 0.3728690\ttotal: 5m\tremaining: 19m 5s\n",
      "104:\tlearn: 0.3720953\ttotal: 5m 3s\tremaining: 19m 1s\n",
      "105:\tlearn: 0.3711685\ttotal: 5m 6s\tremaining: 18m 58s\n",
      "106:\tlearn: 0.3702196\ttotal: 5m 9s\tremaining: 18m 55s\n",
      "107:\tlearn: 0.3695529\ttotal: 5m 12s\tremaining: 18m 53s\n",
      "108:\tlearn: 0.3687552\ttotal: 5m 15s\tremaining: 18m 50s\n",
      "109:\tlearn: 0.3679012\ttotal: 5m 18s\tremaining: 18m 47s\n",
      "110:\tlearn: 0.3672594\ttotal: 5m 20s\tremaining: 18m 44s\n",
      "111:\tlearn: 0.3660592\ttotal: 5m 23s\tremaining: 18m 41s\n",
      "112:\tlearn: 0.3653822\ttotal: 5m 26s\tremaining: 18m 38s\n",
      "113:\tlearn: 0.3646265\ttotal: 5m 29s\tremaining: 18m 36s\n",
      "114:\tlearn: 0.3638216\ttotal: 5m 32s\tremaining: 18m 33s\n",
      "115:\tlearn: 0.3623991\ttotal: 5m 35s\tremaining: 18m 30s\n",
      "116:\tlearn: 0.3616081\ttotal: 5m 38s\tremaining: 18m 27s\n",
      "117:\tlearn: 0.3606418\ttotal: 5m 41s\tremaining: 18m 25s\n",
      "118:\tlearn: 0.3598047\ttotal: 5m 44s\tremaining: 18m 22s\n",
      "119:\tlearn: 0.3589805\ttotal: 5m 47s\tremaining: 18m 19s\n",
      "120:\tlearn: 0.3582998\ttotal: 5m 50s\tremaining: 18m 16s\n",
      "121:\tlearn: 0.3572638\ttotal: 5m 52s\tremaining: 18m 13s\n",
      "122:\tlearn: 0.3560366\ttotal: 5m 55s\tremaining: 18m 10s\n",
      "123:\tlearn: 0.3553363\ttotal: 5m 58s\tremaining: 18m 7s\n",
      "124:\tlearn: 0.3544885\ttotal: 6m 1s\tremaining: 18m 4s\n",
      "125:\tlearn: 0.3538530\ttotal: 6m 4s\tremaining: 18m 2s\n",
      "126:\tlearn: 0.3530790\ttotal: 6m 7s\tremaining: 17m 59s\n",
      "127:\tlearn: 0.3518485\ttotal: 6m 10s\tremaining: 17m 56s\n",
      "128:\tlearn: 0.3510991\ttotal: 6m 13s\tremaining: 17m 53s\n",
      "129:\tlearn: 0.3502036\ttotal: 6m 16s\tremaining: 17m 50s\n",
      "130:\tlearn: 0.3494809\ttotal: 6m 19s\tremaining: 17m 47s\n",
      "131:\tlearn: 0.3488231\ttotal: 6m 21s\tremaining: 17m 44s\n",
      "132:\tlearn: 0.3476400\ttotal: 6m 24s\tremaining: 17m 41s\n",
      "133:\tlearn: 0.3469508\ttotal: 6m 27s\tremaining: 17m 38s\n",
      "134:\tlearn: 0.3463722\ttotal: 6m 30s\tremaining: 17m 36s\n",
      "135:\tlearn: 0.3450089\ttotal: 6m 33s\tremaining: 17m 32s\n",
      "136:\tlearn: 0.3444194\ttotal: 6m 36s\tremaining: 17m 30s\n",
      "137:\tlearn: 0.3436698\ttotal: 6m 39s\tremaining: 17m 27s\n",
      "138:\tlearn: 0.3428608\ttotal: 6m 42s\tremaining: 17m 24s\n",
      "139:\tlearn: 0.3420748\ttotal: 6m 45s\tremaining: 17m 21s\n",
      "140:\tlearn: 0.3413597\ttotal: 6m 48s\tremaining: 17m 19s\n",
      "141:\tlearn: 0.3407073\ttotal: 6m 51s\tremaining: 17m 16s\n",
      "142:\tlearn: 0.3399026\ttotal: 6m 54s\tremaining: 17m 13s\n",
      "143:\tlearn: 0.3390703\ttotal: 6m 56s\tremaining: 17m 10s\n",
      "144:\tlearn: 0.3382841\ttotal: 6m 59s\tremaining: 17m 8s\n",
      "145:\tlearn: 0.3376591\ttotal: 7m 2s\tremaining: 17m 5s\n",
      "146:\tlearn: 0.3367461\ttotal: 7m 5s\tremaining: 17m 2s\n",
      "147:\tlearn: 0.3360503\ttotal: 7m 8s\tremaining: 16m 59s\n",
      "148:\tlearn: 0.3354257\ttotal: 7m 11s\tremaining: 16m 56s\n",
      "149:\tlearn: 0.3348063\ttotal: 7m 14s\tremaining: 16m 53s\n",
      "150:\tlearn: 0.3342602\ttotal: 7m 17s\tremaining: 16m 50s\n",
      "151:\tlearn: 0.3337243\ttotal: 7m 20s\tremaining: 16m 47s\n",
      "152:\tlearn: 0.3331361\ttotal: 7m 23s\tremaining: 16m 45s\n",
      "153:\tlearn: 0.3324368\ttotal: 7m 26s\tremaining: 16m 42s\n",
      "154:\tlearn: 0.3318480\ttotal: 7m 29s\tremaining: 16m 39s\n",
      "155:\tlearn: 0.3313725\ttotal: 7m 31s\tremaining: 16m 36s\n",
      "156:\tlearn: 0.3302744\ttotal: 7m 34s\tremaining: 16m 33s\n",
      "157:\tlearn: 0.3296111\ttotal: 7m 37s\tremaining: 16m 30s\n",
      "158:\tlearn: 0.3289716\ttotal: 7m 40s\tremaining: 16m 27s\n",
      "159:\tlearn: 0.3283913\ttotal: 7m 43s\tremaining: 16m 24s\n",
      "160:\tlearn: 0.3277772\ttotal: 7m 46s\tremaining: 16m 21s\n",
      "161:\tlearn: 0.3271738\ttotal: 7m 49s\tremaining: 16m 19s\n",
      "162:\tlearn: 0.3262846\ttotal: 7m 52s\tremaining: 16m 16s\n",
      "163:\tlearn: 0.3257312\ttotal: 7m 55s\tremaining: 16m 13s\n",
      "164:\tlearn: 0.3250959\ttotal: 7m 58s\tremaining: 16m 10s\n",
      "165:\tlearn: 0.3246058\ttotal: 8m\tremaining: 16m 7s\n",
      "166:\tlearn: 0.3237626\ttotal: 8m 3s\tremaining: 16m 4s\n",
      "167:\tlearn: 0.3231849\ttotal: 8m 6s\tremaining: 16m 1s\n",
      "168:\tlearn: 0.3227392\ttotal: 8m 9s\tremaining: 15m 59s\n",
      "169:\tlearn: 0.3221044\ttotal: 8m 12s\tremaining: 15m 56s\n",
      "170:\tlearn: 0.3212679\ttotal: 8m 15s\tremaining: 15m 53s\n",
      "171:\tlearn: 0.3207923\ttotal: 8m 18s\tremaining: 15m 50s\n",
      "172:\tlearn: 0.3203370\ttotal: 8m 21s\tremaining: 15m 47s\n",
      "173:\tlearn: 0.3197885\ttotal: 8m 24s\tremaining: 15m 44s\n",
      "174:\tlearn: 0.3192918\ttotal: 8m 27s\tremaining: 15m 41s\n",
      "175:\tlearn: 0.3187843\ttotal: 8m 29s\tremaining: 15m 38s\n",
      "176:\tlearn: 0.3182323\ttotal: 8m 32s\tremaining: 15m 35s\n",
      "177:\tlearn: 0.3174567\ttotal: 8m 35s\tremaining: 15m 33s\n",
      "178:\tlearn: 0.3169359\ttotal: 8m 38s\tremaining: 15m 30s\n",
      "179:\tlearn: 0.3161843\ttotal: 8m 41s\tremaining: 15m 27s\n",
      "180:\tlearn: 0.3156792\ttotal: 8m 44s\tremaining: 15m 24s\n",
      "181:\tlearn: 0.3152400\ttotal: 8m 47s\tremaining: 15m 21s\n",
      "182:\tlearn: 0.3147822\ttotal: 8m 50s\tremaining: 15m 18s\n",
      "183:\tlearn: 0.3143279\ttotal: 8m 53s\tremaining: 15m 15s\n",
      "184:\tlearn: 0.3137815\ttotal: 8m 56s\tremaining: 15m 12s\n",
      "185:\tlearn: 0.3133526\ttotal: 8m 59s\tremaining: 15m 10s\n",
      "186:\tlearn: 0.3127971\ttotal: 9m 1s\tremaining: 15m 7s\n",
      "187:\tlearn: 0.3123283\ttotal: 9m 4s\tremaining: 15m 4s\n",
      "188:\tlearn: 0.3115896\ttotal: 9m 7s\tremaining: 15m 1s\n",
      "189:\tlearn: 0.3111188\ttotal: 9m 10s\tremaining: 14m 58s\n",
      "190:\tlearn: 0.3104117\ttotal: 9m 13s\tremaining: 14m 55s\n",
      "191:\tlearn: 0.3099449\ttotal: 9m 16s\tremaining: 14m 52s\n",
      "192:\tlearn: 0.3091458\ttotal: 9m 19s\tremaining: 14m 49s\n",
      "193:\tlearn: 0.3083754\ttotal: 9m 22s\tremaining: 14m 47s\n",
      "194:\tlearn: 0.3079480\ttotal: 9m 25s\tremaining: 14m 44s\n",
      "195:\tlearn: 0.3074956\ttotal: 9m 28s\tremaining: 14m 41s\n",
      "196:\tlearn: 0.3071796\ttotal: 9m 31s\tremaining: 14m 38s\n",
      "197:\tlearn: 0.3067573\ttotal: 9m 34s\tremaining: 14m 35s\n",
      "198:\tlearn: 0.3062268\ttotal: 9m 37s\tremaining: 14m 32s\n",
      "199:\tlearn: 0.3057451\ttotal: 9m 39s\tremaining: 14m 29s\n",
      "200:\tlearn: 0.3052115\ttotal: 9m 42s\tremaining: 14m 27s\n",
      "201:\tlearn: 0.3048083\ttotal: 9m 45s\tremaining: 14m 24s\n",
      "202:\tlearn: 0.3041777\ttotal: 9m 48s\tremaining: 14m 21s\n",
      "203:\tlearn: 0.3038049\ttotal: 9m 51s\tremaining: 14m 18s\n",
      "204:\tlearn: 0.3032434\ttotal: 9m 54s\tremaining: 14m 15s\n",
      "205:\tlearn: 0.3026067\ttotal: 9m 57s\tremaining: 14m 12s\n",
      "206:\tlearn: 0.3020923\ttotal: 10m\tremaining: 14m 10s\n",
      "207:\tlearn: 0.3017368\ttotal: 10m 3s\tremaining: 14m 7s\n",
      "208:\tlearn: 0.3012529\ttotal: 10m 6s\tremaining: 14m 4s\n",
      "209:\tlearn: 0.3007111\ttotal: 10m 9s\tremaining: 14m 1s\n",
      "210:\tlearn: 0.3003667\ttotal: 10m 12s\tremaining: 13m 58s\n",
      "211:\tlearn: 0.2998760\ttotal: 10m 15s\tremaining: 13m 55s\n",
      "212:\tlearn: 0.2993937\ttotal: 10m 18s\tremaining: 13m 52s\n",
      "213:\tlearn: 0.2990020\ttotal: 10m 21s\tremaining: 13m 49s\n",
      "214:\tlearn: 0.2985895\ttotal: 10m 23s\tremaining: 13m 47s\n",
      "215:\tlearn: 0.2981110\ttotal: 10m 26s\tremaining: 13m 44s\n",
      "216:\tlearn: 0.2978049\ttotal: 10m 29s\tremaining: 13m 41s\n",
      "217:\tlearn: 0.2973827\ttotal: 10m 32s\tremaining: 13m 38s\n",
      "218:\tlearn: 0.2970497\ttotal: 10m 35s\tremaining: 13m 35s\n",
      "219:\tlearn: 0.2966740\ttotal: 10m 38s\tremaining: 13m 32s\n",
      "220:\tlearn: 0.2963083\ttotal: 10m 41s\tremaining: 13m 30s\n",
      "221:\tlearn: 0.2958156\ttotal: 10m 44s\tremaining: 13m 27s\n",
      "222:\tlearn: 0.2954650\ttotal: 10m 47s\tremaining: 13m 24s\n",
      "223:\tlearn: 0.2950522\ttotal: 10m 50s\tremaining: 13m 21s\n",
      "224:\tlearn: 0.2945325\ttotal: 10m 53s\tremaining: 13m 18s\n",
      "225:\tlearn: 0.2939477\ttotal: 10m 56s\tremaining: 13m 15s\n",
      "226:\tlearn: 0.2935515\ttotal: 10m 59s\tremaining: 13m 13s\n",
      "227:\tlearn: 0.2931159\ttotal: 11m 2s\tremaining: 13m 10s\n",
      "228:\tlearn: 0.2927160\ttotal: 11m 5s\tremaining: 13m 7s\n",
      "229:\tlearn: 0.2924439\ttotal: 11m 8s\tremaining: 13m 4s\n",
      "230:\tlearn: 0.2920545\ttotal: 11m 11s\tremaining: 13m 1s\n",
      "231:\tlearn: 0.2916864\ttotal: 11m 14s\tremaining: 12m 58s\n",
      "232:\tlearn: 0.2913214\ttotal: 11m 17s\tremaining: 12m 56s\n",
      "233:\tlearn: 0.2908311\ttotal: 11m 20s\tremaining: 12m 53s\n",
      "234:\tlearn: 0.2904151\ttotal: 11m 23s\tremaining: 12m 50s\n",
      "235:\tlearn: 0.2899880\ttotal: 11m 26s\tremaining: 12m 47s\n",
      "236:\tlearn: 0.2896169\ttotal: 11m 29s\tremaining: 12m 44s\n",
      "237:\tlearn: 0.2892369\ttotal: 11m 31s\tremaining: 12m 41s\n",
      "238:\tlearn: 0.2889772\ttotal: 11m 34s\tremaining: 12m 38s\n",
      "239:\tlearn: 0.2886306\ttotal: 11m 37s\tremaining: 12m 36s\n",
      "240:\tlearn: 0.2881918\ttotal: 11m 40s\tremaining: 12m 33s\n",
      "241:\tlearn: 0.2878459\ttotal: 11m 43s\tremaining: 12m 30s\n",
      "242:\tlearn: 0.2872807\ttotal: 11m 46s\tremaining: 12m 27s\n",
      "243:\tlearn: 0.2868231\ttotal: 11m 49s\tremaining: 12m 24s\n",
      "244:\tlearn: 0.2864800\ttotal: 11m 52s\tremaining: 12m 21s\n",
      "245:\tlearn: 0.2860490\ttotal: 11m 55s\tremaining: 12m 18s\n",
      "246:\tlearn: 0.2858064\ttotal: 11m 58s\tremaining: 12m 15s\n",
      "247:\tlearn: 0.2854825\ttotal: 12m 1s\tremaining: 12m 13s\n",
      "248:\tlearn: 0.2849834\ttotal: 12m 4s\tremaining: 12m 10s\n",
      "249:\tlearn: 0.2846159\ttotal: 12m 7s\tremaining: 12m 7s\n",
      "250:\tlearn: 0.2842710\ttotal: 12m 10s\tremaining: 12m 4s\n",
      "251:\tlearn: 0.2839005\ttotal: 12m 13s\tremaining: 12m 1s\n",
      "252:\tlearn: 0.2835497\ttotal: 12m 16s\tremaining: 11m 58s\n",
      "253:\tlearn: 0.2832059\ttotal: 12m 19s\tremaining: 11m 55s\n",
      "254:\tlearn: 0.2828971\ttotal: 12m 22s\tremaining: 11m 53s\n",
      "255:\tlearn: 0.2826565\ttotal: 12m 25s\tremaining: 11m 50s\n",
      "256:\tlearn: 0.2821593\ttotal: 12m 27s\tremaining: 11m 47s\n",
      "257:\tlearn: 0.2808222\ttotal: 12m 30s\tremaining: 11m 44s\n",
      "258:\tlearn: 0.2803676\ttotal: 12m 33s\tremaining: 11m 41s\n",
      "259:\tlearn: 0.2800241\ttotal: 12m 36s\tremaining: 11m 38s\n",
      "260:\tlearn: 0.2798361\ttotal: 12m 39s\tremaining: 11m 35s\n",
      "261:\tlearn: 0.2795637\ttotal: 12m 42s\tremaining: 11m 32s\n",
      "262:\tlearn: 0.2791775\ttotal: 12m 45s\tremaining: 11m 29s\n",
      "263:\tlearn: 0.2788161\ttotal: 12m 48s\tremaining: 11m 27s\n",
      "264:\tlearn: 0.2784636\ttotal: 12m 51s\tremaining: 11m 24s\n",
      "265:\tlearn: 0.2781426\ttotal: 12m 54s\tremaining: 11m 21s\n",
      "266:\tlearn: 0.2776505\ttotal: 12m 57s\tremaining: 11m 18s\n",
      "267:\tlearn: 0.2773087\ttotal: 13m\tremaining: 11m 15s\n",
      "268:\tlearn: 0.2769546\ttotal: 13m 3s\tremaining: 11m 12s\n",
      "269:\tlearn: 0.2764931\ttotal: 13m 6s\tremaining: 11m 9s\n",
      "270:\tlearn: 0.2761520\ttotal: 13m 9s\tremaining: 11m 6s\n",
      "271:\tlearn: 0.2757977\ttotal: 13m 12s\tremaining: 11m 3s\n",
      "272:\tlearn: 0.2753356\ttotal: 13m 15s\tremaining: 11m 1s\n",
      "273:\tlearn: 0.2749904\ttotal: 13m 18s\tremaining: 10m 58s\n",
      "274:\tlearn: 0.2747826\ttotal: 13m 21s\tremaining: 10m 55s\n",
      "275:\tlearn: 0.2744805\ttotal: 13m 24s\tremaining: 10m 52s\n",
      "276:\tlearn: 0.2741660\ttotal: 13m 27s\tremaining: 10m 49s\n",
      "277:\tlearn: 0.2738170\ttotal: 13m 30s\tremaining: 10m 46s\n",
      "278:\tlearn: 0.2735441\ttotal: 13m 33s\tremaining: 10m 44s\n",
      "279:\tlearn: 0.2733361\ttotal: 13m 36s\tremaining: 10m 41s\n",
      "280:\tlearn: 0.2729631\ttotal: 13m 39s\tremaining: 10m 38s\n",
      "281:\tlearn: 0.2724763\ttotal: 13m 42s\tremaining: 10m 35s\n",
      "282:\tlearn: 0.2723137\ttotal: 13m 45s\tremaining: 10m 32s\n",
      "283:\tlearn: 0.2719563\ttotal: 13m 48s\tremaining: 10m 29s\n",
      "284:\tlearn: 0.2716465\ttotal: 13m 51s\tremaining: 10m 26s\n",
      "285:\tlearn: 0.2713263\ttotal: 13m 54s\tremaining: 10m 24s\n",
      "286:\tlearn: 0.2708575\ttotal: 13m 57s\tremaining: 10m 21s\n",
      "287:\tlearn: 0.2706358\ttotal: 14m\tremaining: 10m 18s\n",
      "288:\tlearn: 0.2703481\ttotal: 14m 3s\tremaining: 10m 15s\n",
      "289:\tlearn: 0.2700212\ttotal: 14m 6s\tremaining: 10m 12s\n",
      "290:\tlearn: 0.2696921\ttotal: 14m 9s\tremaining: 10m 9s\n",
      "291:\tlearn: 0.2693901\ttotal: 14m 12s\tremaining: 10m 6s\n",
      "292:\tlearn: 0.2690067\ttotal: 14m 15s\tremaining: 10m 4s\n",
      "293:\tlearn: 0.2686883\ttotal: 14m 18s\tremaining: 10m 1s\n",
      "294:\tlearn: 0.2683566\ttotal: 14m 21s\tremaining: 9m 58s\n",
      "295:\tlearn: 0.2680212\ttotal: 14m 23s\tremaining: 9m 55s\n",
      "296:\tlearn: 0.2678262\ttotal: 14m 26s\tremaining: 9m 52s\n",
      "297:\tlearn: 0.2675129\ttotal: 14m 29s\tremaining: 9m 49s\n",
      "298:\tlearn: 0.2671183\ttotal: 14m 32s\tremaining: 9m 46s\n",
      "299:\tlearn: 0.2668243\ttotal: 14m 35s\tremaining: 9m 43s\n",
      "300:\tlearn: 0.2665285\ttotal: 14m 38s\tremaining: 9m 41s\n",
      "301:\tlearn: 0.2662104\ttotal: 14m 41s\tremaining: 9m 38s\n",
      "302:\tlearn: 0.2658361\ttotal: 14m 44s\tremaining: 9m 35s\n",
      "303:\tlearn: 0.2653452\ttotal: 14m 47s\tremaining: 9m 32s\n",
      "304:\tlearn: 0.2651526\ttotal: 14m 50s\tremaining: 9m 29s\n",
      "305:\tlearn: 0.2648435\ttotal: 14m 53s\tremaining: 9m 26s\n",
      "306:\tlearn: 0.2645889\ttotal: 14m 56s\tremaining: 9m 23s\n",
      "307:\tlearn: 0.2643034\ttotal: 14m 59s\tremaining: 9m 20s\n",
      "308:\tlearn: 0.2640120\ttotal: 15m 2s\tremaining: 9m 17s\n",
      "309:\tlearn: 0.2637401\ttotal: 15m 5s\tremaining: 9m 15s\n",
      "310:\tlearn: 0.2634287\ttotal: 15m 8s\tremaining: 9m 12s\n",
      "311:\tlearn: 0.2630407\ttotal: 15m 11s\tremaining: 9m 9s\n",
      "312:\tlearn: 0.2628893\ttotal: 15m 14s\tremaining: 9m 6s\n",
      "313:\tlearn: 0.2626050\ttotal: 15m 17s\tremaining: 9m 3s\n",
      "314:\tlearn: 0.2622197\ttotal: 15m 20s\tremaining: 9m\n",
      "315:\tlearn: 0.2619196\ttotal: 15m 23s\tremaining: 8m 57s\n",
      "316:\tlearn: 0.2617151\ttotal: 15m 26s\tremaining: 8m 54s\n",
      "317:\tlearn: 0.2611935\ttotal: 15m 29s\tremaining: 8m 52s\n",
      "318:\tlearn: 0.2609688\ttotal: 15m 32s\tremaining: 8m 49s\n",
      "319:\tlearn: 0.2605620\ttotal: 15m 35s\tremaining: 8m 46s\n",
      "320:\tlearn: 0.2601888\ttotal: 15m 38s\tremaining: 8m 43s\n",
      "321:\tlearn: 0.2598635\ttotal: 15m 41s\tremaining: 8m 40s\n",
      "322:\tlearn: 0.2597164\ttotal: 15m 44s\tremaining: 8m 37s\n",
      "323:\tlearn: 0.2595058\ttotal: 15m 47s\tremaining: 8m 34s\n",
      "324:\tlearn: 0.2591614\ttotal: 15m 50s\tremaining: 8m 31s\n",
      "325:\tlearn: 0.2588637\ttotal: 15m 53s\tremaining: 8m 29s\n",
      "326:\tlearn: 0.2585783\ttotal: 15m 56s\tremaining: 8m 26s\n",
      "327:\tlearn: 0.2581989\ttotal: 15m 59s\tremaining: 8m 23s\n",
      "328:\tlearn: 0.2580146\ttotal: 16m 2s\tremaining: 8m 20s\n",
      "329:\tlearn: 0.2577137\ttotal: 16m 5s\tremaining: 8m 17s\n",
      "330:\tlearn: 0.2575688\ttotal: 16m 8s\tremaining: 8m 14s\n",
      "331:\tlearn: 0.2573778\ttotal: 16m 11s\tremaining: 8m 11s\n",
      "332:\tlearn: 0.2571144\ttotal: 16m 14s\tremaining: 8m 8s\n",
      "333:\tlearn: 0.2567556\ttotal: 16m 17s\tremaining: 8m 6s\n",
      "334:\tlearn: 0.2564849\ttotal: 16m 20s\tremaining: 8m 3s\n",
      "335:\tlearn: 0.2562420\ttotal: 16m 23s\tremaining: 8m\n",
      "336:\tlearn: 0.2560503\ttotal: 16m 26s\tremaining: 7m 57s\n",
      "337:\tlearn: 0.2557767\ttotal: 16m 29s\tremaining: 7m 54s\n",
      "338:\tlearn: 0.2555031\ttotal: 16m 32s\tremaining: 7m 51s\n",
      "339:\tlearn: 0.2551082\ttotal: 16m 35s\tremaining: 7m 48s\n",
      "340:\tlearn: 0.2548674\ttotal: 16m 38s\tremaining: 7m 45s\n",
      "341:\tlearn: 0.2546525\ttotal: 16m 41s\tremaining: 7m 42s\n",
      "342:\tlearn: 0.2542887\ttotal: 16m 44s\tremaining: 7m 39s\n",
      "343:\tlearn: 0.2541503\ttotal: 16m 47s\tremaining: 7m 37s\n",
      "344:\tlearn: 0.2539314\ttotal: 16m 50s\tremaining: 7m 34s\n",
      "345:\tlearn: 0.2535420\ttotal: 16m 53s\tremaining: 7m 31s\n",
      "346:\tlearn: 0.2532623\ttotal: 16m 56s\tremaining: 7m 28s\n",
      "347:\tlearn: 0.2530803\ttotal: 16m 59s\tremaining: 7m 25s\n",
      "348:\tlearn: 0.2528221\ttotal: 17m 2s\tremaining: 7m 22s\n",
      "349:\tlearn: 0.2525424\ttotal: 17m 5s\tremaining: 7m 19s\n",
      "350:\tlearn: 0.2523794\ttotal: 17m 8s\tremaining: 7m 16s\n",
      "351:\tlearn: 0.2520365\ttotal: 17m 11s\tremaining: 7m 13s\n",
      "352:\tlearn: 0.2519050\ttotal: 17m 13s\tremaining: 7m 10s\n",
      "353:\tlearn: 0.2516170\ttotal: 17m 16s\tremaining: 7m 7s\n",
      "354:\tlearn: 0.2511432\ttotal: 17m 19s\tremaining: 7m 4s\n",
      "355:\tlearn: 0.2509002\ttotal: 17m 22s\tremaining: 7m 1s\n",
      "356:\tlearn: 0.2506148\ttotal: 17m 25s\tremaining: 6m 58s\n",
      "357:\tlearn: 0.2502715\ttotal: 17m 28s\tremaining: 6m 56s\n",
      "358:\tlearn: 0.2501002\ttotal: 17m 31s\tremaining: 6m 53s\n",
      "359:\tlearn: 0.2497858\ttotal: 17m 34s\tremaining: 6m 50s\n",
      "360:\tlearn: 0.2495637\ttotal: 17m 37s\tremaining: 6m 47s\n",
      "361:\tlearn: 0.2493301\ttotal: 17m 40s\tremaining: 6m 44s\n",
      "362:\tlearn: 0.2490526\ttotal: 17m 43s\tremaining: 6m 41s\n",
      "363:\tlearn: 0.2489238\ttotal: 17m 46s\tremaining: 6m 38s\n",
      "364:\tlearn: 0.2487538\ttotal: 17m 49s\tremaining: 6m 35s\n",
      "365:\tlearn: 0.2485256\ttotal: 17m 52s\tremaining: 6m 32s\n",
      "366:\tlearn: 0.2482640\ttotal: 17m 55s\tremaining: 6m 29s\n",
      "367:\tlearn: 0.2480445\ttotal: 17m 58s\tremaining: 6m 26s\n",
      "368:\tlearn: 0.2477807\ttotal: 18m 1s\tremaining: 6m 23s\n",
      "369:\tlearn: 0.2474996\ttotal: 18m 4s\tremaining: 6m 21s\n",
      "370:\tlearn: 0.2472119\ttotal: 18m 7s\tremaining: 6m 18s\n",
      "371:\tlearn: 0.2470076\ttotal: 18m 10s\tremaining: 6m 15s\n",
      "372:\tlearn: 0.2467488\ttotal: 18m 13s\tremaining: 6m 12s\n",
      "373:\tlearn: 0.2464569\ttotal: 18m 16s\tremaining: 6m 9s\n",
      "374:\tlearn: 0.2463302\ttotal: 18m 19s\tremaining: 6m 6s\n",
      "375:\tlearn: 0.2461167\ttotal: 18m 22s\tremaining: 6m 3s\n",
      "376:\tlearn: 0.2458624\ttotal: 18m 25s\tremaining: 6m\n",
      "377:\tlearn: 0.2454214\ttotal: 18m 28s\tremaining: 5m 57s\n",
      "378:\tlearn: 0.2452578\ttotal: 18m 31s\tremaining: 5m 54s\n",
      "379:\tlearn: 0.2450442\ttotal: 18m 34s\tremaining: 5m 51s\n",
      "380:\tlearn: 0.2447785\ttotal: 18m 37s\tremaining: 5m 49s\n",
      "381:\tlearn: 0.2443925\ttotal: 18m 40s\tremaining: 5m 46s\n",
      "382:\tlearn: 0.2441219\ttotal: 18m 43s\tremaining: 5m 43s\n",
      "383:\tlearn: 0.2438597\ttotal: 18m 46s\tremaining: 5m 40s\n",
      "384:\tlearn: 0.2436127\ttotal: 18m 49s\tremaining: 5m 37s\n",
      "385:\tlearn: 0.2433746\ttotal: 18m 52s\tremaining: 5m 34s\n",
      "386:\tlearn: 0.2432026\ttotal: 18m 55s\tremaining: 5m 31s\n",
      "387:\tlearn: 0.2429689\ttotal: 18m 58s\tremaining: 5m 28s\n",
      "388:\tlearn: 0.2428487\ttotal: 19m 1s\tremaining: 5m 25s\n",
      "389:\tlearn: 0.2427080\ttotal: 19m 4s\tremaining: 5m 22s\n",
      "390:\tlearn: 0.2424834\ttotal: 19m 7s\tremaining: 5m 19s\n",
      "391:\tlearn: 0.2421982\ttotal: 19m 10s\tremaining: 5m 16s\n",
      "392:\tlearn: 0.2419753\ttotal: 19m 13s\tremaining: 5m 14s\n",
      "393:\tlearn: 0.2414676\ttotal: 19m 16s\tremaining: 5m 11s\n",
      "394:\tlearn: 0.2413396\ttotal: 19m 19s\tremaining: 5m 8s\n",
      "395:\tlearn: 0.2412219\ttotal: 19m 22s\tremaining: 5m 5s\n",
      "396:\tlearn: 0.2409286\ttotal: 19m 25s\tremaining: 5m 2s\n",
      "397:\tlearn: 0.2406918\ttotal: 19m 28s\tremaining: 4m 59s\n",
      "398:\tlearn: 0.2404604\ttotal: 19m 31s\tremaining: 4m 56s\n",
      "399:\tlearn: 0.2402061\ttotal: 19m 34s\tremaining: 4m 53s\n",
      "400:\tlearn: 0.2399344\ttotal: 19m 37s\tremaining: 4m 50s\n",
      "401:\tlearn: 0.2396945\ttotal: 19m 40s\tremaining: 4m 47s\n",
      "402:\tlearn: 0.2394443\ttotal: 19m 43s\tremaining: 4m 44s\n",
      "403:\tlearn: 0.2393283\ttotal: 19m 45s\tremaining: 4m 41s\n",
      "404:\tlearn: 0.2390749\ttotal: 19m 48s\tremaining: 4m 38s\n",
      "405:\tlearn: 0.2388968\ttotal: 19m 51s\tremaining: 4m 35s\n",
      "406:\tlearn: 0.2386001\ttotal: 19m 54s\tremaining: 4m 33s\n",
      "407:\tlearn: 0.2383492\ttotal: 19m 57s\tremaining: 4m 30s\n",
      "408:\tlearn: 0.2380461\ttotal: 20m 1s\tremaining: 4m 27s\n",
      "409:\tlearn: 0.2378168\ttotal: 20m 4s\tremaining: 4m 24s\n",
      "410:\tlearn: 0.2376844\ttotal: 20m 7s\tremaining: 4m 21s\n",
      "411:\tlearn: 0.2374410\ttotal: 20m 10s\tremaining: 4m 18s\n",
      "412:\tlearn: 0.2373298\ttotal: 20m 12s\tremaining: 4m 15s\n",
      "413:\tlearn: 0.2370305\ttotal: 20m 15s\tremaining: 4m 12s\n",
      "414:\tlearn: 0.2368152\ttotal: 20m 18s\tremaining: 4m 9s\n",
      "415:\tlearn: 0.2366584\ttotal: 20m 21s\tremaining: 4m 6s\n",
      "416:\tlearn: 0.2364040\ttotal: 20m 24s\tremaining: 4m 3s\n",
      "417:\tlearn: 0.2362228\ttotal: 20m 27s\tremaining: 4m\n",
      "418:\tlearn: 0.2358517\ttotal: 20m 30s\tremaining: 3m 57s\n",
      "419:\tlearn: 0.2357401\ttotal: 20m 33s\tremaining: 3m 55s\n",
      "420:\tlearn: 0.2355685\ttotal: 20m 36s\tremaining: 3m 52s\n",
      "421:\tlearn: 0.2353596\ttotal: 20m 39s\tremaining: 3m 49s\n",
      "422:\tlearn: 0.2341570\ttotal: 20m 42s\tremaining: 3m 46s\n",
      "423:\tlearn: 0.2339063\ttotal: 20m 46s\tremaining: 3m 43s\n",
      "424:\tlearn: 0.2336487\ttotal: 20m 48s\tremaining: 3m 40s\n",
      "425:\tlearn: 0.2334485\ttotal: 20m 51s\tremaining: 3m 37s\n",
      "426:\tlearn: 0.2332499\ttotal: 20m 54s\tremaining: 3m 34s\n",
      "427:\tlearn: 0.2329898\ttotal: 20m 57s\tremaining: 3m 31s\n",
      "428:\tlearn: 0.2327451\ttotal: 21m\tremaining: 3m 28s\n",
      "429:\tlearn: 0.2324348\ttotal: 21m 3s\tremaining: 3m 25s\n",
      "430:\tlearn: 0.2322145\ttotal: 21m 6s\tremaining: 3m 22s\n",
      "431:\tlearn: 0.2319588\ttotal: 21m 9s\tremaining: 3m 19s\n",
      "432:\tlearn: 0.2317735\ttotal: 21m 12s\tremaining: 3m 16s\n",
      "433:\tlearn: 0.2315359\ttotal: 21m 15s\tremaining: 3m 14s\n",
      "434:\tlearn: 0.2313037\ttotal: 21m 18s\tremaining: 3m 11s\n",
      "435:\tlearn: 0.2311938\ttotal: 21m 21s\tremaining: 3m 8s\n",
      "436:\tlearn: 0.2310367\ttotal: 21m 24s\tremaining: 3m 5s\n",
      "437:\tlearn: 0.2308819\ttotal: 21m 27s\tremaining: 3m 2s\n",
      "438:\tlearn: 0.2305990\ttotal: 21m 30s\tremaining: 2m 59s\n",
      "439:\tlearn: 0.2303975\ttotal: 21m 33s\tremaining: 2m 56s\n",
      "440:\tlearn: 0.2302070\ttotal: 21m 36s\tremaining: 2m 53s\n",
      "441:\tlearn: 0.2300006\ttotal: 21m 39s\tremaining: 2m 50s\n",
      "442:\tlearn: 0.2297273\ttotal: 21m 42s\tremaining: 2m 47s\n",
      "443:\tlearn: 0.2296197\ttotal: 21m 45s\tremaining: 2m 44s\n",
      "444:\tlearn: 0.2294383\ttotal: 21m 48s\tremaining: 2m 41s\n",
      "445:\tlearn: 0.2291877\ttotal: 21m 51s\tremaining: 2m 38s\n",
      "446:\tlearn: 0.2288469\ttotal: 21m 54s\tremaining: 2m 35s\n",
      "447:\tlearn: 0.2285699\ttotal: 21m 57s\tremaining: 2m 32s\n",
      "448:\tlearn: 0.2284627\ttotal: 22m\tremaining: 2m 29s\n",
      "449:\tlearn: 0.2282985\ttotal: 22m 3s\tremaining: 2m 27s\n",
      "450:\tlearn: 0.2280369\ttotal: 22m 6s\tremaining: 2m 24s\n",
      "451:\tlearn: 0.2279039\ttotal: 22m 9s\tremaining: 2m 21s\n",
      "452:\tlearn: 0.2276726\ttotal: 22m 12s\tremaining: 2m 18s\n",
      "453:\tlearn: 0.2274593\ttotal: 22m 15s\tremaining: 2m 15s\n",
      "454:\tlearn: 0.2273538\ttotal: 22m 18s\tremaining: 2m 12s\n",
      "455:\tlearn: 0.2271384\ttotal: 22m 21s\tremaining: 2m 9s\n",
      "456:\tlearn: 0.2269842\ttotal: 22m 24s\tremaining: 2m 6s\n",
      "457:\tlearn: 0.2268251\ttotal: 22m 27s\tremaining: 2m 3s\n",
      "458:\tlearn: 0.2265900\ttotal: 22m 30s\tremaining: 2m\n",
      "459:\tlearn: 0.2263400\ttotal: 22m 32s\tremaining: 1m 57s\n",
      "460:\tlearn: 0.2261531\ttotal: 22m 35s\tremaining: 1m 54s\n",
      "461:\tlearn: 0.2259262\ttotal: 22m 38s\tremaining: 1m 51s\n",
      "462:\tlearn: 0.2258277\ttotal: 22m 41s\tremaining: 1m 48s\n",
      "463:\tlearn: 0.2256779\ttotal: 22m 44s\tremaining: 1m 45s\n",
      "464:\tlearn: 0.2254077\ttotal: 22m 47s\tremaining: 1m 42s\n",
      "465:\tlearn: 0.2252038\ttotal: 22m 50s\tremaining: 1m 40s\n",
      "466:\tlearn: 0.2251023\ttotal: 22m 53s\tremaining: 1m 37s\n",
      "467:\tlearn: 0.2248687\ttotal: 22m 56s\tremaining: 1m 34s\n",
      "468:\tlearn: 0.2247484\ttotal: 22m 59s\tremaining: 1m 31s\n",
      "469:\tlearn: 0.2244795\ttotal: 23m 2s\tremaining: 1m 28s\n",
      "470:\tlearn: 0.2242875\ttotal: 23m 5s\tremaining: 1m 25s\n",
      "471:\tlearn: 0.2241531\ttotal: 23m 8s\tremaining: 1m 22s\n",
      "472:\tlearn: 0.2240251\ttotal: 23m 11s\tremaining: 1m 19s\n",
      "473:\tlearn: 0.2238155\ttotal: 23m 14s\tremaining: 1m 16s\n",
      "474:\tlearn: 0.2236534\ttotal: 23m 17s\tremaining: 1m 13s\n",
      "475:\tlearn: 0.2233676\ttotal: 23m 20s\tremaining: 1m 10s\n",
      "476:\tlearn: 0.2231479\ttotal: 23m 23s\tremaining: 1m 7s\n",
      "477:\tlearn: 0.2230484\ttotal: 23m 26s\tremaining: 1m 4s\n",
      "478:\tlearn: 0.2229495\ttotal: 23m 29s\tremaining: 1m 1s\n",
      "479:\tlearn: 0.2227161\ttotal: 23m 32s\tremaining: 58.9s\n",
      "480:\tlearn: 0.2225745\ttotal: 23m 35s\tremaining: 55.9s\n",
      "481:\tlearn: 0.2223953\ttotal: 23m 38s\tremaining: 53s\n",
      "482:\tlearn: 0.2221750\ttotal: 23m 41s\tremaining: 50s\n",
      "483:\tlearn: 0.2220801\ttotal: 23m 44s\tremaining: 47.1s\n",
      "484:\tlearn: 0.2219041\ttotal: 23m 47s\tremaining: 44.1s\n",
      "485:\tlearn: 0.2217188\ttotal: 23m 50s\tremaining: 41.2s\n",
      "486:\tlearn: 0.2216221\ttotal: 23m 53s\tremaining: 38.3s\n",
      "487:\tlearn: 0.2213690\ttotal: 23m 56s\tremaining: 35.3s\n",
      "488:\tlearn: 0.2212425\ttotal: 23m 59s\tremaining: 32.4s\n",
      "489:\tlearn: 0.2208776\ttotal: 24m 2s\tremaining: 29.4s\n",
      "490:\tlearn: 0.2207613\ttotal: 24m 5s\tremaining: 26.5s\n",
      "491:\tlearn: 0.2205579\ttotal: 24m 8s\tremaining: 23.5s\n",
      "492:\tlearn: 0.2203995\ttotal: 24m 11s\tremaining: 20.6s\n",
      "493:\tlearn: 0.2201439\ttotal: 24m 14s\tremaining: 17.7s\n",
      "494:\tlearn: 0.2200476\ttotal: 24m 17s\tremaining: 14.7s\n",
      "495:\tlearn: 0.2198506\ttotal: 24m 20s\tremaining: 11.8s\n",
      "496:\tlearn: 0.2196602\ttotal: 24m 23s\tremaining: 8.83s\n",
      "497:\tlearn: 0.2195445\ttotal: 24m 26s\tremaining: 5.89s\n",
      "498:\tlearn: 0.2194501\ttotal: 24m 28s\tremaining: 2.94s\n",
      "499:\tlearn: 0.2192590\ttotal: 24m 31s\tremaining: 0us\n",
      "0.7363250725608395\n",
      "CPU times: user 24min 25s, sys: 37.8 s, total: 25min 3s\n",
      "Wall time: 25min 10s\n"
     ]
    }
   ],
   "source": [
    "%%time\n",
    "short_pred(model)"
   ]
  },
  {
   "cell_type": "markdown",
   "metadata": {},
   "source": [
    "## Выводы"
   ]
  },
  {
   "cell_type": "markdown",
   "metadata": {},
   "source": [
    "С теми ресурсами, которые мне были доступны, я смог подобрать только Логистическую регрессию с балансом весов. Она же и на полной выборке показала результат 0.748. \n",
    "\n",
    "Пробововал ограничивать количество признаков, но на результат это не сильно влияло. Решил урезать исходные данные, чтобы ядро постоянно не падало."
   ]
  },
  {
   "cell_type": "markdown",
   "metadata": {},
   "source": [
    "## Чек-лист проверки"
   ]
  },
  {
   "cell_type": "markdown",
   "metadata": {},
   "source": [
    "- [x]  Jupyter Notebook открыт\n",
    "- [x]  Весь код выполняется без ошибок\n",
    "- [x]  Ячейки с кодом расположены в порядке исполнения\n",
    "- [x]  Данные загружены и подготовлены\n",
    "- [x]  Модели обучены\n",
    "- [x]  Значение метрики *F1* не меньше 0.75\n",
    "- [x]  Выводы написаны"
   ]
  }
 ],
 "metadata": {
  "kernelspec": {
   "display_name": "Python 3",
   "language": "python",
   "name": "python3"
  },
  "language_info": {
   "codemirror_mode": {
    "name": "ipython",
    "version": 3
   },
   "file_extension": ".py",
   "mimetype": "text/x-python",
   "name": "python",
   "nbconvert_exporter": "python",
   "pygments_lexer": "ipython3",
   "version": "3.8.8"
  },
  "toc": {
   "base_numbering": 1,
   "nav_menu": {},
   "number_sections": true,
   "sideBar": true,
   "skip_h1_title": true,
   "title_cell": "Содержание",
   "title_sidebar": "Contents",
   "toc_cell": true,
   "toc_position": {
    "height": "calc(100% - 180px)",
    "left": "10px",
    "top": "150px",
    "width": "302.391px"
   },
   "toc_section_display": true,
   "toc_window_display": false
  }
 },
 "nbformat": 4,
 "nbformat_minor": 2
}
