{
 "cells": [
  {
   "cell_type": "markdown",
   "metadata": {
    "toc": true
   },
   "source": [
    "<h1>Содержание<span class=\"tocSkip\"></span></h1>\n",
    "<div class=\"toc\"><ul class=\"toc-item\"><li><span><a href=\"#Подготовка\" data-toc-modified-id=\"Подготовка-1\"><span class=\"toc-item-num\">1&nbsp;&nbsp;</span>Подготовка</a></span></li><li><span><a href=\"#Анализ\" data-toc-modified-id=\"Анализ-2\"><span class=\"toc-item-num\">2&nbsp;&nbsp;</span>Анализ</a></span></li><li><span><a href=\"#Обучение\" data-toc-modified-id=\"Обучение-3\"><span class=\"toc-item-num\">3&nbsp;&nbsp;</span>Обучение</a></span></li><li><span><a href=\"#Тестирование\" data-toc-modified-id=\"Тестирование-4\"><span class=\"toc-item-num\">4&nbsp;&nbsp;</span>Тестирование</a></span><ul class=\"toc-item\"><li><span><a href=\"#Линейная-регрессия\" data-toc-modified-id=\"Линейная-регрессия-4.1\"><span class=\"toc-item-num\">4.1&nbsp;&nbsp;</span>Линейная регрессия</a></span></li><li><span><a href=\"#LGBMRegressor\" data-toc-modified-id=\"LGBMRegressor-4.2\"><span class=\"toc-item-num\">4.2&nbsp;&nbsp;</span>LGBMRegressor</a></span></li><li><span><a href=\"#Решающее-дерево\" data-toc-modified-id=\"Решающее-дерево-4.3\"><span class=\"toc-item-num\">4.3&nbsp;&nbsp;</span>Решающее дерево</a></span></li><li><span><a href=\"#Решающий-лес\" data-toc-modified-id=\"Решающий-лес-4.4\"><span class=\"toc-item-num\">4.4&nbsp;&nbsp;</span>Решающий лес</a></span></li><li><span><a href=\"#CatBoostRegressor\" data-toc-modified-id=\"CatBoostRegressor-4.5\"><span class=\"toc-item-num\">4.5&nbsp;&nbsp;</span>CatBoostRegressor</a></span></li></ul></li><li><span><a href=\"#Чек-лист-проверки\" data-toc-modified-id=\"Чек-лист-проверки-5\"><span class=\"toc-item-num\">5&nbsp;&nbsp;</span>Чек-лист проверки</a></span></li></ul></div>"
   ]
  },
  {
   "cell_type": "markdown",
   "metadata": {},
   "source": [
    "#  Прогнозирование заказов такси"
   ]
  },
  {
   "cell_type": "markdown",
   "metadata": {},
   "source": [
    "Компания «Чётенькое такси» собрала исторические данные о заказах такси в аэропортах. Чтобы привлекать больше водителей в период пиковой нагрузки, нужно спрогнозировать количество заказов такси на следующий час. Постройте модель для такого предсказания.\n",
    "\n",
    "Значение метрики *RMSE* на тестовой выборке должно быть не больше 48.\n",
    "\n",
    "Вам нужно:\n",
    "\n",
    "1. Загрузить данные и выполнить их ресемплирование по одному часу.\n",
    "2. Проанализировать данные.\n",
    "3. Обучить разные модели с различными гиперпараметрами. Сделать тестовую выборку размером 10% от исходных данных.\n",
    "4. Проверить данные на тестовой выборке и сделать выводы.\n",
    "\n",
    "\n",
    "Данные лежат в файле `taxi.csv`. Количество заказов находится в столбце `num_orders` (от англ. *number of orders*, «число заказов»)."
   ]
  },
  {
   "cell_type": "markdown",
   "metadata": {},
   "source": [
    "## Подготовка"
   ]
  },
  {
   "cell_type": "code",
   "execution_count": 1,
   "metadata": {},
   "outputs": [],
   "source": [
    "import pandas as pd\n",
    "import matplotlib.pyplot as plt\n",
    "from statsmodels.tsa.seasonal import seasonal_decompose\n",
    "from sklearn.model_selection import train_test_split\n",
    "from sklearn.linear_model import LinearRegression\n",
    "from sklearn.metrics import mean_absolute_error\n",
    "from lightgbm import LGBMRegressor\n",
    "from sklearn.tree import DecisionTreeRegressor\n",
    "from sklearn.ensemble import RandomForestRegressor\n",
    "from catboost import CatBoostRegressor\n",
    "from sklearn.metrics import mean_squared_error"
   ]
  },
  {
   "cell_type": "code",
   "execution_count": 2,
   "metadata": {},
   "outputs": [
    {
     "data": {
      "text/html": [
       "<div>\n",
       "<style scoped>\n",
       "    .dataframe tbody tr th:only-of-type {\n",
       "        vertical-align: middle;\n",
       "    }\n",
       "\n",
       "    .dataframe tbody tr th {\n",
       "        vertical-align: top;\n",
       "    }\n",
       "\n",
       "    .dataframe thead th {\n",
       "        text-align: right;\n",
       "    }\n",
       "</style>\n",
       "<table border=\"1\" class=\"dataframe\">\n",
       "  <thead>\n",
       "    <tr style=\"text-align: right;\">\n",
       "      <th></th>\n",
       "      <th>num_orders</th>\n",
       "    </tr>\n",
       "    <tr>\n",
       "      <th>datetime</th>\n",
       "      <th></th>\n",
       "    </tr>\n",
       "  </thead>\n",
       "  <tbody>\n",
       "    <tr>\n",
       "      <td>2018-03-01 00:00:00</td>\n",
       "      <td>9</td>\n",
       "    </tr>\n",
       "    <tr>\n",
       "      <td>2018-03-01 00:10:00</td>\n",
       "      <td>14</td>\n",
       "    </tr>\n",
       "    <tr>\n",
       "      <td>2018-03-01 00:20:00</td>\n",
       "      <td>28</td>\n",
       "    </tr>\n",
       "    <tr>\n",
       "      <td>2018-03-01 00:30:00</td>\n",
       "      <td>20</td>\n",
       "    </tr>\n",
       "    <tr>\n",
       "      <td>2018-03-01 00:40:00</td>\n",
       "      <td>32</td>\n",
       "    </tr>\n",
       "    <tr>\n",
       "      <td>...</td>\n",
       "      <td>...</td>\n",
       "    </tr>\n",
       "    <tr>\n",
       "      <td>2018-08-31 23:10:00</td>\n",
       "      <td>32</td>\n",
       "    </tr>\n",
       "    <tr>\n",
       "      <td>2018-08-31 23:20:00</td>\n",
       "      <td>24</td>\n",
       "    </tr>\n",
       "    <tr>\n",
       "      <td>2018-08-31 23:30:00</td>\n",
       "      <td>27</td>\n",
       "    </tr>\n",
       "    <tr>\n",
       "      <td>2018-08-31 23:40:00</td>\n",
       "      <td>39</td>\n",
       "    </tr>\n",
       "    <tr>\n",
       "      <td>2018-08-31 23:50:00</td>\n",
       "      <td>53</td>\n",
       "    </tr>\n",
       "  </tbody>\n",
       "</table>\n",
       "<p>26496 rows × 1 columns</p>\n",
       "</div>"
      ],
      "text/plain": [
       "                     num_orders\n",
       "datetime                       \n",
       "2018-03-01 00:00:00           9\n",
       "2018-03-01 00:10:00          14\n",
       "2018-03-01 00:20:00          28\n",
       "2018-03-01 00:30:00          20\n",
       "2018-03-01 00:40:00          32\n",
       "...                         ...\n",
       "2018-08-31 23:10:00          32\n",
       "2018-08-31 23:20:00          24\n",
       "2018-08-31 23:30:00          27\n",
       "2018-08-31 23:40:00          39\n",
       "2018-08-31 23:50:00          53\n",
       "\n",
       "[26496 rows x 1 columns]"
      ]
     },
     "execution_count": 2,
     "metadata": {},
     "output_type": "execute_result"
    }
   ],
   "source": [
    "taxi = pd.read_csv('/datasets/taxi.csv', index_col=[0], parse_dates=[0])\n",
    "taxi"
   ]
  },
  {
   "cell_type": "code",
   "execution_count": 3,
   "metadata": {},
   "outputs": [],
   "source": [
    "taxi.sort_index(inplace=True)"
   ]
  },
  {
   "cell_type": "code",
   "execution_count": 4,
   "metadata": {},
   "outputs": [
    {
     "data": {
      "text/plain": [
       "True"
      ]
     },
     "execution_count": 4,
     "metadata": {},
     "output_type": "execute_result"
    }
   ],
   "source": [
    "taxi.index.is_monotonic"
   ]
  },
  {
   "cell_type": "code",
   "execution_count": 5,
   "metadata": {},
   "outputs": [
    {
     "name": "stdout",
     "output_type": "stream",
     "text": [
      "<class 'pandas.core.frame.DataFrame'>\n",
      "DatetimeIndex: 26496 entries, 2018-03-01 00:00:00 to 2018-08-31 23:50:00\n",
      "Data columns (total 1 columns):\n",
      "num_orders    26496 non-null int64\n",
      "dtypes: int64(1)\n",
      "memory usage: 414.0 KB\n"
     ]
    }
   ],
   "source": [
    "taxi.info()"
   ]
  },
  {
   "cell_type": "code",
   "execution_count": 6,
   "metadata": {
    "scrolled": true
   },
   "outputs": [
    {
     "data": {
      "text/html": [
       "<div>\n",
       "<style scoped>\n",
       "    .dataframe tbody tr th:only-of-type {\n",
       "        vertical-align: middle;\n",
       "    }\n",
       "\n",
       "    .dataframe tbody tr th {\n",
       "        vertical-align: top;\n",
       "    }\n",
       "\n",
       "    .dataframe thead th {\n",
       "        text-align: right;\n",
       "    }\n",
       "</style>\n",
       "<table border=\"1\" class=\"dataframe\">\n",
       "  <thead>\n",
       "    <tr style=\"text-align: right;\">\n",
       "      <th></th>\n",
       "      <th>num_orders</th>\n",
       "    </tr>\n",
       "    <tr>\n",
       "      <th>datetime</th>\n",
       "      <th></th>\n",
       "    </tr>\n",
       "  </thead>\n",
       "  <tbody>\n",
       "    <tr>\n",
       "      <td>2018-03-01 00:00:00</td>\n",
       "      <td>124</td>\n",
       "    </tr>\n",
       "    <tr>\n",
       "      <td>2018-03-01 01:00:00</td>\n",
       "      <td>85</td>\n",
       "    </tr>\n",
       "    <tr>\n",
       "      <td>2018-03-01 02:00:00</td>\n",
       "      <td>71</td>\n",
       "    </tr>\n",
       "    <tr>\n",
       "      <td>2018-03-01 03:00:00</td>\n",
       "      <td>66</td>\n",
       "    </tr>\n",
       "    <tr>\n",
       "      <td>2018-03-01 04:00:00</td>\n",
       "      <td>43</td>\n",
       "    </tr>\n",
       "    <tr>\n",
       "      <td>...</td>\n",
       "      <td>...</td>\n",
       "    </tr>\n",
       "    <tr>\n",
       "      <td>2018-08-31 19:00:00</td>\n",
       "      <td>136</td>\n",
       "    </tr>\n",
       "    <tr>\n",
       "      <td>2018-08-31 20:00:00</td>\n",
       "      <td>154</td>\n",
       "    </tr>\n",
       "    <tr>\n",
       "      <td>2018-08-31 21:00:00</td>\n",
       "      <td>159</td>\n",
       "    </tr>\n",
       "    <tr>\n",
       "      <td>2018-08-31 22:00:00</td>\n",
       "      <td>223</td>\n",
       "    </tr>\n",
       "    <tr>\n",
       "      <td>2018-08-31 23:00:00</td>\n",
       "      <td>205</td>\n",
       "    </tr>\n",
       "  </tbody>\n",
       "</table>\n",
       "<p>4416 rows × 1 columns</p>\n",
       "</div>"
      ],
      "text/plain": [
       "                     num_orders\n",
       "datetime                       \n",
       "2018-03-01 00:00:00         124\n",
       "2018-03-01 01:00:00          85\n",
       "2018-03-01 02:00:00          71\n",
       "2018-03-01 03:00:00          66\n",
       "2018-03-01 04:00:00          43\n",
       "...                         ...\n",
       "2018-08-31 19:00:00         136\n",
       "2018-08-31 20:00:00         154\n",
       "2018-08-31 21:00:00         159\n",
       "2018-08-31 22:00:00         223\n",
       "2018-08-31 23:00:00         205\n",
       "\n",
       "[4416 rows x 1 columns]"
      ]
     },
     "execution_count": 6,
     "metadata": {},
     "output_type": "execute_result"
    }
   ],
   "source": [
    "taxi=taxi.resample('1H').sum()\n",
    "taxi"
   ]
  },
  {
   "cell_type": "markdown",
   "metadata": {},
   "source": [
    "Загрузили данные и провели ресемплирование их по одному часу."
   ]
  },
  {
   "cell_type": "markdown",
   "metadata": {},
   "source": [
    "## Анализ"
   ]
  },
  {
   "cell_type": "code",
   "execution_count": 7,
   "metadata": {},
   "outputs": [
    {
     "name": "stdout",
     "output_type": "stream",
     "text": [
      "<class 'pandas.core.frame.DataFrame'>\n",
      "DatetimeIndex: 4416 entries, 2018-03-01 00:00:00 to 2018-08-31 23:00:00\n",
      "Freq: H\n",
      "Data columns (total 1 columns):\n",
      "num_orders    4416 non-null int64\n",
      "dtypes: int64(1)\n",
      "memory usage: 69.0 KB\n"
     ]
    }
   ],
   "source": [
    "taxi.info()"
   ]
  },
  {
   "cell_type": "code",
   "execution_count": 8,
   "metadata": {},
   "outputs": [
    {
     "data": {
      "text/plain": [
       "Text(0.5, 1.0, 'Количество заказов по месяцам')"
      ]
     },
     "execution_count": 8,
     "metadata": {},
     "output_type": "execute_result"
    },
    {
     "data": {
      "image/png": "[encoded data removed]",
      "text/plain": [
       "<Figure size 432x288 with 1 Axes>"
      ]
     },
     "metadata": {
      "needs_background": "light"
     },
     "output_type": "display_data"
    }
   ],
   "source": [
    "taxi.resample('1M').sum().plot()\n",
    "plt.title('Количество заказов по месяцам')"
   ]
  },
  {
   "cell_type": "markdown",
   "metadata": {},
   "source": [
    "Из графика следует, что количество заказов с каждым месяцем постепенно увеличивается, а данные представлены только по нескольким месяцам.\n",
    "\n",
    "Это значит, что номер месяца и года не влияет на количество заказов."
   ]
  },
  {
   "cell_type": "code",
   "execution_count": 9,
   "metadata": {},
   "outputs": [],
   "source": [
    "decomposed = seasonal_decompose(taxi['2018-06-01':'2018-06-15']) "
   ]
  },
  {
   "cell_type": "code",
   "execution_count": 10,
   "metadata": {},
   "outputs": [
    {
     "data": {
      "text/plain": [
       "Text(0.5, 1.0, 'Trend')"
      ]
     },
     "execution_count": 10,
     "metadata": {},
     "output_type": "execute_result"
    },
    {
     "data": {
      "image/png": "[encoded data removed]",
      "text/plain": [
       "<Figure size 432x288 with 1 Axes>"
      ]
     },
     "metadata": {
      "needs_background": "light"
     },
     "output_type": "display_data"
    }
   ],
   "source": [
    "decomposed.trend.plot(ax=plt.gca())\n",
    "plt.title('Trend')"
   ]
  },
  {
   "cell_type": "markdown",
   "metadata": {},
   "source": [
    "Тренд нестабилен, однозназначные выводы сделать нельзя. Количество заказов на второй неделе немного увеличилось."
   ]
  },
  {
   "cell_type": "code",
   "execution_count": 11,
   "metadata": {},
   "outputs": [
    {
     "data": {
      "text/plain": [
       "<matplotlib.axes._subplots.AxesSubplot at 0x7fef064b9a50>"
      ]
     },
     "execution_count": 11,
     "metadata": {},
     "output_type": "execute_result"
    },
    {
     "data": {
      "image/png": "[encoded data removed]",
      "text/plain": [
       "<Figure size 432x288 with 1 Axes>"
      ]
     },
     "metadata": {
      "needs_background": "light"
     },
     "output_type": "display_data"
    }
   ],
   "source": [
    "seasonal_decompose(taxi['2018-06-01':'2018-06-15'].resample('1D').sum()).seasonal.plot()"
   ]
  },
  {
   "cell_type": "markdown",
   "metadata": {},
   "source": [
    "Среди недели количество заказов уменьшается, а в выходные и понедельник достигают пиковых значений."
   ]
  },
  {
   "cell_type": "code",
   "execution_count": 12,
   "metadata": {},
   "outputs": [
    {
     "data": {
      "text/plain": [
       "<matplotlib.axes._subplots.AxesSubplot at 0x7fef0644d710>"
      ]
     },
     "execution_count": 12,
     "metadata": {},
     "output_type": "execute_result"
    },
    {
     "data": {
      "image/png": "[encoded data removed]",
      "text/plain": [
       "<Figure size 432x288 with 1 Axes>"
      ]
     },
     "metadata": {
      "needs_background": "light"
     },
     "output_type": "display_data"
    }
   ],
   "source": [
    "seasonal_decompose(taxi['2018-06-01':'2018-06-02']).seasonal.plot()"
   ]
  },
  {
   "cell_type": "markdown",
   "metadata": {},
   "source": [
    "Большинство заказов приходится на полночь, также есть небольшие увеличения в утренний и вечерний час-пики."
   ]
  },
  {
   "cell_type": "code",
   "execution_count": 13,
   "metadata": {},
   "outputs": [
    {
     "data": {
      "text/plain": [
       "<matplotlib.axes._subplots.AxesSubplot at 0x7fef064572d0>"
      ]
     },
     "execution_count": 13,
     "metadata": {},
     "output_type": "execute_result"
    },
    {
     "data": {
      "image/png": "[encoded data removed]",
      "text/plain": [
       "<Figure size 432x288 with 1 Axes>"
      ]
     },
     "metadata": {
      "needs_background": "light"
     },
     "output_type": "display_data"
    }
   ],
   "source": [
    "new_taxi=taxi.copy()\n",
    "\n",
    "new_taxi['rolling_mean'] = taxi.rolling(20).mean()\n",
    "new_taxi['std'] = taxi['num_orders'].rolling(20).std()\n",
    "new_taxi.plot()"
   ]
  },
  {
   "cell_type": "markdown",
   "metadata": {},
   "source": [
    "Количество заказов, скользящее среднее и стандартная ошибка постепенно увеличиваются. "
   ]
  },
  {
   "cell_type": "code",
   "execution_count": 14,
   "metadata": {},
   "outputs": [
    {
     "data": {
      "text/plain": [
       "Text(0, 0.5, 'Заказы')"
      ]
     },
     "execution_count": 14,
     "metadata": {},
     "output_type": "execute_result"
    },
    {
     "data": {
      "image/png": "[encoded data removed]",
      "text/plain": [
       "<Figure size 432x288 with 1 Axes>"
      ]
     },
     "metadata": {
      "needs_background": "light"
     },
     "output_type": "display_data"
    }
   ],
   "source": [
    "taxi['dayofweek'] = taxi.index.dayofweek\n",
    "taxi.groupby('dayofweek').median().plot()\n",
    "plt.ylabel('Заказы')"
   ]
  },
  {
   "cell_type": "code",
   "execution_count": 15,
   "metadata": {},
   "outputs": [
    {
     "data": {
      "text/plain": [
       "Text(0, 0.5, 'Заказы')"
      ]
     },
     "execution_count": 15,
     "metadata": {},
     "output_type": "execute_result"
    },
    {
     "data": {
      "image/png": "[encoded data removed]",
      "text/plain": [
       "<Figure size 432x288 with 1 Axes>"
      ]
     },
     "metadata": {
      "needs_background": "light"
     },
     "output_type": "display_data"
    }
   ],
   "source": [
    "taxi['hour'] = taxi.index.hour\n",
    "taxi[['hour','num_orders']].groupby('hour').median().plot()\n",
    "plt.ylabel('Заказы')"
   ]
  },
  {
   "cell_type": "markdown",
   "metadata": {},
   "source": [
    "## Обучение"
   ]
  },
  {
   "cell_type": "code",
   "execution_count": 16,
   "metadata": {},
   "outputs": [],
   "source": [
    "def make_features(data, max_lag, rolling_mean_size):\n",
    "    data['hour'] = data.index.hour\n",
    "    data['dayofweek'] = data.index.dayofweek\n",
    "    \n",
    "    for lag in range(1, max_lag + 1):\n",
    "        data['lag_{}'.format(lag)] = data['num_orders'].shift(lag)\n",
    "\n",
    "    data['rolling_mean'] = data['num_orders'].shift().rolling(rolling_mean_size).mean()"
   ]
  },
  {
   "cell_type": "code",
   "execution_count": 17,
   "metadata": {},
   "outputs": [],
   "source": [
    "make_features(taxi,24,10)"
   ]
  },
  {
   "cell_type": "markdown",
   "metadata": {},
   "source": [
    "Не совсем понял как __лучше__ подбирать аргументы для функции. На уме только цикл, который прогоняет все дальнейшие шаги до получения RMSE.\n",
    "\n",
    "Пока выбрал отставание в месяц и смещение в неделю."
   ]
  },
  {
   "cell_type": "code",
   "execution_count": 18,
   "metadata": {
    "scrolled": true
   },
   "outputs": [
    {
     "data": {
      "text/html": [
       "<div>\n",
       "<style scoped>\n",
       "    .dataframe tbody tr th:only-of-type {\n",
       "        vertical-align: middle;\n",
       "    }\n",
       "\n",
       "    .dataframe tbody tr th {\n",
       "        vertical-align: top;\n",
       "    }\n",
       "\n",
       "    .dataframe thead th {\n",
       "        text-align: right;\n",
       "    }\n",
       "</style>\n",
       "<table border=\"1\" class=\"dataframe\">\n",
       "  <thead>\n",
       "    <tr style=\"text-align: right;\">\n",
       "      <th></th>\n",
       "      <th>num_orders</th>\n",
       "      <th>dayofweek</th>\n",
       "      <th>hour</th>\n",
       "      <th>lag_1</th>\n",
       "      <th>lag_2</th>\n",
       "      <th>lag_3</th>\n",
       "      <th>lag_4</th>\n",
       "      <th>lag_5</th>\n",
       "      <th>lag_6</th>\n",
       "      <th>lag_7</th>\n",
       "      <th>...</th>\n",
       "      <th>lag_16</th>\n",
       "      <th>lag_17</th>\n",
       "      <th>lag_18</th>\n",
       "      <th>lag_19</th>\n",
       "      <th>lag_20</th>\n",
       "      <th>lag_21</th>\n",
       "      <th>lag_22</th>\n",
       "      <th>lag_23</th>\n",
       "      <th>lag_24</th>\n",
       "      <th>rolling_mean</th>\n",
       "    </tr>\n",
       "    <tr>\n",
       "      <th>datetime</th>\n",
       "      <th></th>\n",
       "      <th></th>\n",
       "      <th></th>\n",
       "      <th></th>\n",
       "      <th></th>\n",
       "      <th></th>\n",
       "      <th></th>\n",
       "      <th></th>\n",
       "      <th></th>\n",
       "      <th></th>\n",
       "      <th></th>\n",
       "      <th></th>\n",
       "      <th></th>\n",
       "      <th></th>\n",
       "      <th></th>\n",
       "      <th></th>\n",
       "      <th></th>\n",
       "      <th></th>\n",
       "      <th></th>\n",
       "      <th></th>\n",
       "      <th></th>\n",
       "    </tr>\n",
       "  </thead>\n",
       "  <tbody>\n",
       "    <tr>\n",
       "      <td>2018-03-01 00:00:00</td>\n",
       "      <td>124</td>\n",
       "      <td>3</td>\n",
       "      <td>0</td>\n",
       "      <td>NaN</td>\n",
       "      <td>NaN</td>\n",
       "      <td>NaN</td>\n",
       "      <td>NaN</td>\n",
       "      <td>NaN</td>\n",
       "      <td>NaN</td>\n",
       "      <td>NaN</td>\n",
       "      <td>...</td>\n",
       "      <td>NaN</td>\n",
       "      <td>NaN</td>\n",
       "      <td>NaN</td>\n",
       "      <td>NaN</td>\n",
       "      <td>NaN</td>\n",
       "      <td>NaN</td>\n",
       "      <td>NaN</td>\n",
       "      <td>NaN</td>\n",
       "      <td>NaN</td>\n",
       "      <td>NaN</td>\n",
       "    </tr>\n",
       "    <tr>\n",
       "      <td>2018-03-01 01:00:00</td>\n",
       "      <td>85</td>\n",
       "      <td>3</td>\n",
       "      <td>1</td>\n",
       "      <td>124.0</td>\n",
       "      <td>NaN</td>\n",
       "      <td>NaN</td>\n",
       "      <td>NaN</td>\n",
       "      <td>NaN</td>\n",
       "      <td>NaN</td>\n",
       "      <td>NaN</td>\n",
       "      <td>...</td>\n",
       "      <td>NaN</td>\n",
       "      <td>NaN</td>\n",
       "      <td>NaN</td>\n",
       "      <td>NaN</td>\n",
       "      <td>NaN</td>\n",
       "      <td>NaN</td>\n",
       "      <td>NaN</td>\n",
       "      <td>NaN</td>\n",
       "      <td>NaN</td>\n",
       "      <td>NaN</td>\n",
       "    </tr>\n",
       "    <tr>\n",
       "      <td>2018-03-01 02:00:00</td>\n",
       "      <td>71</td>\n",
       "      <td>3</td>\n",
       "      <td>2</td>\n",
       "      <td>85.0</td>\n",
       "      <td>124.0</td>\n",
       "      <td>NaN</td>\n",
       "      <td>NaN</td>\n",
       "      <td>NaN</td>\n",
       "      <td>NaN</td>\n",
       "      <td>NaN</td>\n",
       "      <td>...</td>\n",
       "      <td>NaN</td>\n",
       "      <td>NaN</td>\n",
       "      <td>NaN</td>\n",
       "      <td>NaN</td>\n",
       "      <td>NaN</td>\n",
       "      <td>NaN</td>\n",
       "      <td>NaN</td>\n",
       "      <td>NaN</td>\n",
       "      <td>NaN</td>\n",
       "      <td>NaN</td>\n",
       "    </tr>\n",
       "    <tr>\n",
       "      <td>2018-03-01 03:00:00</td>\n",
       "      <td>66</td>\n",
       "      <td>3</td>\n",
       "      <td>3</td>\n",
       "      <td>71.0</td>\n",
       "      <td>85.0</td>\n",
       "      <td>124.0</td>\n",
       "      <td>NaN</td>\n",
       "      <td>NaN</td>\n",
       "      <td>NaN</td>\n",
       "      <td>NaN</td>\n",
       "      <td>...</td>\n",
       "      <td>NaN</td>\n",
       "      <td>NaN</td>\n",
       "      <td>NaN</td>\n",
       "      <td>NaN</td>\n",
       "      <td>NaN</td>\n",
       "      <td>NaN</td>\n",
       "      <td>NaN</td>\n",
       "      <td>NaN</td>\n",
       "      <td>NaN</td>\n",
       "      <td>NaN</td>\n",
       "    </tr>\n",
       "    <tr>\n",
       "      <td>2018-03-01 04:00:00</td>\n",
       "      <td>43</td>\n",
       "      <td>3</td>\n",
       "      <td>4</td>\n",
       "      <td>66.0</td>\n",
       "      <td>71.0</td>\n",
       "      <td>85.0</td>\n",
       "      <td>124.0</td>\n",
       "      <td>NaN</td>\n",
       "      <td>NaN</td>\n",
       "      <td>NaN</td>\n",
       "      <td>...</td>\n",
       "      <td>NaN</td>\n",
       "      <td>NaN</td>\n",
       "      <td>NaN</td>\n",
       "      <td>NaN</td>\n",
       "      <td>NaN</td>\n",
       "      <td>NaN</td>\n",
       "      <td>NaN</td>\n",
       "      <td>NaN</td>\n",
       "      <td>NaN</td>\n",
       "      <td>NaN</td>\n",
       "    </tr>\n",
       "    <tr>\n",
       "      <td>...</td>\n",
       "      <td>...</td>\n",
       "      <td>...</td>\n",
       "      <td>...</td>\n",
       "      <td>...</td>\n",
       "      <td>...</td>\n",
       "      <td>...</td>\n",
       "      <td>...</td>\n",
       "      <td>...</td>\n",
       "      <td>...</td>\n",
       "      <td>...</td>\n",
       "      <td>...</td>\n",
       "      <td>...</td>\n",
       "      <td>...</td>\n",
       "      <td>...</td>\n",
       "      <td>...</td>\n",
       "      <td>...</td>\n",
       "      <td>...</td>\n",
       "      <td>...</td>\n",
       "      <td>...</td>\n",
       "      <td>...</td>\n",
       "      <td>...</td>\n",
       "    </tr>\n",
       "    <tr>\n",
       "      <td>2018-08-31 19:00:00</td>\n",
       "      <td>136</td>\n",
       "      <td>4</td>\n",
       "      <td>19</td>\n",
       "      <td>207.0</td>\n",
       "      <td>217.0</td>\n",
       "      <td>197.0</td>\n",
       "      <td>116.0</td>\n",
       "      <td>133.0</td>\n",
       "      <td>166.0</td>\n",
       "      <td>136.0</td>\n",
       "      <td>...</td>\n",
       "      <td>99.0</td>\n",
       "      <td>230.0</td>\n",
       "      <td>194.0</td>\n",
       "      <td>276.0</td>\n",
       "      <td>246.0</td>\n",
       "      <td>158.0</td>\n",
       "      <td>198.0</td>\n",
       "      <td>142.0</td>\n",
       "      <td>72.0</td>\n",
       "      <td>173.3</td>\n",
       "    </tr>\n",
       "    <tr>\n",
       "      <td>2018-08-31 20:00:00</td>\n",
       "      <td>154</td>\n",
       "      <td>4</td>\n",
       "      <td>20</td>\n",
       "      <td>136.0</td>\n",
       "      <td>207.0</td>\n",
       "      <td>217.0</td>\n",
       "      <td>197.0</td>\n",
       "      <td>116.0</td>\n",
       "      <td>133.0</td>\n",
       "      <td>166.0</td>\n",
       "      <td>...</td>\n",
       "      <td>268.0</td>\n",
       "      <td>99.0</td>\n",
       "      <td>230.0</td>\n",
       "      <td>194.0</td>\n",
       "      <td>276.0</td>\n",
       "      <td>246.0</td>\n",
       "      <td>158.0</td>\n",
       "      <td>198.0</td>\n",
       "      <td>142.0</td>\n",
       "      <td>166.6</td>\n",
       "    </tr>\n",
       "    <tr>\n",
       "      <td>2018-08-31 21:00:00</td>\n",
       "      <td>159</td>\n",
       "      <td>4</td>\n",
       "      <td>21</td>\n",
       "      <td>154.0</td>\n",
       "      <td>136.0</td>\n",
       "      <td>207.0</td>\n",
       "      <td>217.0</td>\n",
       "      <td>197.0</td>\n",
       "      <td>116.0</td>\n",
       "      <td>133.0</td>\n",
       "      <td>...</td>\n",
       "      <td>78.0</td>\n",
       "      <td>268.0</td>\n",
       "      <td>99.0</td>\n",
       "      <td>230.0</td>\n",
       "      <td>194.0</td>\n",
       "      <td>276.0</td>\n",
       "      <td>246.0</td>\n",
       "      <td>158.0</td>\n",
       "      <td>198.0</td>\n",
       "      <td>162.9</td>\n",
       "    </tr>\n",
       "    <tr>\n",
       "      <td>2018-08-31 22:00:00</td>\n",
       "      <td>223</td>\n",
       "      <td>4</td>\n",
       "      <td>22</td>\n",
       "      <td>159.0</td>\n",
       "      <td>154.0</td>\n",
       "      <td>136.0</td>\n",
       "      <td>207.0</td>\n",
       "      <td>217.0</td>\n",
       "      <td>197.0</td>\n",
       "      <td>116.0</td>\n",
       "      <td>...</td>\n",
       "      <td>35.0</td>\n",
       "      <td>78.0</td>\n",
       "      <td>268.0</td>\n",
       "      <td>99.0</td>\n",
       "      <td>230.0</td>\n",
       "      <td>194.0</td>\n",
       "      <td>276.0</td>\n",
       "      <td>246.0</td>\n",
       "      <td>158.0</td>\n",
       "      <td>162.1</td>\n",
       "    </tr>\n",
       "    <tr>\n",
       "      <td>2018-08-31 23:00:00</td>\n",
       "      <td>205</td>\n",
       "      <td>4</td>\n",
       "      <td>23</td>\n",
       "      <td>223.0</td>\n",
       "      <td>159.0</td>\n",
       "      <td>154.0</td>\n",
       "      <td>136.0</td>\n",
       "      <td>207.0</td>\n",
       "      <td>217.0</td>\n",
       "      <td>197.0</td>\n",
       "      <td>...</td>\n",
       "      <td>46.0</td>\n",
       "      <td>35.0</td>\n",
       "      <td>78.0</td>\n",
       "      <td>268.0</td>\n",
       "      <td>99.0</td>\n",
       "      <td>230.0</td>\n",
       "      <td>194.0</td>\n",
       "      <td>276.0</td>\n",
       "      <td>246.0</td>\n",
       "      <td>170.8</td>\n",
       "    </tr>\n",
       "  </tbody>\n",
       "</table>\n",
       "<p>4416 rows × 28 columns</p>\n",
       "</div>"
      ],
      "text/plain": [
       "                     num_orders  dayofweek  hour  lag_1  lag_2  lag_3  lag_4  \\\n",
       "datetime                                                                       \n",
       "2018-03-01 00:00:00         124          3     0    NaN    NaN    NaN    NaN   \n",
       "2018-03-01 01:00:00          85          3     1  124.0    NaN    NaN    NaN   \n",
       "2018-03-01 02:00:00          71          3     2   85.0  124.0    NaN    NaN   \n",
       "2018-03-01 03:00:00          66          3     3   71.0   85.0  124.0    NaN   \n",
       "2018-03-01 04:00:00          43          3     4   66.0   71.0   85.0  124.0   \n",
       "...                         ...        ...   ...    ...    ...    ...    ...   \n",
       "2018-08-31 19:00:00         136          4    19  207.0  217.0  197.0  116.0   \n",
       "2018-08-31 20:00:00         154          4    20  136.0  207.0  217.0  197.0   \n",
       "2018-08-31 21:00:00         159          4    21  154.0  136.0  207.0  217.0   \n",
       "2018-08-31 22:00:00         223          4    22  159.0  154.0  136.0  207.0   \n",
       "2018-08-31 23:00:00         205          4    23  223.0  159.0  154.0  136.0   \n",
       "\n",
       "                     lag_5  lag_6  lag_7  ...  lag_16  lag_17  lag_18  lag_19  \\\n",
       "datetime                                  ...                                   \n",
       "2018-03-01 00:00:00    NaN    NaN    NaN  ...     NaN     NaN     NaN     NaN   \n",
       "2018-03-01 01:00:00    NaN    NaN    NaN  ...     NaN     NaN     NaN     NaN   \n",
       "2018-03-01 02:00:00    NaN    NaN    NaN  ...     NaN     NaN     NaN     NaN   \n",
       "2018-03-01 03:00:00    NaN    NaN    NaN  ...     NaN     NaN     NaN     NaN   \n",
       "2018-03-01 04:00:00    NaN    NaN    NaN  ...     NaN     NaN     NaN     NaN   \n",
       "...                    ...    ...    ...  ...     ...     ...     ...     ...   \n",
       "2018-08-31 19:00:00  133.0  166.0  136.0  ...    99.0   230.0   194.0   276.0   \n",
       "2018-08-31 20:00:00  116.0  133.0  166.0  ...   268.0    99.0   230.0   194.0   \n",
       "2018-08-31 21:00:00  197.0  116.0  133.0  ...    78.0   268.0    99.0   230.0   \n",
       "2018-08-31 22:00:00  217.0  197.0  116.0  ...    35.0    78.0   268.0    99.0   \n",
       "2018-08-31 23:00:00  207.0  217.0  197.0  ...    46.0    35.0    78.0   268.0   \n",
       "\n",
       "                     lag_20  lag_21  lag_22  lag_23  lag_24  rolling_mean  \n",
       "datetime                                                                   \n",
       "2018-03-01 00:00:00     NaN     NaN     NaN     NaN     NaN           NaN  \n",
       "2018-03-01 01:00:00     NaN     NaN     NaN     NaN     NaN           NaN  \n",
       "2018-03-01 02:00:00     NaN     NaN     NaN     NaN     NaN           NaN  \n",
       "2018-03-01 03:00:00     NaN     NaN     NaN     NaN     NaN           NaN  \n",
       "2018-03-01 04:00:00     NaN     NaN     NaN     NaN     NaN           NaN  \n",
       "...                     ...     ...     ...     ...     ...           ...  \n",
       "2018-08-31 19:00:00   246.0   158.0   198.0   142.0    72.0         173.3  \n",
       "2018-08-31 20:00:00   276.0   246.0   158.0   198.0   142.0         166.6  \n",
       "2018-08-31 21:00:00   194.0   276.0   246.0   158.0   198.0         162.9  \n",
       "2018-08-31 22:00:00   230.0   194.0   276.0   246.0   158.0         162.1  \n",
       "2018-08-31 23:00:00    99.0   230.0   194.0   276.0   246.0         170.8  \n",
       "\n",
       "[4416 rows x 28 columns]"
      ]
     },
     "execution_count": 18,
     "metadata": {},
     "output_type": "execute_result"
    }
   ],
   "source": [
    "taxi"
   ]
  },
  {
   "cell_type": "code",
   "execution_count": 19,
   "metadata": {},
   "outputs": [],
   "source": [
    "train, test = train_test_split(taxi, shuffle=False, test_size=0.1)"
   ]
  },
  {
   "cell_type": "code",
   "execution_count": 20,
   "metadata": {},
   "outputs": [],
   "source": [
    "train = train.dropna()"
   ]
  },
  {
   "cell_type": "code",
   "execution_count": 21,
   "metadata": {},
   "outputs": [],
   "source": [
    "target_train=train['num_orders']\n",
    "target_test=test['num_orders']\n",
    "\n",
    "features_train=train.drop(['num_orders'],axis=1)\n",
    "features_test=test.drop(['num_orders'],axis=1)"
   ]
  },
  {
   "cell_type": "markdown",
   "metadata": {},
   "source": [
    "## Тестирование"
   ]
  },
  {
   "cell_type": "markdown",
   "metadata": {},
   "source": [
    "### Линейная регрессия"
   ]
  },
  {
   "cell_type": "code",
   "execution_count": 22,
   "metadata": {},
   "outputs": [],
   "source": [
    "model=LinearRegression()"
   ]
  },
  {
   "cell_type": "code",
   "execution_count": 23,
   "metadata": {},
   "outputs": [
    {
     "data": {
      "text/plain": [
       "LinearRegression(copy_X=True, fit_intercept=True, n_jobs=None, normalize=False)"
      ]
     },
     "execution_count": 23,
     "metadata": {},
     "output_type": "execute_result"
    }
   ],
   "source": [
    "model.fit(features_train,target_train)"
   ]
  },
  {
   "cell_type": "code",
   "execution_count": 24,
   "metadata": {},
   "outputs": [
    {
     "data": {
      "text/plain": [
       "45.17810654807807"
      ]
     },
     "execution_count": 24,
     "metadata": {},
     "output_type": "execute_result"
    }
   ],
   "source": [
    "predited=model.predict(features_test)\n",
    "mean_squared_error(predited,target_test)**0.5"
   ]
  },
  {
   "cell_type": "markdown",
   "metadata": {},
   "source": [
    "### LGBMRegressor"
   ]
  },
  {
   "cell_type": "code",
   "execution_count": 25,
   "metadata": {},
   "outputs": [],
   "source": [
    "model = LGBMRegressor()"
   ]
  },
  {
   "cell_type": "code",
   "execution_count": 26,
   "metadata": {},
   "outputs": [
    {
     "data": {
      "text/plain": [
       "LGBMRegressor(boosting_type='gbdt', class_weight=None, colsample_bytree=1.0,\n",
       "              importance_type='split', learning_rate=0.1, max_depth=-1,\n",
       "              min_child_samples=20, min_child_weight=0.001, min_split_gain=0.0,\n",
       "              n_estimators=100, n_jobs=-1, num_leaves=31, objective=None,\n",
       "              random_state=None, reg_alpha=0.0, reg_lambda=0.0, silent=True,\n",
       "              subsample=1.0, subsample_for_bin=200000, subsample_freq=0)"
      ]
     },
     "execution_count": 26,
     "metadata": {},
     "output_type": "execute_result"
    }
   ],
   "source": [
    "model.fit(features_train, target_train)"
   ]
  },
  {
   "cell_type": "code",
   "execution_count": 27,
   "metadata": {},
   "outputs": [
    {
     "data": {
      "text/plain": [
       "41.06960396809189"
      ]
     },
     "execution_count": 27,
     "metadata": {},
     "output_type": "execute_result"
    }
   ],
   "source": [
    "predited=model.predict(features_test)\n",
    "mean_squared_error(predited,target_test)**0.5"
   ]
  },
  {
   "cell_type": "markdown",
   "metadata": {},
   "source": [
    "### Решающее дерево"
   ]
  },
  {
   "cell_type": "code",
   "execution_count": 28,
   "metadata": {},
   "outputs": [],
   "source": [
    "model=DecisionTreeRegressor()"
   ]
  },
  {
   "cell_type": "code",
   "execution_count": 29,
   "metadata": {},
   "outputs": [
    {
     "data": {
      "text/plain": [
       "DecisionTreeRegressor(criterion='mse', max_depth=None, max_features=None,\n",
       "                      max_leaf_nodes=None, min_impurity_decrease=0.0,\n",
       "                      min_impurity_split=None, min_samples_leaf=1,\n",
       "                      min_samples_split=2, min_weight_fraction_leaf=0.0,\n",
       "                      presort=False, random_state=None, splitter='best')"
      ]
     },
     "execution_count": 29,
     "metadata": {},
     "output_type": "execute_result"
    }
   ],
   "source": [
    "model.fit(features_train, target_train)"
   ]
  },
  {
   "cell_type": "code",
   "execution_count": 30,
   "metadata": {},
   "outputs": [
    {
     "data": {
      "text/plain": [
       "72.41584287048335"
      ]
     },
     "execution_count": 30,
     "metadata": {},
     "output_type": "execute_result"
    }
   ],
   "source": [
    "predited=model.predict(features_test)\n",
    "mean_squared_error(predited,target_test)**0.5"
   ]
  },
  {
   "cell_type": "markdown",
   "metadata": {},
   "source": [
    "### Решающий лес"
   ]
  },
  {
   "cell_type": "code",
   "execution_count": 31,
   "metadata": {},
   "outputs": [],
   "source": [
    "model=RandomForestRegressor()"
   ]
  },
  {
   "cell_type": "code",
   "execution_count": 32,
   "metadata": {},
   "outputs": [
    {
     "name": "stderr",
     "output_type": "stream",
     "text": [
      "/opt/conda/lib/python3.7/site-packages/sklearn/ensemble/forest.py:245: FutureWarning: The default value of n_estimators will change from 10 in version 0.20 to 100 in 0.22.\n",
      "  \"10 in version 0.20 to 100 in 0.22.\", FutureWarning)\n"
     ]
    },
    {
     "data": {
      "text/plain": [
       "RandomForestRegressor(bootstrap=True, criterion='mse', max_depth=None,\n",
       "                      max_features='auto', max_leaf_nodes=None,\n",
       "                      min_impurity_decrease=0.0, min_impurity_split=None,\n",
       "                      min_samples_leaf=1, min_samples_split=2,\n",
       "                      min_weight_fraction_leaf=0.0, n_estimators=10,\n",
       "                      n_jobs=None, oob_score=False, random_state=None,\n",
       "                      verbose=0, warm_start=False)"
      ]
     },
     "execution_count": 32,
     "metadata": {},
     "output_type": "execute_result"
    }
   ],
   "source": [
    "model.fit(features_train, target_train)"
   ]
  },
  {
   "cell_type": "code",
   "execution_count": 33,
   "metadata": {},
   "outputs": [
    {
     "data": {
      "text/plain": [
       "46.099931046954254"
      ]
     },
     "execution_count": 33,
     "metadata": {},
     "output_type": "execute_result"
    }
   ],
   "source": [
    "predited=model.predict(features_test)\n",
    "mean_squared_error(predited,target_test)**0.5"
   ]
  },
  {
   "cell_type": "markdown",
   "metadata": {},
   "source": [
    "### CatBoostRegressor"
   ]
  },
  {
   "cell_type": "code",
   "execution_count": 34,
   "metadata": {},
   "outputs": [],
   "source": [
    "model = CatBoostRegressor(random_seed=12345,loss_function='RMSE')"
   ]
  },
  {
   "cell_type": "code",
   "execution_count": 35,
   "metadata": {
    "scrolled": true
   },
   "outputs": [
    {
     "name": "stdout",
     "output_type": "stream",
     "text": [
      "0:\tlearn: 38.1484962\ttotal: 51.4ms\tremaining: 51.4s\n",
      "1:\tlearn: 37.6174126\ttotal: 54.9ms\tremaining: 27.4s\n",
      "2:\tlearn: 37.1410005\ttotal: 121ms\tremaining: 40.2s\n",
      "3:\tlearn: 36.6523407\ttotal: 134ms\tremaining: 33.5s\n",
      "4:\tlearn: 36.1994594\ttotal: 146ms\tremaining: 29s\n",
      "5:\tlearn: 35.7401880\ttotal: 223ms\tremaining: 36.9s\n",
      "6:\tlearn: 35.3087242\ttotal: 233ms\tremaining: 33s\n",
      "7:\tlearn: 34.8806836\ttotal: 318ms\tremaining: 39.4s\n",
      "8:\tlearn: 34.4680765\ttotal: 327ms\tremaining: 36s\n",
      "9:\tlearn: 34.0448424\ttotal: 412ms\tremaining: 40.8s\n",
      "10:\tlearn: 33.6312992\ttotal: 423ms\tremaining: 38s\n",
      "11:\tlearn: 33.2668591\ttotal: 434ms\tremaining: 35.8s\n",
      "12:\tlearn: 32.9260369\ttotal: 522ms\tremaining: 39.7s\n",
      "13:\tlearn: 32.5821224\ttotal: 531ms\tremaining: 37.4s\n",
      "14:\tlearn: 32.2186172\ttotal: 613ms\tremaining: 40.3s\n",
      "15:\tlearn: 31.8733699\ttotal: 621ms\tremaining: 38.2s\n",
      "16:\tlearn: 31.5670788\ttotal: 630ms\tremaining: 36.4s\n",
      "17:\tlearn: 31.2752284\ttotal: 715ms\tremaining: 39s\n",
      "18:\tlearn: 30.9748357\ttotal: 730ms\tremaining: 37.7s\n",
      "19:\tlearn: 30.6816140\ttotal: 811ms\tremaining: 39.7s\n",
      "20:\tlearn: 30.4326757\ttotal: 821ms\tremaining: 38.3s\n",
      "21:\tlearn: 30.1848730\ttotal: 904ms\tremaining: 40.2s\n",
      "22:\tlearn: 29.9296934\ttotal: 914ms\tremaining: 38.8s\n",
      "23:\tlearn: 29.7047174\ttotal: 930ms\tremaining: 37.8s\n",
      "24:\tlearn: 29.4741530\ttotal: 1.01s\tremaining: 39.4s\n",
      "25:\tlearn: 29.2774154\ttotal: 1.02s\tremaining: 38.3s\n",
      "26:\tlearn: 29.0617217\ttotal: 1.1s\tremaining: 39.8s\n",
      "27:\tlearn: 28.8818363\ttotal: 1.11s\tremaining: 38.6s\n",
      "28:\tlearn: 28.6730930\ttotal: 1.12s\tremaining: 37.6s\n",
      "29:\tlearn: 28.4624867\ttotal: 1.21s\tremaining: 39.1s\n",
      "30:\tlearn: 28.2600719\ttotal: 1.22s\tremaining: 38.2s\n",
      "31:\tlearn: 28.0879726\ttotal: 1.3s\tremaining: 39.4s\n",
      "32:\tlearn: 27.9185225\ttotal: 1.31s\tremaining: 38.3s\n",
      "33:\tlearn: 27.7341981\ttotal: 1.39s\tremaining: 39.6s\n",
      "34:\tlearn: 27.5830926\ttotal: 1.4s\tremaining: 38.6s\n",
      "35:\tlearn: 27.4122892\ttotal: 1.49s\tremaining: 39.9s\n",
      "36:\tlearn: 27.2687688\ttotal: 1.51s\tremaining: 39.2s\n",
      "37:\tlearn: 27.1361559\ttotal: 1.52s\tremaining: 38.4s\n",
      "38:\tlearn: 26.9938792\ttotal: 1.59s\tremaining: 39.3s\n",
      "39:\tlearn: 26.8541430\ttotal: 1.61s\tremaining: 38.7s\n",
      "40:\tlearn: 26.7263759\ttotal: 1.69s\tremaining: 39.6s\n",
      "41:\tlearn: 26.6095910\ttotal: 1.71s\tremaining: 38.9s\n",
      "42:\tlearn: 26.4687812\ttotal: 1.78s\tremaining: 39.7s\n",
      "43:\tlearn: 26.3412593\ttotal: 1.8s\tremaining: 39.1s\n",
      "44:\tlearn: 26.2394807\ttotal: 1.81s\tremaining: 38.4s\n",
      "45:\tlearn: 26.1060766\ttotal: 1.89s\tremaining: 39.1s\n",
      "46:\tlearn: 26.0121706\ttotal: 1.89s\tremaining: 38.4s\n",
      "47:\tlearn: 25.9116083\ttotal: 1.98s\tremaining: 39.3s\n",
      "48:\tlearn: 25.7986707\ttotal: 1.99s\tremaining: 38.7s\n",
      "49:\tlearn: 25.6981783\ttotal: 2.08s\tremaining: 39.4s\n",
      "50:\tlearn: 25.6040056\ttotal: 2.08s\tremaining: 38.7s\n",
      "51:\tlearn: 25.5170708\ttotal: 2.09s\tremaining: 38.1s\n",
      "52:\tlearn: 25.4136654\ttotal: 2.18s\tremaining: 38.9s\n",
      "53:\tlearn: 25.3399524\ttotal: 2.19s\tremaining: 38.3s\n",
      "54:\tlearn: 25.2457034\ttotal: 2.27s\tremaining: 39s\n",
      "55:\tlearn: 25.1463151\ttotal: 2.28s\tremaining: 38.4s\n",
      "56:\tlearn: 25.0557832\ttotal: 2.29s\tremaining: 37.9s\n",
      "57:\tlearn: 24.9906056\ttotal: 2.38s\tremaining: 38.6s\n",
      "58:\tlearn: 24.9167696\ttotal: 2.39s\tremaining: 38.1s\n",
      "59:\tlearn: 24.8319794\ttotal: 2.47s\tremaining: 38.7s\n",
      "60:\tlearn: 24.7512985\ttotal: 2.48s\tremaining: 38.2s\n",
      "61:\tlearn: 24.6825630\ttotal: 2.57s\tremaining: 38.8s\n",
      "62:\tlearn: 24.6134477\ttotal: 2.58s\tremaining: 38.4s\n",
      "63:\tlearn: 24.5218556\ttotal: 2.59s\tremaining: 37.9s\n",
      "64:\tlearn: 24.4481117\ttotal: 2.67s\tremaining: 38.4s\n",
      "65:\tlearn: 24.3804887\ttotal: 2.68s\tremaining: 37.9s\n",
      "66:\tlearn: 24.3280272\ttotal: 2.76s\tremaining: 38.5s\n",
      "67:\tlearn: 24.2748845\ttotal: 2.77s\tremaining: 38s\n",
      "68:\tlearn: 24.2157831\ttotal: 2.78s\tremaining: 37.5s\n",
      "69:\tlearn: 24.1649529\ttotal: 2.87s\tremaining: 38.1s\n",
      "70:\tlearn: 24.1090056\ttotal: 2.87s\tremaining: 37.6s\n",
      "71:\tlearn: 24.0497181\ttotal: 2.96s\tremaining: 38.2s\n",
      "72:\tlearn: 24.0040844\ttotal: 2.97s\tremaining: 37.7s\n",
      "73:\tlearn: 23.9524079\ttotal: 3.06s\tremaining: 38.3s\n",
      "74:\tlearn: 23.9453094\ttotal: 3.07s\tremaining: 37.8s\n",
      "75:\tlearn: 23.8976859\ttotal: 3.08s\tremaining: 37.4s\n",
      "76:\tlearn: 23.8551557\ttotal: 3.16s\tremaining: 37.9s\n",
      "77:\tlearn: 23.8170622\ttotal: 3.17s\tremaining: 37.5s\n",
      "78:\tlearn: 23.7741259\ttotal: 3.26s\tremaining: 38s\n",
      "79:\tlearn: 23.7070087\ttotal: 3.27s\tremaining: 37.6s\n",
      "80:\tlearn: 23.6688581\ttotal: 3.35s\tremaining: 38.1s\n",
      "81:\tlearn: 23.6294281\ttotal: 3.37s\tremaining: 37.7s\n",
      "82:\tlearn: 23.5939039\ttotal: 3.38s\tremaining: 37.3s\n",
      "83:\tlearn: 23.5369181\ttotal: 3.46s\tremaining: 37.7s\n",
      "84:\tlearn: 23.4977493\ttotal: 3.47s\tremaining: 37.4s\n",
      "85:\tlearn: 23.4820998\ttotal: 3.55s\tremaining: 37.7s\n",
      "86:\tlearn: 23.4599247\ttotal: 3.56s\tremaining: 37.4s\n",
      "87:\tlearn: 23.4187215\ttotal: 3.57s\tremaining: 37s\n",
      "88:\tlearn: 23.3892885\ttotal: 3.65s\tremaining: 37.4s\n",
      "89:\tlearn: 23.3807827\ttotal: 3.66s\tremaining: 37s\n",
      "90:\tlearn: 23.3365243\ttotal: 3.74s\tremaining: 37.4s\n",
      "91:\tlearn: 23.3040386\ttotal: 3.75s\tremaining: 37s\n",
      "92:\tlearn: 23.2697775\ttotal: 3.76s\tremaining: 36.7s\n",
      "93:\tlearn: 23.2310916\ttotal: 3.85s\tremaining: 37.1s\n",
      "94:\tlearn: 23.2007045\ttotal: 3.86s\tremaining: 36.8s\n",
      "95:\tlearn: 23.1734362\ttotal: 3.94s\tremaining: 37.1s\n",
      "96:\tlearn: 23.1305760\ttotal: 3.95s\tremaining: 36.8s\n",
      "97:\tlearn: 23.1173497\ttotal: 3.96s\tremaining: 36.5s\n",
      "98:\tlearn: 23.0812350\ttotal: 4.04s\tremaining: 36.8s\n",
      "99:\tlearn: 23.0451233\ttotal: 4.05s\tremaining: 36.5s\n",
      "100:\tlearn: 23.0390138\ttotal: 4.13s\tremaining: 36.8s\n",
      "101:\tlearn: 22.9914881\ttotal: 4.15s\tremaining: 36.5s\n",
      "102:\tlearn: 22.9637030\ttotal: 4.24s\tremaining: 36.9s\n",
      "103:\tlearn: 22.9306713\ttotal: 4.25s\tremaining: 36.6s\n",
      "104:\tlearn: 22.9040804\ttotal: 4.25s\tremaining: 36.3s\n",
      "105:\tlearn: 22.8698894\ttotal: 4.34s\tremaining: 36.6s\n",
      "106:\tlearn: 22.8620699\ttotal: 4.35s\tremaining: 36.3s\n",
      "107:\tlearn: 22.8523993\ttotal: 4.43s\tremaining: 36.6s\n",
      "108:\tlearn: 22.7955640\ttotal: 4.44s\tremaining: 36.3s\n",
      "109:\tlearn: 22.7690575\ttotal: 4.46s\tremaining: 36.1s\n",
      "110:\tlearn: 22.7638223\ttotal: 4.54s\tremaining: 36.4s\n",
      "111:\tlearn: 22.7578275\ttotal: 4.55s\tremaining: 36.1s\n",
      "112:\tlearn: 22.7526345\ttotal: 4.63s\tremaining: 36.3s\n",
      "113:\tlearn: 22.7234083\ttotal: 4.64s\tremaining: 36s\n",
      "114:\tlearn: 22.6776893\ttotal: 4.72s\tremaining: 36.4s\n",
      "115:\tlearn: 22.6367384\ttotal: 4.74s\tremaining: 36.1s\n",
      "116:\tlearn: 22.6181639\ttotal: 4.75s\tremaining: 35.9s\n",
      "117:\tlearn: 22.5901321\ttotal: 4.83s\tremaining: 36.1s\n",
      "118:\tlearn: 22.5849793\ttotal: 4.84s\tremaining: 35.9s\n",
      "119:\tlearn: 22.5617659\ttotal: 4.92s\tremaining: 36.1s\n",
      "120:\tlearn: 22.5126513\ttotal: 4.93s\tremaining: 35.8s\n",
      "121:\tlearn: 22.4986772\ttotal: 5.01s\tremaining: 36.1s\n",
      "122:\tlearn: 22.4926424\ttotal: 5.03s\tremaining: 35.8s\n",
      "123:\tlearn: 22.4742050\ttotal: 5.11s\tremaining: 36.1s\n",
      "124:\tlearn: 22.4379932\ttotal: 5.12s\tremaining: 35.8s\n",
      "125:\tlearn: 22.4220265\ttotal: 5.12s\tremaining: 35.5s\n",
      "126:\tlearn: 22.4037893\ttotal: 5.21s\tremaining: 35.8s\n",
      "127:\tlearn: 22.3974408\ttotal: 5.22s\tremaining: 35.6s\n",
      "128:\tlearn: 22.3739696\ttotal: 5.31s\tremaining: 35.8s\n",
      "129:\tlearn: 22.3432160\ttotal: 5.32s\tremaining: 35.6s\n",
      "130:\tlearn: 22.3388653\ttotal: 5.4s\tremaining: 35.8s\n",
      "131:\tlearn: 22.3344874\ttotal: 5.42s\tremaining: 35.6s\n",
      "132:\tlearn: 22.3082028\ttotal: 5.43s\tremaining: 35.4s\n",
      "133:\tlearn: 22.2805410\ttotal: 5.51s\tremaining: 35.6s\n",
      "134:\tlearn: 22.2763320\ttotal: 5.52s\tremaining: 35.4s\n",
      "135:\tlearn: 22.2551186\ttotal: 5.6s\tremaining: 35.6s\n",
      "136:\tlearn: 22.2512457\ttotal: 5.61s\tremaining: 35.3s\n",
      "137:\tlearn: 22.2424017\ttotal: 5.62s\tremaining: 35.1s\n",
      "138:\tlearn: 22.2405303\ttotal: 5.7s\tremaining: 35.3s\n",
      "139:\tlearn: 22.2360500\ttotal: 5.71s\tremaining: 35s\n",
      "140:\tlearn: 22.2300349\ttotal: 5.72s\tremaining: 34.9s\n",
      "141:\tlearn: 22.2271030\ttotal: 5.8s\tremaining: 35s\n",
      "142:\tlearn: 22.2235560\ttotal: 5.82s\tremaining: 34.9s\n",
      "143:\tlearn: 22.2057779\ttotal: 5.9s\tremaining: 35.1s\n",
      "144:\tlearn: 22.2016622\ttotal: 5.91s\tremaining: 34.8s\n",
      "145:\tlearn: 22.1980391\ttotal: 5.99s\tremaining: 35s\n",
      "146:\tlearn: 22.1744541\ttotal: 6s\tremaining: 34.8s\n",
      "147:\tlearn: 22.1663002\ttotal: 6.09s\tremaining: 35s\n",
      "148:\tlearn: 22.1635307\ttotal: 6.1s\tremaining: 34.8s\n",
      "149:\tlearn: 22.1570853\ttotal: 6.11s\tremaining: 34.6s\n",
      "150:\tlearn: 22.1218847\ttotal: 6.19s\tremaining: 34.8s\n",
      "151:\tlearn: 22.1152368\ttotal: 6.2s\tremaining: 34.6s\n",
      "152:\tlearn: 22.1116294\ttotal: 6.28s\tremaining: 34.8s\n",
      "153:\tlearn: 22.1072028\ttotal: 6.29s\tremaining: 34.6s\n",
      "154:\tlearn: 22.0833746\ttotal: 6.31s\tremaining: 34.4s\n",
      "155:\tlearn: 22.0716976\ttotal: 6.39s\tremaining: 34.6s\n",
      "156:\tlearn: 22.0669008\ttotal: 6.4s\tremaining: 34.4s\n",
      "157:\tlearn: 22.0538108\ttotal: 6.48s\tremaining: 34.5s\n",
      "158:\tlearn: 22.0298124\ttotal: 6.5s\tremaining: 34.4s\n",
      "159:\tlearn: 22.0104939\ttotal: 6.58s\tremaining: 34.5s\n",
      "160:\tlearn: 21.9797553\ttotal: 6.59s\tremaining: 34.3s\n",
      "161:\tlearn: 21.9550644\ttotal: 6.61s\tremaining: 34.2s\n",
      "162:\tlearn: 21.9525027\ttotal: 6.68s\tremaining: 34.3s\n",
      "163:\tlearn: 21.9290416\ttotal: 6.7s\tremaining: 34.1s\n",
      "164:\tlearn: 21.8949678\ttotal: 6.77s\tremaining: 34.3s\n",
      "165:\tlearn: 21.8784514\ttotal: 6.78s\tremaining: 34.1s\n",
      "166:\tlearn: 21.8730310\ttotal: 6.79s\tremaining: 33.9s\n",
      "167:\tlearn: 21.8463793\ttotal: 6.88s\tremaining: 34s\n",
      "168:\tlearn: 21.8211753\ttotal: 6.89s\tremaining: 33.9s\n",
      "169:\tlearn: 21.8147486\ttotal: 6.97s\tremaining: 34s\n",
      "170:\tlearn: 21.7890153\ttotal: 6.98s\tremaining: 33.8s\n",
      "171:\tlearn: 21.7861638\ttotal: 7s\tremaining: 33.7s\n",
      "172:\tlearn: 21.7620871\ttotal: 7.08s\tremaining: 33.8s\n",
      "173:\tlearn: 21.7365986\ttotal: 7.09s\tremaining: 33.7s\n",
      "174:\tlearn: 21.7102883\ttotal: 7.17s\tremaining: 33.8s\n",
      "175:\tlearn: 21.6674956\ttotal: 7.18s\tremaining: 33.6s\n",
      "176:\tlearn: 21.6549069\ttotal: 7.19s\tremaining: 33.5s\n",
      "177:\tlearn: 21.6387838\ttotal: 7.27s\tremaining: 33.6s\n",
      "178:\tlearn: 21.6182072\ttotal: 7.28s\tremaining: 33.4s\n",
      "179:\tlearn: 21.5980686\ttotal: 7.37s\tremaining: 33.6s\n",
      "180:\tlearn: 21.5754174\ttotal: 7.38s\tremaining: 33.4s\n",
      "181:\tlearn: 21.5730031\ttotal: 7.4s\tremaining: 33.3s\n",
      "182:\tlearn: 21.5605024\ttotal: 7.47s\tremaining: 33.3s\n",
      "183:\tlearn: 21.5428064\ttotal: 7.48s\tremaining: 33.2s\n",
      "184:\tlearn: 21.5298311\ttotal: 7.56s\tremaining: 33.3s\n",
      "185:\tlearn: 21.5048858\ttotal: 7.57s\tremaining: 33.1s\n",
      "186:\tlearn: 21.4853190\ttotal: 7.58s\tremaining: 33s\n",
      "187:\tlearn: 21.4657987\ttotal: 7.66s\tremaining: 33.1s\n",
      "188:\tlearn: 21.4599022\ttotal: 7.67s\tremaining: 32.9s\n",
      "189:\tlearn: 21.4549481\ttotal: 7.75s\tremaining: 33.1s\n",
      "190:\tlearn: 21.4355174\ttotal: 7.77s\tremaining: 32.9s\n",
      "191:\tlearn: 21.4335016\ttotal: 7.78s\tremaining: 32.7s\n",
      "192:\tlearn: 21.4200688\ttotal: 7.86s\tremaining: 32.9s\n",
      "193:\tlearn: 21.4027127\ttotal: 7.87s\tremaining: 32.7s\n",
      "194:\tlearn: 21.3877980\ttotal: 7.96s\tremaining: 32.8s\n",
      "195:\tlearn: 21.3746580\ttotal: 7.97s\tremaining: 32.7s\n",
      "196:\tlearn: 21.3621352\ttotal: 8.05s\tremaining: 32.8s\n",
      "197:\tlearn: 21.3537471\ttotal: 8.06s\tremaining: 32.6s\n",
      "198:\tlearn: 21.3313644\ttotal: 8.07s\tremaining: 32.5s\n",
      "199:\tlearn: 21.3145830\ttotal: 8.15s\tremaining: 32.6s\n",
      "200:\tlearn: 21.2990893\ttotal: 8.16s\tremaining: 32.4s\n",
      "201:\tlearn: 21.2874088\ttotal: 8.25s\tremaining: 32.6s\n",
      "202:\tlearn: 21.2729029\ttotal: 8.26s\tremaining: 32.4s\n",
      "203:\tlearn: 21.2597059\ttotal: 8.27s\tremaining: 32.3s\n",
      "204:\tlearn: 21.2420558\ttotal: 8.35s\tremaining: 32.4s\n",
      "205:\tlearn: 21.2215448\ttotal: 8.36s\tremaining: 32.2s\n",
      "206:\tlearn: 21.2000955\ttotal: 8.44s\tremaining: 32.3s\n",
      "207:\tlearn: 21.1821402\ttotal: 8.45s\tremaining: 32.2s\n",
      "208:\tlearn: 21.1597752\ttotal: 8.46s\tremaining: 32s\n",
      "209:\tlearn: 21.1393047\ttotal: 8.55s\tremaining: 32.1s\n",
      "210:\tlearn: 21.1195940\ttotal: 8.56s\tremaining: 32s\n",
      "211:\tlearn: 21.1049895\ttotal: 8.64s\tremaining: 32.1s\n",
      "212:\tlearn: 21.0849816\ttotal: 8.65s\tremaining: 31.9s\n",
      "213:\tlearn: 21.0787323\ttotal: 8.74s\tremaining: 32.1s\n",
      "214:\tlearn: 21.0710546\ttotal: 8.75s\tremaining: 31.9s\n",
      "215:\tlearn: 21.0500170\ttotal: 8.83s\tremaining: 32.1s\n",
      "216:\tlearn: 21.0341916\ttotal: 8.85s\tremaining: 31.9s\n",
      "217:\tlearn: 21.0189879\ttotal: 8.86s\tremaining: 31.8s\n",
      "218:\tlearn: 21.0008059\ttotal: 8.94s\tremaining: 31.9s\n",
      "219:\tlearn: 20.9802746\ttotal: 8.95s\tremaining: 31.7s\n",
      "220:\tlearn: 20.9612977\ttotal: 9.03s\tremaining: 31.8s\n",
      "221:\tlearn: 20.9459789\ttotal: 9.04s\tremaining: 31.7s\n",
      "222:\tlearn: 20.9360145\ttotal: 9.13s\tremaining: 31.8s\n",
      "223:\tlearn: 20.9238592\ttotal: 9.16s\tremaining: 31.7s\n",
      "224:\tlearn: 20.9017555\ttotal: 9.23s\tremaining: 31.8s\n",
      "225:\tlearn: 20.8928592\ttotal: 9.24s\tremaining: 31.6s\n",
      "226:\tlearn: 20.8910008\ttotal: 9.24s\tremaining: 31.5s\n",
      "227:\tlearn: 20.8751851\ttotal: 9.33s\tremaining: 31.6s\n",
      "228:\tlearn: 20.8559651\ttotal: 9.34s\tremaining: 31.4s\n",
      "229:\tlearn: 20.8435897\ttotal: 9.42s\tremaining: 31.5s\n",
      "230:\tlearn: 20.8284932\ttotal: 9.43s\tremaining: 31.4s\n",
      "231:\tlearn: 20.8206121\ttotal: 9.44s\tremaining: 31.2s\n",
      "232:\tlearn: 20.8103608\ttotal: 9.52s\tremaining: 31.3s\n",
      "233:\tlearn: 20.7940484\ttotal: 9.53s\tremaining: 31.2s\n",
      "234:\tlearn: 20.7737037\ttotal: 9.62s\tremaining: 31.3s\n",
      "235:\tlearn: 20.7653984\ttotal: 9.63s\tremaining: 31.2s\n",
      "236:\tlearn: 20.7549638\ttotal: 9.64s\tremaining: 31.1s\n",
      "237:\tlearn: 20.7420073\ttotal: 9.73s\tremaining: 31.1s\n",
      "238:\tlearn: 20.7245894\ttotal: 9.74s\tremaining: 31s\n",
      "239:\tlearn: 20.7117499\ttotal: 9.82s\tremaining: 31.1s\n",
      "240:\tlearn: 20.7029976\ttotal: 9.83s\tremaining: 30.9s\n",
      "241:\tlearn: 20.6918698\ttotal: 9.91s\tremaining: 31s\n",
      "242:\tlearn: 20.6756127\ttotal: 9.92s\tremaining: 30.9s\n",
      "243:\tlearn: 20.6676281\ttotal: 9.93s\tremaining: 30.8s\n",
      "244:\tlearn: 20.6581453\ttotal: 10s\tremaining: 30.9s\n",
      "245:\tlearn: 20.6393492\ttotal: 10s\tremaining: 30.7s\n",
      "246:\tlearn: 20.6217140\ttotal: 10.1s\tremaining: 30.8s\n",
      "247:\tlearn: 20.6031563\ttotal: 10.1s\tremaining: 30.7s\n",
      "248:\tlearn: 20.5972424\ttotal: 10.1s\tremaining: 30.5s\n",
      "249:\tlearn: 20.5729796\ttotal: 10.2s\tremaining: 30.6s\n",
      "250:\tlearn: 20.5674024\ttotal: 10.2s\tremaining: 30.5s\n",
      "251:\tlearn: 20.5506815\ttotal: 10.3s\tremaining: 30.6s\n",
      "252:\tlearn: 20.5447354\ttotal: 10.3s\tremaining: 30.5s\n",
      "253:\tlearn: 20.5310192\ttotal: 10.4s\tremaining: 30.6s\n",
      "254:\tlearn: 20.5241904\ttotal: 10.4s\tremaining: 30.4s\n",
      "255:\tlearn: 20.5110542\ttotal: 10.5s\tremaining: 30.5s\n",
      "256:\tlearn: 20.5022216\ttotal: 10.5s\tremaining: 30.4s\n",
      "257:\tlearn: 20.4819153\ttotal: 10.5s\tremaining: 30.3s\n",
      "258:\tlearn: 20.4578308\ttotal: 10.6s\tremaining: 30.3s\n",
      "259:\tlearn: 20.4565686\ttotal: 10.6s\tremaining: 30.2s\n",
      "260:\tlearn: 20.4444633\ttotal: 10.6s\tremaining: 30.1s\n",
      "261:\tlearn: 20.4299565\ttotal: 10.7s\tremaining: 30.1s\n",
      "262:\tlearn: 20.4152978\ttotal: 10.7s\tremaining: 30s\n",
      "263:\tlearn: 20.3941884\ttotal: 10.8s\tremaining: 30.1s\n",
      "264:\tlearn: 20.3846970\ttotal: 10.8s\tremaining: 30s\n",
      "265:\tlearn: 20.3713811\ttotal: 10.8s\tremaining: 29.9s\n",
      "266:\tlearn: 20.3561731\ttotal: 10.9s\tremaining: 29.9s\n",
      "267:\tlearn: 20.3482972\ttotal: 10.9s\tremaining: 29.8s\n",
      "268:\tlearn: 20.3296406\ttotal: 11s\tremaining: 29.9s\n",
      "269:\tlearn: 20.3113897\ttotal: 11s\tremaining: 29.7s\n",
      "270:\tlearn: 20.2866239\ttotal: 11s\tremaining: 29.6s\n",
      "271:\tlearn: 20.2758055\ttotal: 11.1s\tremaining: 29.7s\n",
      "272:\tlearn: 20.2563766\ttotal: 11.1s\tremaining: 29.6s\n",
      "273:\tlearn: 20.2370878\ttotal: 11.2s\tremaining: 29.6s\n",
      "274:\tlearn: 20.2179672\ttotal: 11.2s\tremaining: 29.5s\n",
      "275:\tlearn: 20.2140691\ttotal: 11.2s\tremaining: 29.4s\n",
      "276:\tlearn: 20.2010641\ttotal: 11.3s\tremaining: 29.5s\n",
      "277:\tlearn: 20.1924360\ttotal: 11.3s\tremaining: 29.4s\n",
      "278:\tlearn: 20.1814058\ttotal: 11.4s\tremaining: 29.4s\n",
      "279:\tlearn: 20.1609915\ttotal: 11.4s\tremaining: 29.3s\n",
      "280:\tlearn: 20.1448339\ttotal: 11.5s\tremaining: 29.4s\n",
      "281:\tlearn: 20.1406659\ttotal: 11.5s\tremaining: 29.3s\n",
      "282:\tlearn: 20.1253804\ttotal: 11.6s\tremaining: 29.3s\n",
      "283:\tlearn: 20.1154660\ttotal: 11.6s\tremaining: 29.2s\n",
      "284:\tlearn: 20.0968592\ttotal: 11.6s\tremaining: 29.1s\n",
      "285:\tlearn: 20.0881148\ttotal: 11.7s\tremaining: 29.2s\n",
      "286:\tlearn: 20.0742542\ttotal: 11.7s\tremaining: 29s\n",
      "287:\tlearn: 20.0574102\ttotal: 11.8s\tremaining: 29.1s\n",
      "288:\tlearn: 20.0465167\ttotal: 11.8s\tremaining: 29s\n",
      "289:\tlearn: 20.0286234\ttotal: 11.8s\tremaining: 28.9s\n",
      "290:\tlearn: 20.0116779\ttotal: 11.9s\tremaining: 28.9s\n",
      "291:\tlearn: 19.9909108\ttotal: 11.9s\tremaining: 28.8s\n",
      "292:\tlearn: 19.9726096\ttotal: 11.9s\tremaining: 28.7s\n",
      "293:\tlearn: 19.9568218\ttotal: 12s\tremaining: 28.8s\n",
      "294:\tlearn: 19.9408093\ttotal: 12s\tremaining: 28.6s\n",
      "295:\tlearn: 19.9327984\ttotal: 12.1s\tremaining: 28.7s\n",
      "296:\tlearn: 19.9294900\ttotal: 12.1s\tremaining: 28.6s\n",
      "297:\tlearn: 19.9203900\ttotal: 12.2s\tremaining: 28.7s\n",
      "298:\tlearn: 19.9158489\ttotal: 12.2s\tremaining: 28.6s\n",
      "299:\tlearn: 19.9106706\ttotal: 12.2s\tremaining: 28.4s\n",
      "300:\tlearn: 19.9024097\ttotal: 12.3s\tremaining: 28.5s\n",
      "301:\tlearn: 19.8914546\ttotal: 12.3s\tremaining: 28.4s\n",
      "302:\tlearn: 19.8892464\ttotal: 12.4s\tremaining: 28.4s\n",
      "303:\tlearn: 19.8842348\ttotal: 12.4s\tremaining: 28.3s\n",
      "304:\tlearn: 19.8790883\ttotal: 12.4s\tremaining: 28.2s\n",
      "305:\tlearn: 19.8726765\ttotal: 12.5s\tremaining: 28.3s\n",
      "306:\tlearn: 19.8660755\ttotal: 12.5s\tremaining: 28.2s\n",
      "307:\tlearn: 19.8594237\ttotal: 12.5s\tremaining: 28.1s\n",
      "308:\tlearn: 19.8524063\ttotal: 12.6s\tremaining: 28.1s\n",
      "309:\tlearn: 19.8360117\ttotal: 12.6s\tremaining: 28s\n",
      "310:\tlearn: 19.8233283\ttotal: 12.7s\tremaining: 28.1s\n",
      "311:\tlearn: 19.8189953\ttotal: 12.7s\tremaining: 27.9s\n",
      "312:\tlearn: 19.8078379\ttotal: 12.7s\tremaining: 27.8s\n",
      "313:\tlearn: 19.7886019\ttotal: 12.8s\tremaining: 27.9s\n",
      "314:\tlearn: 19.7721656\ttotal: 12.8s\tremaining: 27.8s\n",
      "315:\tlearn: 19.7653469\ttotal: 12.9s\tremaining: 27.8s\n",
      "316:\tlearn: 19.7599362\ttotal: 12.9s\tremaining: 27.7s\n",
      "317:\tlearn: 19.7425303\ttotal: 13s\tremaining: 27.8s\n",
      "318:\tlearn: 19.7399730\ttotal: 13s\tremaining: 27.7s\n",
      "319:\tlearn: 19.7378709\ttotal: 13.1s\tremaining: 27.7s\n",
      "320:\tlearn: 19.7248150\ttotal: 13.1s\tremaining: 27.6s\n",
      "321:\tlearn: 19.7165242\ttotal: 13.2s\tremaining: 27.7s\n",
      "322:\tlearn: 19.7012418\ttotal: 13.2s\tremaining: 27.6s\n",
      "323:\tlearn: 19.6983584\ttotal: 13.2s\tremaining: 27.6s\n",
      "324:\tlearn: 19.6848151\ttotal: 13.3s\tremaining: 27.5s\n",
      "325:\tlearn: 19.6724855\ttotal: 13.3s\tremaining: 27.4s\n",
      "326:\tlearn: 19.6544973\ttotal: 13.4s\tremaining: 27.5s\n",
      "327:\tlearn: 19.6465826\ttotal: 13.4s\tremaining: 27.4s\n",
      "328:\tlearn: 19.6435959\ttotal: 13.4s\tremaining: 27.4s\n",
      "329:\tlearn: 19.6257079\ttotal: 13.5s\tremaining: 27.3s\n",
      "330:\tlearn: 19.6143832\ttotal: 13.5s\tremaining: 27.2s\n",
      "331:\tlearn: 19.6049574\ttotal: 13.5s\tremaining: 27.3s\n",
      "332:\tlearn: 19.5970339\ttotal: 13.6s\tremaining: 27.2s\n",
      "333:\tlearn: 19.5815695\ttotal: 13.6s\tremaining: 27.2s\n",
      "334:\tlearn: 19.5769388\ttotal: 13.7s\tremaining: 27.1s\n",
      "335:\tlearn: 19.5638977\ttotal: 13.7s\tremaining: 27s\n",
      "336:\tlearn: 19.5501940\ttotal: 13.7s\tremaining: 27s\n",
      "337:\tlearn: 19.5405263\ttotal: 13.8s\tremaining: 26.9s\n",
      "338:\tlearn: 19.5260502\ttotal: 13.8s\tremaining: 27s\n",
      "339:\tlearn: 19.5184604\ttotal: 13.8s\tremaining: 26.9s\n",
      "340:\tlearn: 19.4977388\ttotal: 13.9s\tremaining: 26.9s\n",
      "341:\tlearn: 19.4953001\ttotal: 13.9s\tremaining: 26.8s\n",
      "342:\tlearn: 19.4823375\ttotal: 14s\tremaining: 26.7s\n",
      "343:\tlearn: 19.4679676\ttotal: 14s\tremaining: 26.8s\n",
      "344:\tlearn: 19.4489666\ttotal: 14s\tremaining: 26.7s\n",
      "345:\tlearn: 19.4330416\ttotal: 14.1s\tremaining: 26.7s\n",
      "346:\tlearn: 19.4224859\ttotal: 14.1s\tremaining: 26.6s\n",
      "347:\tlearn: 19.4047851\ttotal: 14.2s\tremaining: 26.7s\n",
      "348:\tlearn: 19.3886648\ttotal: 14.2s\tremaining: 26.6s\n",
      "349:\tlearn: 19.3747709\ttotal: 14.2s\tremaining: 26.5s\n",
      "350:\tlearn: 19.3509414\ttotal: 14.3s\tremaining: 26.5s\n",
      "351:\tlearn: 19.3333251\ttotal: 14.3s\tremaining: 26.4s\n",
      "352:\tlearn: 19.3261984\ttotal: 14.4s\tremaining: 26.4s\n",
      "353:\tlearn: 19.3196901\ttotal: 14.4s\tremaining: 26.3s\n",
      "354:\tlearn: 19.3038067\ttotal: 14.4s\tremaining: 26.2s\n",
      "355:\tlearn: 19.2871291\ttotal: 14.5s\tremaining: 26.3s\n",
      "356:\tlearn: 19.2777288\ttotal: 14.5s\tremaining: 26.2s\n",
      "357:\tlearn: 19.2662753\ttotal: 14.6s\tremaining: 26.2s\n",
      "358:\tlearn: 19.2532500\ttotal: 14.6s\tremaining: 26.1s\n",
      "359:\tlearn: 19.2385955\ttotal: 14.7s\tremaining: 26.2s\n",
      "360:\tlearn: 19.2261071\ttotal: 14.7s\tremaining: 26.1s\n",
      "361:\tlearn: 19.2115881\ttotal: 14.7s\tremaining: 26s\n",
      "362:\tlearn: 19.1978174\ttotal: 14.8s\tremaining: 26s\n",
      "363:\tlearn: 19.1850039\ttotal: 14.8s\tremaining: 25.9s\n",
      "364:\tlearn: 19.1837198\ttotal: 14.8s\tremaining: 25.8s\n",
      "365:\tlearn: 19.1750901\ttotal: 14.9s\tremaining: 25.8s\n",
      "366:\tlearn: 19.1535488\ttotal: 14.9s\tremaining: 25.8s\n",
      "367:\tlearn: 19.1440836\ttotal: 15s\tremaining: 25.8s\n",
      "368:\tlearn: 19.1408788\ttotal: 15s\tremaining: 25.7s\n",
      "369:\tlearn: 19.1333799\ttotal: 15.1s\tremaining: 25.7s\n",
      "370:\tlearn: 19.1242039\ttotal: 15.1s\tremaining: 25.6s\n",
      "371:\tlearn: 19.1050290\ttotal: 15.1s\tremaining: 25.5s\n",
      "372:\tlearn: 19.0893293\ttotal: 15.2s\tremaining: 25.6s\n",
      "373:\tlearn: 19.0835467\ttotal: 15.2s\tremaining: 25.5s\n",
      "374:\tlearn: 19.0678234\ttotal: 15.3s\tremaining: 25.5s\n",
      "375:\tlearn: 19.0554199\ttotal: 15.3s\tremaining: 25.4s\n",
      "376:\tlearn: 19.0479044\ttotal: 15.4s\tremaining: 25.5s\n",
      "377:\tlearn: 19.0372601\ttotal: 15.4s\tremaining: 25.4s\n",
      "378:\tlearn: 19.0282659\ttotal: 15.4s\tremaining: 25.3s\n",
      "379:\tlearn: 19.0136538\ttotal: 15.5s\tremaining: 25.3s\n",
      "380:\tlearn: 19.0123548\ttotal: 15.5s\tremaining: 25.2s\n",
      "381:\tlearn: 18.9932322\ttotal: 15.6s\tremaining: 25.2s\n",
      "382:\tlearn: 18.9924186\ttotal: 15.6s\tremaining: 25.2s\n",
      "383:\tlearn: 18.9912923\ttotal: 15.6s\tremaining: 25.1s\n",
      "384:\tlearn: 18.9762748\ttotal: 15.7s\tremaining: 25.1s\n",
      "385:\tlearn: 18.9598228\ttotal: 15.7s\tremaining: 25s\n",
      "386:\tlearn: 18.9468550\ttotal: 15.7s\tremaining: 24.9s\n",
      "387:\tlearn: 18.9276769\ttotal: 15.8s\tremaining: 24.9s\n",
      "388:\tlearn: 18.9198862\ttotal: 15.8s\tremaining: 24.9s\n",
      "389:\tlearn: 18.9180443\ttotal: 15.9s\tremaining: 24.9s\n",
      "390:\tlearn: 18.9164788\ttotal: 15.9s\tremaining: 24.8s\n",
      "391:\tlearn: 18.9018023\ttotal: 15.9s\tremaining: 24.7s\n",
      "392:\tlearn: 18.8888794\ttotal: 16s\tremaining: 24.7s\n",
      "393:\tlearn: 18.8853876\ttotal: 16s\tremaining: 24.6s\n",
      "394:\tlearn: 18.8844961\ttotal: 16.1s\tremaining: 24.6s\n",
      "395:\tlearn: 18.8782349\ttotal: 16.1s\tremaining: 24.6s\n",
      "396:\tlearn: 18.8593593\ttotal: 16.1s\tremaining: 24.5s\n",
      "397:\tlearn: 18.8442171\ttotal: 16.2s\tremaining: 24.5s\n",
      "398:\tlearn: 18.8331574\ttotal: 16.2s\tremaining: 24.4s\n",
      "399:\tlearn: 18.8166442\ttotal: 16.3s\tremaining: 24.4s\n",
      "400:\tlearn: 18.8085211\ttotal: 16.3s\tremaining: 24.4s\n",
      "401:\tlearn: 18.7998497\ttotal: 16.4s\tremaining: 24.4s\n",
      "402:\tlearn: 18.7862705\ttotal: 16.4s\tremaining: 24.3s\n",
      "403:\tlearn: 18.7758273\ttotal: 16.4s\tremaining: 24.2s\n",
      "404:\tlearn: 18.7616696\ttotal: 16.5s\tremaining: 24.2s\n",
      "405:\tlearn: 18.7509055\ttotal: 16.5s\tremaining: 24.1s\n",
      "406:\tlearn: 18.7500697\ttotal: 16.6s\tremaining: 24.2s\n",
      "407:\tlearn: 18.7399618\ttotal: 16.6s\tremaining: 24.1s\n",
      "408:\tlearn: 18.7234374\ttotal: 16.6s\tremaining: 24s\n",
      "409:\tlearn: 18.7115609\ttotal: 16.7s\tremaining: 24s\n",
      "410:\tlearn: 18.6997960\ttotal: 16.7s\tremaining: 23.9s\n",
      "411:\tlearn: 18.6960275\ttotal: 16.8s\tremaining: 24s\n",
      "412:\tlearn: 18.6845007\ttotal: 16.8s\tremaining: 23.9s\n",
      "413:\tlearn: 18.6692634\ttotal: 16.8s\tremaining: 23.8s\n",
      "414:\tlearn: 18.6682575\ttotal: 16.9s\tremaining: 23.8s\n",
      "415:\tlearn: 18.6613683\ttotal: 16.9s\tremaining: 23.7s\n",
      "416:\tlearn: 18.6489650\ttotal: 17s\tremaining: 23.7s\n",
      "417:\tlearn: 18.6429735\ttotal: 17s\tremaining: 23.7s\n",
      "418:\tlearn: 18.6309539\ttotal: 17.1s\tremaining: 23.7s\n",
      "419:\tlearn: 18.6224672\ttotal: 17.1s\tremaining: 23.6s\n",
      "420:\tlearn: 18.6103509\ttotal: 17.1s\tremaining: 23.5s\n",
      "421:\tlearn: 18.5957092\ttotal: 17.2s\tremaining: 23.5s\n",
      "422:\tlearn: 18.5933828\ttotal: 17.2s\tremaining: 23.4s\n",
      "423:\tlearn: 18.5924831\ttotal: 17.3s\tremaining: 23.5s\n",
      "424:\tlearn: 18.5783248\ttotal: 17.3s\tremaining: 23.4s\n",
      "425:\tlearn: 18.5630026\ttotal: 17.3s\tremaining: 23.3s\n",
      "426:\tlearn: 18.5507696\ttotal: 17.4s\tremaining: 23.3s\n",
      "427:\tlearn: 18.5415774\ttotal: 17.4s\tremaining: 23.2s\n",
      "428:\tlearn: 18.5246213\ttotal: 17.5s\tremaining: 23.3s\n",
      "429:\tlearn: 18.5096104\ttotal: 17.5s\tremaining: 23.2s\n",
      "430:\tlearn: 18.4950833\ttotal: 17.5s\tremaining: 23.1s\n",
      "431:\tlearn: 18.4811346\ttotal: 17.6s\tremaining: 23.1s\n",
      "432:\tlearn: 18.4678396\ttotal: 17.6s\tremaining: 23s\n",
      "433:\tlearn: 18.4566109\ttotal: 17.7s\tremaining: 23s\n",
      "434:\tlearn: 18.4481883\ttotal: 17.7s\tremaining: 23s\n",
      "435:\tlearn: 18.4411645\ttotal: 17.7s\tremaining: 22.9s\n",
      "436:\tlearn: 18.4294644\ttotal: 17.8s\tremaining: 22.9s\n",
      "437:\tlearn: 18.4193480\ttotal: 17.8s\tremaining: 22.8s\n",
      "438:\tlearn: 18.4181439\ttotal: 17.9s\tremaining: 22.8s\n",
      "439:\tlearn: 18.4057664\ttotal: 17.9s\tremaining: 22.7s\n",
      "440:\tlearn: 18.3925772\ttotal: 18s\tremaining: 22.8s\n",
      "441:\tlearn: 18.3806281\ttotal: 18s\tremaining: 22.7s\n",
      "442:\tlearn: 18.3682345\ttotal: 18s\tremaining: 22.6s\n",
      "443:\tlearn: 18.3613668\ttotal: 18.1s\tremaining: 22.6s\n",
      "444:\tlearn: 18.3461890\ttotal: 18.1s\tremaining: 22.5s\n",
      "445:\tlearn: 18.3365634\ttotal: 18.2s\tremaining: 22.6s\n",
      "446:\tlearn: 18.3334883\ttotal: 18.2s\tremaining: 22.5s\n",
      "447:\tlearn: 18.3247146\ttotal: 18.2s\tremaining: 22.4s\n",
      "448:\tlearn: 18.3238241\ttotal: 18.3s\tremaining: 22.4s\n",
      "449:\tlearn: 18.3132348\ttotal: 18.3s\tremaining: 22.3s\n",
      "450:\tlearn: 18.3058990\ttotal: 18.4s\tremaining: 22.3s\n",
      "451:\tlearn: 18.2952070\ttotal: 18.4s\tremaining: 22.3s\n",
      "452:\tlearn: 18.2793908\ttotal: 18.5s\tremaining: 22.3s\n",
      "453:\tlearn: 18.2687994\ttotal: 18.5s\tremaining: 22.2s\n",
      "454:\tlearn: 18.2558721\ttotal: 18.5s\tremaining: 22.1s\n",
      "455:\tlearn: 18.2508160\ttotal: 18.6s\tremaining: 22.1s\n",
      "456:\tlearn: 18.2449451\ttotal: 18.6s\tremaining: 22.1s\n",
      "457:\tlearn: 18.2295133\ttotal: 18.7s\tremaining: 22.1s\n",
      "458:\tlearn: 18.2129180\ttotal: 18.7s\tremaining: 22s\n",
      "459:\tlearn: 18.2004655\ttotal: 18.7s\tremaining: 22s\n",
      "460:\tlearn: 18.1852374\ttotal: 18.8s\tremaining: 21.9s\n",
      "461:\tlearn: 18.1713091\ttotal: 18.8s\tremaining: 21.9s\n",
      "462:\tlearn: 18.1696993\ttotal: 18.9s\tremaining: 21.9s\n",
      "463:\tlearn: 18.1555629\ttotal: 18.9s\tremaining: 21.8s\n",
      "464:\tlearn: 18.1418666\ttotal: 18.9s\tremaining: 21.8s\n",
      "465:\tlearn: 18.1254507\ttotal: 19s\tremaining: 21.7s\n",
      "466:\tlearn: 18.1237560\ttotal: 19s\tremaining: 21.6s\n",
      "467:\tlearn: 18.1088318\ttotal: 19s\tremaining: 21.7s\n",
      "468:\tlearn: 18.0910259\ttotal: 19.1s\tremaining: 21.6s\n",
      "469:\tlearn: 18.0898596\ttotal: 19.1s\tremaining: 21.6s\n",
      "470:\tlearn: 18.0883110\ttotal: 19.2s\tremaining: 21.5s\n",
      "471:\tlearn: 18.0780590\ttotal: 19.2s\tremaining: 21.5s\n",
      "472:\tlearn: 18.0651972\ttotal: 19.2s\tremaining: 21.4s\n",
      "473:\tlearn: 18.0524892\ttotal: 19.3s\tremaining: 21.5s\n",
      "474:\tlearn: 18.0382926\ttotal: 19.3s\tremaining: 21.4s\n",
      "475:\tlearn: 18.0235495\ttotal: 19.4s\tremaining: 21.3s\n",
      "476:\tlearn: 18.0223840\ttotal: 19.4s\tremaining: 21.3s\n",
      "477:\tlearn: 18.0197234\ttotal: 19.5s\tremaining: 21.2s\n",
      "478:\tlearn: 18.0062096\ttotal: 19.5s\tremaining: 21.2s\n",
      "479:\tlearn: 17.9891723\ttotal: 19.5s\tremaining: 21.2s\n",
      "480:\tlearn: 17.9775541\ttotal: 19.5s\tremaining: 21.1s\n",
      "481:\tlearn: 17.9667582\ttotal: 19.6s\tremaining: 21.1s\n",
      "482:\tlearn: 17.9518229\ttotal: 19.6s\tremaining: 21s\n",
      "483:\tlearn: 17.9366849\ttotal: 19.7s\tremaining: 21s\n",
      "484:\tlearn: 17.9250946\ttotal: 19.7s\tremaining: 21s\n",
      "485:\tlearn: 17.9145602\ttotal: 19.7s\tremaining: 20.9s\n",
      "486:\tlearn: 17.9023637\ttotal: 19.8s\tremaining: 20.9s\n",
      "487:\tlearn: 17.8908334\ttotal: 19.8s\tremaining: 20.8s\n",
      "488:\tlearn: 17.8898889\ttotal: 19.8s\tremaining: 20.7s\n",
      "489:\tlearn: 17.8816414\ttotal: 19.9s\tremaining: 20.7s\n",
      "490:\tlearn: 17.8710357\ttotal: 19.9s\tremaining: 20.7s\n",
      "491:\tlearn: 17.8607680\ttotal: 20s\tremaining: 20.7s\n",
      "492:\tlearn: 17.8466337\ttotal: 20s\tremaining: 20.6s\n",
      "493:\tlearn: 17.8366127\ttotal: 20s\tremaining: 20.5s\n",
      "494:\tlearn: 17.8249473\ttotal: 20.1s\tremaining: 20.5s\n",
      "495:\tlearn: 17.8144968\ttotal: 20.1s\tremaining: 20.5s\n",
      "496:\tlearn: 17.8053658\ttotal: 20.2s\tremaining: 20.5s\n",
      "497:\tlearn: 17.8026629\ttotal: 20.2s\tremaining: 20.4s\n",
      "498:\tlearn: 17.7916024\ttotal: 20.3s\tremaining: 20.4s\n",
      "499:\tlearn: 17.7805832\ttotal: 20.3s\tremaining: 20.3s\n",
      "500:\tlearn: 17.7698516\ttotal: 20.3s\tremaining: 20.3s\n",
      "501:\tlearn: 17.7554599\ttotal: 20.4s\tremaining: 20.3s\n",
      "502:\tlearn: 17.7465147\ttotal: 20.4s\tremaining: 20.2s\n",
      "503:\tlearn: 17.7455316\ttotal: 20.5s\tremaining: 20.2s\n",
      "504:\tlearn: 17.7338690\ttotal: 20.5s\tremaining: 20.1s\n",
      "505:\tlearn: 17.7241560\ttotal: 20.5s\tremaining: 20s\n",
      "506:\tlearn: 17.7128500\ttotal: 20.6s\tremaining: 20s\n",
      "507:\tlearn: 17.7019574\ttotal: 20.6s\tremaining: 20s\n",
      "508:\tlearn: 17.6889810\ttotal: 20.7s\tremaining: 20s\n",
      "509:\tlearn: 17.6801188\ttotal: 20.7s\tremaining: 19.9s\n",
      "510:\tlearn: 17.6708301\ttotal: 20.7s\tremaining: 19.8s\n",
      "511:\tlearn: 17.6613219\ttotal: 20.8s\tremaining: 19.8s\n",
      "512:\tlearn: 17.6478189\ttotal: 20.8s\tremaining: 19.8s\n",
      "513:\tlearn: 17.6340190\ttotal: 20.9s\tremaining: 19.8s\n",
      "514:\tlearn: 17.6267885\ttotal: 20.9s\tremaining: 19.7s\n",
      "515:\tlearn: 17.6170473\ttotal: 20.9s\tremaining: 19.6s\n",
      "516:\tlearn: 17.6021698\ttotal: 21s\tremaining: 19.6s\n",
      "517:\tlearn: 17.5899971\ttotal: 21s\tremaining: 19.6s\n",
      "518:\tlearn: 17.5735422\ttotal: 21.1s\tremaining: 19.6s\n",
      "519:\tlearn: 17.5585831\ttotal: 21.1s\tremaining: 19.5s\n",
      "520:\tlearn: 17.5505821\ttotal: 21.2s\tremaining: 19.5s\n",
      "521:\tlearn: 17.5395412\ttotal: 21.2s\tremaining: 19.4s\n",
      "522:\tlearn: 17.5312023\ttotal: 21.2s\tremaining: 19.4s\n",
      "523:\tlearn: 17.5218763\ttotal: 21.3s\tremaining: 19.3s\n",
      "524:\tlearn: 17.5135666\ttotal: 21.3s\tremaining: 19.3s\n",
      "525:\tlearn: 17.5024087\ttotal: 21.4s\tremaining: 19.3s\n",
      "526:\tlearn: 17.4902729\ttotal: 21.4s\tremaining: 19.2s\n",
      "527:\tlearn: 17.4822069\ttotal: 21.4s\tremaining: 19.1s\n",
      "528:\tlearn: 17.4712590\ttotal: 21.5s\tremaining: 19.1s\n",
      "529:\tlearn: 17.4612395\ttotal: 21.5s\tremaining: 19.1s\n",
      "530:\tlearn: 17.4601555\ttotal: 21.5s\tremaining: 19s\n",
      "531:\tlearn: 17.4524040\ttotal: 21.6s\tremaining: 19s\n",
      "532:\tlearn: 17.4405568\ttotal: 21.6s\tremaining: 18.9s\n",
      "533:\tlearn: 17.4294922\ttotal: 21.7s\tremaining: 18.9s\n",
      "534:\tlearn: 17.4209727\ttotal: 21.7s\tremaining: 18.9s\n",
      "535:\tlearn: 17.4117114\ttotal: 21.8s\tremaining: 18.9s\n",
      "536:\tlearn: 17.4028973\ttotal: 21.8s\tremaining: 18.8s\n",
      "537:\tlearn: 17.3949123\ttotal: 21.8s\tremaining: 18.7s\n",
      "538:\tlearn: 17.3905462\ttotal: 21.9s\tremaining: 18.7s\n",
      "539:\tlearn: 17.3867754\ttotal: 21.9s\tremaining: 18.7s\n",
      "540:\tlearn: 17.3760492\ttotal: 22s\tremaining: 18.7s\n",
      "541:\tlearn: 17.3627764\ttotal: 22s\tremaining: 18.6s\n",
      "542:\tlearn: 17.3517890\ttotal: 22s\tremaining: 18.5s\n",
      "543:\tlearn: 17.3407282\ttotal: 22.1s\tremaining: 18.5s\n",
      "544:\tlearn: 17.3399142\ttotal: 22.1s\tremaining: 18.5s\n",
      "545:\tlearn: 17.3288227\ttotal: 22.2s\tremaining: 18.4s\n",
      "546:\tlearn: 17.3190660\ttotal: 22.2s\tremaining: 18.4s\n",
      "547:\tlearn: 17.3065278\ttotal: 22.3s\tremaining: 18.4s\n",
      "548:\tlearn: 17.2950461\ttotal: 22.3s\tremaining: 18.3s\n",
      "549:\tlearn: 17.2861461\ttotal: 22.3s\tremaining: 18.2s\n",
      "550:\tlearn: 17.2779227\ttotal: 22.4s\tremaining: 18.2s\n",
      "551:\tlearn: 17.2654629\ttotal: 22.4s\tremaining: 18.2s\n",
      "552:\tlearn: 17.2547229\ttotal: 22.5s\tremaining: 18.2s\n",
      "553:\tlearn: 17.2431971\ttotal: 22.5s\tremaining: 18.1s\n",
      "554:\tlearn: 17.2290670\ttotal: 22.5s\tremaining: 18s\n",
      "555:\tlearn: 17.2174071\ttotal: 22.6s\tremaining: 18s\n",
      "556:\tlearn: 17.2062009\ttotal: 22.6s\tremaining: 18s\n",
      "557:\tlearn: 17.2010722\ttotal: 22.6s\tremaining: 17.9s\n",
      "558:\tlearn: 17.1882085\ttotal: 22.7s\tremaining: 17.9s\n",
      "559:\tlearn: 17.1777555\ttotal: 22.7s\tremaining: 17.8s\n",
      "560:\tlearn: 17.1650581\ttotal: 22.8s\tremaining: 17.8s\n",
      "561:\tlearn: 17.1588578\ttotal: 22.8s\tremaining: 17.8s\n",
      "562:\tlearn: 17.1462067\ttotal: 22.9s\tremaining: 17.7s\n",
      "563:\tlearn: 17.1403336\ttotal: 22.9s\tremaining: 17.7s\n",
      "564:\tlearn: 17.1335643\ttotal: 22.9s\tremaining: 17.6s\n",
      "565:\tlearn: 17.1211246\ttotal: 23s\tremaining: 17.6s\n",
      "566:\tlearn: 17.1071707\ttotal: 23s\tremaining: 17.5s\n",
      "567:\tlearn: 17.0992661\ttotal: 23.1s\tremaining: 17.5s\n",
      "568:\tlearn: 17.0886184\ttotal: 23.1s\tremaining: 17.5s\n",
      "569:\tlearn: 17.0806012\ttotal: 23.2s\tremaining: 17.5s\n",
      "570:\tlearn: 17.0695217\ttotal: 23.2s\tremaining: 17.4s\n",
      "571:\tlearn: 17.0544547\ttotal: 23.2s\tremaining: 17.3s\n",
      "572:\tlearn: 17.0538797\ttotal: 23.3s\tremaining: 17.3s\n",
      "573:\tlearn: 17.0425064\ttotal: 23.3s\tremaining: 17.3s\n",
      "574:\tlearn: 17.0323868\ttotal: 23.4s\tremaining: 17.3s\n",
      "575:\tlearn: 17.0253475\ttotal: 23.4s\tremaining: 17.2s\n",
      "576:\tlearn: 17.0248071\ttotal: 23.4s\tremaining: 17.1s\n",
      "577:\tlearn: 17.0174279\ttotal: 23.5s\tremaining: 17.1s\n",
      "578:\tlearn: 17.0040359\ttotal: 23.5s\tremaining: 17.1s\n",
      "579:\tlearn: 16.9929053\ttotal: 23.6s\tremaining: 17.1s\n",
      "580:\tlearn: 16.9816156\ttotal: 23.6s\tremaining: 17s\n",
      "581:\tlearn: 16.9720632\ttotal: 23.7s\tremaining: 17s\n",
      "582:\tlearn: 16.9626950\ttotal: 23.7s\tremaining: 16.9s\n",
      "583:\tlearn: 16.9528953\ttotal: 23.7s\tremaining: 16.9s\n",
      "584:\tlearn: 16.9476097\ttotal: 23.8s\tremaining: 16.8s\n",
      "585:\tlearn: 16.9396140\ttotal: 23.8s\tremaining: 16.8s\n",
      "586:\tlearn: 16.9297685\ttotal: 23.8s\tremaining: 16.8s\n",
      "587:\tlearn: 16.9196743\ttotal: 23.9s\tremaining: 16.7s\n",
      "588:\tlearn: 16.9098522\ttotal: 23.9s\tremaining: 16.7s\n",
      "589:\tlearn: 16.9002944\ttotal: 24s\tremaining: 16.6s\n",
      "590:\tlearn: 16.8979570\ttotal: 24s\tremaining: 16.6s\n",
      "591:\tlearn: 16.8913596\ttotal: 24s\tremaining: 16.6s\n",
      "592:\tlearn: 16.8828768\ttotal: 24s\tremaining: 16.5s\n",
      "593:\tlearn: 16.8729194\ttotal: 24.1s\tremaining: 16.4s\n",
      "594:\tlearn: 16.8644749\ttotal: 24.1s\tremaining: 16.4s\n",
      "595:\tlearn: 16.8638474\ttotal: 24.1s\tremaining: 16.4s\n",
      "596:\tlearn: 16.8555060\ttotal: 24.2s\tremaining: 16.4s\n",
      "597:\tlearn: 16.8489005\ttotal: 24.2s\tremaining: 16.3s\n",
      "598:\tlearn: 16.8385345\ttotal: 24.3s\tremaining: 16.2s\n",
      "599:\tlearn: 16.8314721\ttotal: 24.3s\tremaining: 16.2s\n",
      "600:\tlearn: 16.8190822\ttotal: 24.3s\tremaining: 16.2s\n",
      "601:\tlearn: 16.8084671\ttotal: 24.4s\tremaining: 16.2s\n",
      "602:\tlearn: 16.7991080\ttotal: 24.4s\tremaining: 16.1s\n",
      "603:\tlearn: 16.7918266\ttotal: 24.4s\tremaining: 16s\n",
      "604:\tlearn: 16.7911099\ttotal: 24.5s\tremaining: 16s\n",
      "605:\tlearn: 16.7832195\ttotal: 24.5s\tremaining: 16s\n",
      "606:\tlearn: 16.7733973\ttotal: 24.6s\tremaining: 15.9s\n",
      "607:\tlearn: 16.7651752\ttotal: 24.6s\tremaining: 15.9s\n",
      "608:\tlearn: 16.7568984\ttotal: 24.6s\tremaining: 15.8s\n",
      "609:\tlearn: 16.7442265\ttotal: 24.7s\tremaining: 15.8s\n",
      "610:\tlearn: 16.7363071\ttotal: 24.7s\tremaining: 15.7s\n",
      "611:\tlearn: 16.7289705\ttotal: 24.8s\tremaining: 15.7s\n",
      "612:\tlearn: 16.7224977\ttotal: 24.8s\tremaining: 15.7s\n",
      "613:\tlearn: 16.7146970\ttotal: 24.9s\tremaining: 15.7s\n",
      "614:\tlearn: 16.7041203\ttotal: 24.9s\tremaining: 15.6s\n",
      "615:\tlearn: 16.6985891\ttotal: 24.9s\tremaining: 15.5s\n",
      "616:\tlearn: 16.6870040\ttotal: 25s\tremaining: 15.5s\n",
      "617:\tlearn: 16.6791137\ttotal: 25s\tremaining: 15.5s\n",
      "618:\tlearn: 16.6712320\ttotal: 25.1s\tremaining: 15.5s\n",
      "619:\tlearn: 16.6621192\ttotal: 25.1s\tremaining: 15.4s\n",
      "620:\tlearn: 16.6507867\ttotal: 25.2s\tremaining: 15.4s\n",
      "621:\tlearn: 16.6501913\ttotal: 25.2s\tremaining: 15.3s\n",
      "622:\tlearn: 16.6390771\ttotal: 25.3s\tremaining: 15.3s\n",
      "623:\tlearn: 16.6310494\ttotal: 25.3s\tremaining: 15.3s\n",
      "624:\tlearn: 16.6232454\ttotal: 25.3s\tremaining: 15.2s\n",
      "625:\tlearn: 16.6224840\ttotal: 25.4s\tremaining: 15.2s\n",
      "626:\tlearn: 16.6167859\ttotal: 25.4s\tremaining: 15.1s\n",
      "627:\tlearn: 16.6084970\ttotal: 25.5s\tremaining: 15.1s\n",
      "628:\tlearn: 16.5969969\ttotal: 25.5s\tremaining: 15.1s\n",
      "629:\tlearn: 16.5852092\ttotal: 25.5s\tremaining: 15s\n",
      "630:\tlearn: 16.5723772\ttotal: 25.6s\tremaining: 15s\n",
      "631:\tlearn: 16.5625581\ttotal: 25.6s\tremaining: 14.9s\n",
      "632:\tlearn: 16.5527615\ttotal: 25.7s\tremaining: 14.9s\n",
      "633:\tlearn: 16.5432302\ttotal: 25.7s\tremaining: 14.8s\n",
      "634:\tlearn: 16.5360364\ttotal: 25.8s\tremaining: 14.8s\n",
      "635:\tlearn: 16.5281435\ttotal: 25.8s\tremaining: 14.8s\n",
      "636:\tlearn: 16.5163143\ttotal: 25.8s\tremaining: 14.7s\n",
      "637:\tlearn: 16.5038076\ttotal: 25.9s\tremaining: 14.7s\n",
      "638:\tlearn: 16.4954432\ttotal: 25.9s\tremaining: 14.6s\n",
      "639:\tlearn: 16.4859459\ttotal: 26s\tremaining: 14.6s\n",
      "640:\tlearn: 16.4764671\ttotal: 26s\tremaining: 14.6s\n",
      "641:\tlearn: 16.4662349\ttotal: 26.1s\tremaining: 14.6s\n",
      "642:\tlearn: 16.4657410\ttotal: 26.1s\tremaining: 14.5s\n",
      "643:\tlearn: 16.4579007\ttotal: 26.1s\tremaining: 14.4s\n",
      "644:\tlearn: 16.4495965\ttotal: 26.2s\tremaining: 14.4s\n",
      "645:\tlearn: 16.4381294\ttotal: 26.2s\tremaining: 14.4s\n",
      "646:\tlearn: 16.4306359\ttotal: 26.3s\tremaining: 14.3s\n",
      "647:\tlearn: 16.4238766\ttotal: 26.3s\tremaining: 14.3s\n",
      "648:\tlearn: 16.4084435\ttotal: 26.3s\tremaining: 14.2s\n",
      "649:\tlearn: 16.4023248\ttotal: 26.4s\tremaining: 14.2s\n",
      "650:\tlearn: 16.3920150\ttotal: 26.4s\tremaining: 14.2s\n",
      "651:\tlearn: 16.3854575\ttotal: 26.5s\tremaining: 14.1s\n",
      "652:\tlearn: 16.3774689\ttotal: 26.5s\tremaining: 14.1s\n",
      "653:\tlearn: 16.3693244\ttotal: 26.5s\tremaining: 14s\n",
      "654:\tlearn: 16.3606715\ttotal: 26.6s\tremaining: 14s\n",
      "655:\tlearn: 16.3516392\ttotal: 26.6s\tremaining: 13.9s\n",
      "656:\tlearn: 16.3445377\ttotal: 26.6s\tremaining: 13.9s\n",
      "657:\tlearn: 16.3349386\ttotal: 26.7s\tremaining: 13.9s\n",
      "658:\tlearn: 16.3276806\ttotal: 26.7s\tremaining: 13.8s\n",
      "659:\tlearn: 16.3168501\ttotal: 26.8s\tremaining: 13.8s\n",
      "660:\tlearn: 16.3082240\ttotal: 26.8s\tremaining: 13.7s\n",
      "661:\tlearn: 16.3006378\ttotal: 26.9s\tremaining: 13.7s\n",
      "662:\tlearn: 16.2919957\ttotal: 26.9s\tremaining: 13.7s\n",
      "663:\tlearn: 16.2833895\ttotal: 26.9s\tremaining: 13.6s\n",
      "664:\tlearn: 16.2752611\ttotal: 27s\tremaining: 13.6s\n",
      "665:\tlearn: 16.2687563\ttotal: 27s\tremaining: 13.5s\n",
      "666:\tlearn: 16.2554251\ttotal: 27s\tremaining: 13.5s\n",
      "667:\tlearn: 16.2483444\ttotal: 27.1s\tremaining: 13.5s\n",
      "668:\tlearn: 16.2425623\ttotal: 27.1s\tremaining: 13.4s\n",
      "669:\tlearn: 16.2350650\ttotal: 27.2s\tremaining: 13.4s\n",
      "670:\tlearn: 16.2289300\ttotal: 27.2s\tremaining: 13.3s\n",
      "671:\tlearn: 16.2229498\ttotal: 27.3s\tremaining: 13.3s\n",
      "672:\tlearn: 16.2156208\ttotal: 27.3s\tremaining: 13.3s\n",
      "673:\tlearn: 16.2065740\ttotal: 27.3s\tremaining: 13.2s\n",
      "674:\tlearn: 16.2043883\ttotal: 27.4s\tremaining: 13.2s\n",
      "675:\tlearn: 16.1943572\ttotal: 27.4s\tremaining: 13.1s\n",
      "676:\tlearn: 16.1844750\ttotal: 27.5s\tremaining: 13.1s\n",
      "677:\tlearn: 16.1739024\ttotal: 27.5s\tremaining: 13s\n",
      "678:\tlearn: 16.1673643\ttotal: 27.5s\tremaining: 13s\n",
      "679:\tlearn: 16.1565772\ttotal: 27.6s\tremaining: 13s\n",
      "680:\tlearn: 16.1493420\ttotal: 27.6s\tremaining: 12.9s\n",
      "681:\tlearn: 16.1428613\ttotal: 27.7s\tremaining: 12.9s\n",
      "682:\tlearn: 16.1325834\ttotal: 27.7s\tremaining: 12.8s\n",
      "683:\tlearn: 16.1229413\ttotal: 27.7s\tremaining: 12.8s\n",
      "684:\tlearn: 16.1125964\ttotal: 27.8s\tremaining: 12.8s\n",
      "685:\tlearn: 16.1054719\ttotal: 27.8s\tremaining: 12.7s\n",
      "686:\tlearn: 16.0977136\ttotal: 27.9s\tremaining: 12.7s\n",
      "687:\tlearn: 16.0969519\ttotal: 27.9s\tremaining: 12.6s\n",
      "688:\tlearn: 16.0919774\ttotal: 27.9s\tremaining: 12.6s\n",
      "689:\tlearn: 16.0844578\ttotal: 28s\tremaining: 12.6s\n",
      "690:\tlearn: 16.0737662\ttotal: 28s\tremaining: 12.5s\n",
      "691:\tlearn: 16.0652883\ttotal: 28.1s\tremaining: 12.5s\n",
      "692:\tlearn: 16.0572219\ttotal: 28.1s\tremaining: 12.4s\n",
      "693:\tlearn: 16.0462016\ttotal: 28.2s\tremaining: 12.4s\n",
      "694:\tlearn: 16.0377175\ttotal: 28.2s\tremaining: 12.4s\n",
      "695:\tlearn: 16.0291774\ttotal: 28.2s\tremaining: 12.3s\n",
      "696:\tlearn: 16.0223059\ttotal: 28.3s\tremaining: 12.3s\n",
      "697:\tlearn: 16.0218270\ttotal: 28.3s\tremaining: 12.2s\n",
      "698:\tlearn: 16.0123674\ttotal: 28.3s\tremaining: 12.2s\n",
      "699:\tlearn: 16.0020882\ttotal: 28.4s\tremaining: 12.2s\n",
      "700:\tlearn: 15.9952992\ttotal: 28.4s\tremaining: 12.1s\n",
      "701:\tlearn: 15.9884655\ttotal: 28.4s\tremaining: 12.1s\n",
      "702:\tlearn: 15.9787100\ttotal: 28.5s\tremaining: 12s\n",
      "703:\tlearn: 15.9698450\ttotal: 28.5s\tremaining: 12s\n",
      "704:\tlearn: 15.9624692\ttotal: 28.6s\tremaining: 11.9s\n",
      "705:\tlearn: 15.9533832\ttotal: 28.6s\tremaining: 11.9s\n",
      "706:\tlearn: 15.9462328\ttotal: 28.6s\tremaining: 11.9s\n",
      "707:\tlearn: 15.9416904\ttotal: 28.7s\tremaining: 11.8s\n",
      "708:\tlearn: 15.9349100\ttotal: 28.7s\tremaining: 11.8s\n",
      "709:\tlearn: 15.9307679\ttotal: 28.7s\tremaining: 11.7s\n",
      "710:\tlearn: 15.9247388\ttotal: 28.8s\tremaining: 11.7s\n",
      "711:\tlearn: 15.9192777\ttotal: 28.8s\tremaining: 11.7s\n",
      "712:\tlearn: 15.9113445\ttotal: 28.9s\tremaining: 11.6s\n",
      "713:\tlearn: 15.9013896\ttotal: 28.9s\tremaining: 11.6s\n",
      "714:\tlearn: 15.8939470\ttotal: 28.9s\tremaining: 11.5s\n",
      "715:\tlearn: 15.8878713\ttotal: 29s\tremaining: 11.5s\n",
      "716:\tlearn: 15.8809534\ttotal: 29s\tremaining: 11.5s\n",
      "717:\tlearn: 15.8772563\ttotal: 29.1s\tremaining: 11.4s\n",
      "718:\tlearn: 15.8668255\ttotal: 29.1s\tremaining: 11.4s\n",
      "719:\tlearn: 15.8606247\ttotal: 29.1s\tremaining: 11.3s\n",
      "720:\tlearn: 15.8495219\ttotal: 29.1s\tremaining: 11.3s\n",
      "721:\tlearn: 15.8386223\ttotal: 29.2s\tremaining: 11.3s\n",
      "722:\tlearn: 15.8321859\ttotal: 29.2s\tremaining: 11.2s\n",
      "723:\tlearn: 15.8241957\ttotal: 29.3s\tremaining: 11.2s\n",
      "724:\tlearn: 15.8171837\ttotal: 29.3s\tremaining: 11.1s\n",
      "725:\tlearn: 15.8117363\ttotal: 29.3s\tremaining: 11.1s\n",
      "726:\tlearn: 15.8033985\ttotal: 29.4s\tremaining: 11.1s\n",
      "727:\tlearn: 15.7978429\ttotal: 29.4s\tremaining: 11s\n",
      "728:\tlearn: 15.7925803\ttotal: 29.4s\tremaining: 10.9s\n",
      "729:\tlearn: 15.7872271\ttotal: 29.5s\tremaining: 10.9s\n",
      "730:\tlearn: 15.7786588\ttotal: 29.5s\tremaining: 10.9s\n",
      "731:\tlearn: 15.7729425\ttotal: 29.5s\tremaining: 10.8s\n",
      "732:\tlearn: 15.7655490\ttotal: 29.6s\tremaining: 10.8s\n",
      "733:\tlearn: 15.7541116\ttotal: 29.6s\tremaining: 10.7s\n",
      "734:\tlearn: 15.7430144\ttotal: 29.7s\tremaining: 10.7s\n",
      "735:\tlearn: 15.7398679\ttotal: 29.7s\tremaining: 10.7s\n",
      "736:\tlearn: 15.7322406\ttotal: 29.8s\tremaining: 10.6s\n",
      "737:\tlearn: 15.7261596\ttotal: 29.8s\tremaining: 10.6s\n",
      "738:\tlearn: 15.7206742\ttotal: 29.8s\tremaining: 10.5s\n",
      "739:\tlearn: 15.7115080\ttotal: 29.9s\tremaining: 10.5s\n",
      "740:\tlearn: 15.7021566\ttotal: 29.9s\tremaining: 10.5s\n",
      "741:\tlearn: 15.6928028\ttotal: 30s\tremaining: 10.4s\n",
      "742:\tlearn: 15.6842903\ttotal: 30s\tremaining: 10.4s\n",
      "743:\tlearn: 15.6767146\ttotal: 30s\tremaining: 10.3s\n",
      "744:\tlearn: 15.6674666\ttotal: 30.1s\tremaining: 10.3s\n",
      "745:\tlearn: 15.6601354\ttotal: 30.1s\tremaining: 10.3s\n",
      "746:\tlearn: 15.6489026\ttotal: 30.2s\tremaining: 10.2s\n",
      "747:\tlearn: 15.6378460\ttotal: 30.2s\tremaining: 10.2s\n",
      "748:\tlearn: 15.6270804\ttotal: 30.3s\tremaining: 10.2s\n",
      "749:\tlearn: 15.6218081\ttotal: 30.3s\tremaining: 10.1s\n",
      "750:\tlearn: 15.6157160\ttotal: 30.3s\tremaining: 10.1s\n",
      "751:\tlearn: 15.6052576\ttotal: 30.4s\tremaining: 10s\n",
      "752:\tlearn: 15.5982301\ttotal: 30.4s\tremaining: 9.98s\n",
      "753:\tlearn: 15.5908400\ttotal: 30.5s\tremaining: 9.95s\n",
      "754:\tlearn: 15.5821475\ttotal: 30.5s\tremaining: 9.9s\n",
      "755:\tlearn: 15.5812893\ttotal: 30.5s\tremaining: 9.85s\n",
      "756:\tlearn: 15.5739938\ttotal: 30.6s\tremaining: 9.83s\n",
      "757:\tlearn: 15.5634789\ttotal: 30.6s\tremaining: 9.78s\n",
      "758:\tlearn: 15.5558263\ttotal: 30.7s\tremaining: 9.75s\n",
      "759:\tlearn: 15.5462494\ttotal: 30.7s\tremaining: 9.7s\n",
      "760:\tlearn: 15.5379021\ttotal: 30.8s\tremaining: 9.67s\n",
      "761:\tlearn: 15.5332696\ttotal: 30.8s\tremaining: 9.62s\n",
      "762:\tlearn: 15.5262738\ttotal: 30.9s\tremaining: 9.6s\n",
      "763:\tlearn: 15.5208612\ttotal: 30.9s\tremaining: 9.55s\n",
      "764:\tlearn: 15.5130677\ttotal: 30.9s\tremaining: 9.5s\n",
      "765:\tlearn: 15.5032111\ttotal: 31s\tremaining: 9.47s\n",
      "766:\tlearn: 15.4920804\ttotal: 31s\tremaining: 9.42s\n",
      "767:\tlearn: 15.4833487\ttotal: 31.1s\tremaining: 9.39s\n",
      "768:\tlearn: 15.4747873\ttotal: 31.1s\tremaining: 9.34s\n",
      "769:\tlearn: 15.4676010\ttotal: 31.1s\tremaining: 9.29s\n",
      "770:\tlearn: 15.4603249\ttotal: 31.2s\tremaining: 9.27s\n",
      "771:\tlearn: 15.4598635\ttotal: 31.2s\tremaining: 9.22s\n",
      "772:\tlearn: 15.4542205\ttotal: 31.3s\tremaining: 9.19s\n",
      "773:\tlearn: 15.4456069\ttotal: 31.3s\tremaining: 9.14s\n",
      "774:\tlearn: 15.4369866\ttotal: 31.3s\tremaining: 9.09s\n",
      "775:\tlearn: 15.4303991\ttotal: 31.4s\tremaining: 9.06s\n",
      "776:\tlearn: 15.4234129\ttotal: 31.4s\tremaining: 9.01s\n",
      "777:\tlearn: 15.4163898\ttotal: 31.4s\tremaining: 8.96s\n",
      "778:\tlearn: 15.4081175\ttotal: 31.5s\tremaining: 8.93s\n",
      "779:\tlearn: 15.3997548\ttotal: 31.5s\tremaining: 8.88s\n",
      "780:\tlearn: 15.3923008\ttotal: 31.6s\tremaining: 8.86s\n",
      "781:\tlearn: 15.3813619\ttotal: 31.6s\tremaining: 8.81s\n",
      "782:\tlearn: 15.3737349\ttotal: 31.7s\tremaining: 8.78s\n",
      "783:\tlearn: 15.3677575\ttotal: 31.7s\tremaining: 8.73s\n",
      "784:\tlearn: 15.3600194\ttotal: 31.7s\tremaining: 8.68s\n",
      "785:\tlearn: 15.3526604\ttotal: 31.8s\tremaining: 8.65s\n",
      "786:\tlearn: 15.3501614\ttotal: 31.8s\tremaining: 8.6s\n",
      "787:\tlearn: 15.3419652\ttotal: 31.8s\tremaining: 8.55s\n",
      "788:\tlearn: 15.3335523\ttotal: 31.9s\tremaining: 8.53s\n",
      "789:\tlearn: 15.3271615\ttotal: 31.9s\tremaining: 8.48s\n",
      "790:\tlearn: 15.3184867\ttotal: 32s\tremaining: 8.45s\n",
      "791:\tlearn: 15.3114207\ttotal: 32s\tremaining: 8.4s\n",
      "792:\tlearn: 15.3023509\ttotal: 32s\tremaining: 8.35s\n",
      "793:\tlearn: 15.2971192\ttotal: 32.1s\tremaining: 8.32s\n",
      "794:\tlearn: 15.2927116\ttotal: 32.1s\tremaining: 8.27s\n",
      "795:\tlearn: 15.2850892\ttotal: 32.2s\tremaining: 8.24s\n",
      "796:\tlearn: 15.2763338\ttotal: 32.2s\tremaining: 8.2s\n",
      "797:\tlearn: 15.2711449\ttotal: 32.2s\tremaining: 8.15s\n",
      "798:\tlearn: 15.2662042\ttotal: 32.3s\tremaining: 8.12s\n",
      "799:\tlearn: 15.2573078\ttotal: 32.3s\tremaining: 8.07s\n",
      "800:\tlearn: 15.2487718\ttotal: 32.3s\tremaining: 8.02s\n",
      "801:\tlearn: 15.2419533\ttotal: 32.4s\tremaining: 7.99s\n",
      "802:\tlearn: 15.2346234\ttotal: 32.4s\tremaining: 7.94s\n",
      "803:\tlearn: 15.2270215\ttotal: 32.5s\tremaining: 7.91s\n",
      "804:\tlearn: 15.2195162\ttotal: 32.5s\tremaining: 7.87s\n",
      "805:\tlearn: 15.2106223\ttotal: 32.5s\tremaining: 7.82s\n",
      "806:\tlearn: 15.2064801\ttotal: 32.6s\tremaining: 7.79s\n",
      "807:\tlearn: 15.1968136\ttotal: 32.6s\tremaining: 7.74s\n",
      "808:\tlearn: 15.1853913\ttotal: 32.7s\tremaining: 7.71s\n",
      "809:\tlearn: 15.1774553\ttotal: 32.7s\tremaining: 7.66s\n",
      "810:\tlearn: 15.1704001\ttotal: 32.8s\tremaining: 7.63s\n",
      "811:\tlearn: 15.1625772\ttotal: 32.8s\tremaining: 7.59s\n",
      "812:\tlearn: 15.1565549\ttotal: 32.9s\tremaining: 7.56s\n",
      "813:\tlearn: 15.1513779\ttotal: 32.9s\tremaining: 7.51s\n",
      "814:\tlearn: 15.1470795\ttotal: 32.9s\tremaining: 7.46s\n",
      "815:\tlearn: 15.1436683\ttotal: 33s\tremaining: 7.43s\n",
      "816:\tlearn: 15.1326056\ttotal: 33s\tremaining: 7.38s\n",
      "817:\tlearn: 15.1252051\ttotal: 33.1s\tremaining: 7.35s\n",
      "818:\tlearn: 15.1193961\ttotal: 33.1s\tremaining: 7.31s\n",
      "819:\tlearn: 15.1148992\ttotal: 33.1s\tremaining: 7.26s\n",
      "820:\tlearn: 15.1079458\ttotal: 33.2s\tremaining: 7.23s\n",
      "821:\tlearn: 15.1029353\ttotal: 33.2s\tremaining: 7.18s\n",
      "822:\tlearn: 15.0931910\ttotal: 33.2s\tremaining: 7.15s\n",
      "823:\tlearn: 15.0880911\ttotal: 33.3s\tremaining: 7.1s\n",
      "824:\tlearn: 15.0805375\ttotal: 33.3s\tremaining: 7.06s\n",
      "825:\tlearn: 15.0722796\ttotal: 33.3s\tremaining: 7.02s\n",
      "826:\tlearn: 15.0662126\ttotal: 33.4s\tremaining: 6.98s\n",
      "827:\tlearn: 15.0606167\ttotal: 33.4s\tremaining: 6.93s\n",
      "828:\tlearn: 15.0566070\ttotal: 33.5s\tremaining: 6.9s\n",
      "829:\tlearn: 15.0499575\ttotal: 33.5s\tremaining: 6.85s\n",
      "830:\tlearn: 15.0451750\ttotal: 33.5s\tremaining: 6.82s\n",
      "831:\tlearn: 15.0396693\ttotal: 33.6s\tremaining: 6.78s\n",
      "832:\tlearn: 15.0322439\ttotal: 33.6s\tremaining: 6.74s\n",
      "833:\tlearn: 15.0248016\ttotal: 33.6s\tremaining: 6.7s\n",
      "834:\tlearn: 15.0161885\ttotal: 33.7s\tremaining: 6.65s\n",
      "835:\tlearn: 15.0080142\ttotal: 33.7s\tremaining: 6.62s\n",
      "836:\tlearn: 14.9977952\ttotal: 33.7s\tremaining: 6.57s\n",
      "837:\tlearn: 14.9907006\ttotal: 33.8s\tremaining: 6.54s\n",
      "838:\tlearn: 14.9803492\ttotal: 33.8s\tremaining: 6.49s\n",
      "839:\tlearn: 14.9756042\ttotal: 33.8s\tremaining: 6.45s\n",
      "840:\tlearn: 14.9670333\ttotal: 33.9s\tremaining: 6.41s\n",
      "841:\tlearn: 14.9621810\ttotal: 33.9s\tremaining: 6.37s\n",
      "842:\tlearn: 14.9573156\ttotal: 33.9s\tremaining: 6.32s\n",
      "843:\tlearn: 14.9502800\ttotal: 34s\tremaining: 6.29s\n",
      "844:\tlearn: 14.9436521\ttotal: 34s\tremaining: 6.24s\n",
      "845:\tlearn: 14.9352968\ttotal: 34.1s\tremaining: 6.21s\n",
      "846:\tlearn: 14.9261386\ttotal: 34.1s\tremaining: 6.17s\n",
      "847:\tlearn: 14.9254713\ttotal: 34.2s\tremaining: 6.13s\n",
      "848:\tlearn: 14.9186448\ttotal: 34.2s\tremaining: 6.08s\n",
      "849:\tlearn: 14.9145542\ttotal: 34.2s\tremaining: 6.04s\n",
      "850:\tlearn: 14.9072168\ttotal: 34.3s\tremaining: 6.01s\n",
      "851:\tlearn: 14.9002814\ttotal: 34.3s\tremaining: 5.96s\n",
      "852:\tlearn: 14.8942796\ttotal: 34.4s\tremaining: 5.93s\n",
      "853:\tlearn: 14.8849468\ttotal: 34.4s\tremaining: 5.88s\n",
      "854:\tlearn: 14.8769663\ttotal: 34.5s\tremaining: 5.85s\n",
      "855:\tlearn: 14.8717977\ttotal: 34.5s\tremaining: 5.81s\n",
      "856:\tlearn: 14.8650907\ttotal: 34.6s\tremaining: 5.77s\n",
      "857:\tlearn: 14.8566102\ttotal: 34.6s\tremaining: 5.73s\n",
      "858:\tlearn: 14.8494367\ttotal: 34.6s\tremaining: 5.68s\n",
      "859:\tlearn: 14.8483826\ttotal: 34.7s\tremaining: 5.65s\n",
      "860:\tlearn: 14.8411510\ttotal: 34.7s\tremaining: 5.6s\n",
      "861:\tlearn: 14.8316611\ttotal: 34.8s\tremaining: 5.57s\n",
      "862:\tlearn: 14.8207796\ttotal: 34.8s\tremaining: 5.53s\n",
      "863:\tlearn: 14.8153170\ttotal: 34.9s\tremaining: 5.49s\n",
      "864:\tlearn: 14.8084824\ttotal: 34.9s\tremaining: 5.45s\n",
      "865:\tlearn: 14.8004713\ttotal: 34.9s\tremaining: 5.4s\n",
      "866:\tlearn: 14.7961433\ttotal: 35s\tremaining: 5.37s\n",
      "867:\tlearn: 14.7878689\ttotal: 35s\tremaining: 5.32s\n",
      "868:\tlearn: 14.7796711\ttotal: 35.1s\tremaining: 5.29s\n",
      "869:\tlearn: 14.7759086\ttotal: 35.1s\tremaining: 5.24s\n",
      "870:\tlearn: 14.7688823\ttotal: 35.1s\tremaining: 5.2s\n",
      "871:\tlearn: 14.7587246\ttotal: 35.2s\tremaining: 5.17s\n",
      "872:\tlearn: 14.7539542\ttotal: 35.2s\tremaining: 5.12s\n",
      "873:\tlearn: 14.7475625\ttotal: 35.3s\tremaining: 5.09s\n",
      "874:\tlearn: 14.7418584\ttotal: 35.3s\tremaining: 5.04s\n",
      "875:\tlearn: 14.7348852\ttotal: 35.4s\tremaining: 5.01s\n",
      "876:\tlearn: 14.7272405\ttotal: 35.4s\tremaining: 4.96s\n",
      "877:\tlearn: 14.7173238\ttotal: 35.4s\tremaining: 4.92s\n",
      "878:\tlearn: 14.7135247\ttotal: 35.5s\tremaining: 4.88s\n",
      "879:\tlearn: 14.7057824\ttotal: 35.5s\tremaining: 4.84s\n",
      "880:\tlearn: 14.7004011\ttotal: 35.6s\tremaining: 4.8s\n",
      "881:\tlearn: 14.6933974\ttotal: 35.6s\tremaining: 4.76s\n",
      "882:\tlearn: 14.6861598\ttotal: 35.6s\tremaining: 4.72s\n",
      "883:\tlearn: 14.6783719\ttotal: 35.7s\tremaining: 4.68s\n",
      "884:\tlearn: 14.6779518\ttotal: 35.7s\tremaining: 4.64s\n",
      "885:\tlearn: 14.6737154\ttotal: 35.8s\tremaining: 4.6s\n",
      "886:\tlearn: 14.6694481\ttotal: 35.8s\tremaining: 4.56s\n",
      "887:\tlearn: 14.6583075\ttotal: 35.9s\tremaining: 4.52s\n",
      "888:\tlearn: 14.6552239\ttotal: 35.9s\tremaining: 4.48s\n",
      "889:\tlearn: 14.6491384\ttotal: 35.9s\tremaining: 4.44s\n",
      "890:\tlearn: 14.6414547\ttotal: 36s\tremaining: 4.4s\n",
      "891:\tlearn: 14.6331063\ttotal: 36s\tremaining: 4.36s\n",
      "892:\tlearn: 14.6223113\ttotal: 36.1s\tremaining: 4.32s\n",
      "893:\tlearn: 14.6174864\ttotal: 36.1s\tremaining: 4.28s\n",
      "894:\tlearn: 14.6111224\ttotal: 36.2s\tremaining: 4.24s\n",
      "895:\tlearn: 14.6056753\ttotal: 36.2s\tremaining: 4.2s\n",
      "896:\tlearn: 14.5984630\ttotal: 36.2s\tremaining: 4.16s\n",
      "897:\tlearn: 14.5927372\ttotal: 36.3s\tremaining: 4.12s\n",
      "898:\tlearn: 14.5924059\ttotal: 36.3s\tremaining: 4.08s\n",
      "899:\tlearn: 14.5848288\ttotal: 36.4s\tremaining: 4.04s\n",
      "900:\tlearn: 14.5782002\ttotal: 36.4s\tremaining: 4s\n",
      "901:\tlearn: 14.5708232\ttotal: 36.5s\tremaining: 3.96s\n",
      "902:\tlearn: 14.5627088\ttotal: 36.5s\tremaining: 3.92s\n",
      "903:\tlearn: 14.5545848\ttotal: 36.6s\tremaining: 3.88s\n",
      "904:\tlearn: 14.5485844\ttotal: 36.6s\tremaining: 3.84s\n",
      "905:\tlearn: 14.5422763\ttotal: 36.6s\tremaining: 3.79s\n",
      "906:\tlearn: 14.5326515\ttotal: 36.7s\tremaining: 3.76s\n",
      "907:\tlearn: 14.5321916\ttotal: 36.7s\tremaining: 3.71s\n",
      "908:\tlearn: 14.5279730\ttotal: 36.7s\tremaining: 3.67s\n",
      "909:\tlearn: 14.5160473\ttotal: 36.8s\tremaining: 3.64s\n",
      "910:\tlearn: 14.5148529\ttotal: 36.8s\tremaining: 3.59s\n",
      "911:\tlearn: 14.5092954\ttotal: 36.9s\tremaining: 3.56s\n",
      "912:\tlearn: 14.5041848\ttotal: 36.9s\tremaining: 3.51s\n",
      "913:\tlearn: 14.4999731\ttotal: 37s\tremaining: 3.48s\n",
      "914:\tlearn: 14.4995761\ttotal: 37s\tremaining: 3.43s\n",
      "915:\tlearn: 14.4911635\ttotal: 37s\tremaining: 3.39s\n",
      "916:\tlearn: 14.4869815\ttotal: 37s\tremaining: 3.35s\n",
      "917:\tlearn: 14.4802573\ttotal: 37.1s\tremaining: 3.31s\n",
      "918:\tlearn: 14.4724556\ttotal: 37.1s\tremaining: 3.27s\n",
      "919:\tlearn: 14.4650754\ttotal: 37.2s\tremaining: 3.23s\n",
      "920:\tlearn: 14.4643721\ttotal: 37.2s\tremaining: 3.19s\n",
      "921:\tlearn: 14.4590570\ttotal: 37.3s\tremaining: 3.15s\n",
      "922:\tlearn: 14.4532407\ttotal: 37.3s\tremaining: 3.11s\n",
      "923:\tlearn: 14.4485455\ttotal: 37.3s\tremaining: 3.07s\n",
      "924:\tlearn: 14.4482005\ttotal: 37.4s\tremaining: 3.03s\n",
      "925:\tlearn: 14.4440990\ttotal: 37.4s\tremaining: 2.99s\n",
      "926:\tlearn: 14.4356670\ttotal: 37.5s\tremaining: 2.95s\n",
      "927:\tlearn: 14.4301403\ttotal: 37.5s\tremaining: 2.91s\n",
      "928:\tlearn: 14.4257791\ttotal: 37.5s\tremaining: 2.87s\n",
      "929:\tlearn: 14.4196418\ttotal: 37.6s\tremaining: 2.83s\n",
      "930:\tlearn: 14.4085020\ttotal: 37.6s\tremaining: 2.79s\n",
      "931:\tlearn: 14.4046279\ttotal: 37.7s\tremaining: 2.75s\n",
      "932:\tlearn: 14.3980952\ttotal: 37.7s\tremaining: 2.71s\n",
      "933:\tlearn: 14.3948251\ttotal: 37.7s\tremaining: 2.67s\n",
      "934:\tlearn: 14.3889254\ttotal: 37.8s\tremaining: 2.62s\n",
      "935:\tlearn: 14.3842772\ttotal: 37.8s\tremaining: 2.59s\n",
      "936:\tlearn: 14.3796426\ttotal: 37.8s\tremaining: 2.54s\n",
      "937:\tlearn: 14.3707546\ttotal: 37.9s\tremaining: 2.51s\n",
      "938:\tlearn: 14.3645696\ttotal: 37.9s\tremaining: 2.46s\n",
      "939:\tlearn: 14.3559014\ttotal: 38s\tremaining: 2.43s\n",
      "940:\tlearn: 14.3497325\ttotal: 38s\tremaining: 2.38s\n",
      "941:\tlearn: 14.3412117\ttotal: 38s\tremaining: 2.34s\n",
      "942:\tlearn: 14.3337333\ttotal: 38.1s\tremaining: 2.31s\n",
      "943:\tlearn: 14.3273572\ttotal: 38.1s\tremaining: 2.26s\n",
      "944:\tlearn: 14.3268085\ttotal: 38.2s\tremaining: 2.22s\n",
      "945:\tlearn: 14.3213954\ttotal: 38.2s\tremaining: 2.18s\n",
      "946:\tlearn: 14.3155505\ttotal: 38.2s\tremaining: 2.14s\n",
      "947:\tlearn: 14.3057965\ttotal: 38.3s\tremaining: 2.1s\n",
      "948:\tlearn: 14.3030485\ttotal: 38.3s\tremaining: 2.06s\n",
      "949:\tlearn: 14.2984938\ttotal: 38.4s\tremaining: 2.02s\n",
      "950:\tlearn: 14.2981367\ttotal: 38.4s\tremaining: 1.98s\n",
      "951:\tlearn: 14.2948787\ttotal: 38.4s\tremaining: 1.94s\n",
      "952:\tlearn: 14.2911101\ttotal: 38.5s\tremaining: 1.9s\n",
      "953:\tlearn: 14.2816700\ttotal: 38.5s\tremaining: 1.86s\n",
      "954:\tlearn: 14.2768808\ttotal: 38.6s\tremaining: 1.82s\n",
      "955:\tlearn: 14.2676743\ttotal: 38.6s\tremaining: 1.78s\n",
      "956:\tlearn: 14.2609180\ttotal: 38.6s\tremaining: 1.74s\n",
      "957:\tlearn: 14.2543426\ttotal: 38.7s\tremaining: 1.7s\n",
      "958:\tlearn: 14.2492417\ttotal: 38.7s\tremaining: 1.66s\n",
      "959:\tlearn: 14.2421467\ttotal: 38.8s\tremaining: 1.62s\n",
      "960:\tlearn: 14.2384135\ttotal: 38.8s\tremaining: 1.57s\n",
      "961:\tlearn: 14.2303099\ttotal: 38.8s\tremaining: 1.53s\n",
      "962:\tlearn: 14.2251008\ttotal: 38.9s\tremaining: 1.5s\n",
      "963:\tlearn: 14.2170029\ttotal: 38.9s\tremaining: 1.45s\n",
      "964:\tlearn: 14.2107614\ttotal: 38.9s\tremaining: 1.41s\n",
      "965:\tlearn: 14.2016409\ttotal: 39s\tremaining: 1.37s\n",
      "966:\tlearn: 14.1955123\ttotal: 39s\tremaining: 1.33s\n",
      "967:\tlearn: 14.1884993\ttotal: 39.1s\tremaining: 1.29s\n",
      "968:\tlearn: 14.1820036\ttotal: 39.1s\tremaining: 1.25s\n",
      "969:\tlearn: 14.1767456\ttotal: 39.2s\tremaining: 1.21s\n",
      "970:\tlearn: 14.1763924\ttotal: 39.2s\tremaining: 1.17s\n",
      "971:\tlearn: 14.1714640\ttotal: 39.2s\tremaining: 1.13s\n",
      "972:\tlearn: 14.1655528\ttotal: 39.3s\tremaining: 1.09s\n",
      "973:\tlearn: 14.1601034\ttotal: 39.3s\tremaining: 1.05s\n",
      "974:\tlearn: 14.1562098\ttotal: 39.4s\tremaining: 1.01s\n",
      "975:\tlearn: 14.1506537\ttotal: 39.4s\tremaining: 969ms\n",
      "976:\tlearn: 14.1432358\ttotal: 39.5s\tremaining: 930ms\n",
      "977:\tlearn: 14.1354174\ttotal: 39.5s\tremaining: 889ms\n",
      "978:\tlearn: 14.1350684\ttotal: 39.5s\tremaining: 848ms\n",
      "979:\tlearn: 14.1289599\ttotal: 39.6s\tremaining: 808ms\n",
      "980:\tlearn: 14.1213647\ttotal: 39.6s\tremaining: 767ms\n",
      "981:\tlearn: 14.1153707\ttotal: 39.7s\tremaining: 728ms\n",
      "982:\tlearn: 14.1091005\ttotal: 39.7s\tremaining: 687ms\n",
      "983:\tlearn: 14.1008023\ttotal: 39.7s\tremaining: 646ms\n",
      "984:\tlearn: 14.0987161\ttotal: 39.8s\tremaining: 606ms\n",
      "985:\tlearn: 14.0892353\ttotal: 39.8s\tremaining: 565ms\n",
      "986:\tlearn: 14.0836462\ttotal: 39.9s\tremaining: 525ms\n",
      "987:\tlearn: 14.0768471\ttotal: 39.9s\tremaining: 485ms\n",
      "988:\tlearn: 14.0662247\ttotal: 40s\tremaining: 445ms\n",
      "989:\tlearn: 14.0605114\ttotal: 40s\tremaining: 404ms\n",
      "990:\tlearn: 14.0543995\ttotal: 40s\tremaining: 363ms\n",
      "991:\tlearn: 14.0465606\ttotal: 40.1s\tremaining: 323ms\n",
      "992:\tlearn: 14.0385826\ttotal: 40.1s\tremaining: 283ms\n",
      "993:\tlearn: 14.0365603\ttotal: 40.2s\tremaining: 243ms\n",
      "994:\tlearn: 14.0288821\ttotal: 40.2s\tremaining: 202ms\n",
      "995:\tlearn: 14.0225389\ttotal: 40.3s\tremaining: 162ms\n",
      "996:\tlearn: 14.0180778\ttotal: 40.3s\tremaining: 121ms\n",
      "997:\tlearn: 14.0173647\ttotal: 40.4s\tremaining: 80.9ms\n",
      "998:\tlearn: 14.0112347\ttotal: 40.4s\tremaining: 40.4ms\n",
      "999:\tlearn: 14.0020168\ttotal: 40.5s\tremaining: 0us\n"
     ]
    },
    {
     "data": {
      "text/plain": [
       "<catboost.core.CatBoostRegressor at 0x7fef060c9e50>"
      ]
     },
     "execution_count": 35,
     "metadata": {},
     "output_type": "execute_result"
    }
   ],
   "source": [
    "model.fit(features_train, target_train)"
   ]
  },
  {
   "cell_type": "code",
   "execution_count": 36,
   "metadata": {},
   "outputs": [
    {
     "data": {
      "text/plain": [
       "40.28001520294049"
      ]
     },
     "execution_count": 36,
     "metadata": {},
     "output_type": "execute_result"
    }
   ],
   "source": [
    "predited=model.predict(features_test)\n",
    "mean_squared_error(predited,target_test)**0.5"
   ]
  },
  {
   "cell_type": "markdown",
   "metadata": {},
   "source": [
    "Перебрали несколько моделей и при помощи бустинга получили отклонение всего в 40 заказов.\n",
    "\n",
    "Оптимальной моделью является CatBoostRegressor."
   ]
  },
  {
   "cell_type": "code",
   "execution_count": 37,
   "metadata": {},
   "outputs": [
    {
     "data": {
      "text/html": [
       "<div>\n",
       "<style scoped>\n",
       "    .dataframe tbody tr th:only-of-type {\n",
       "        vertical-align: middle;\n",
       "    }\n",
       "\n",
       "    .dataframe tbody tr th {\n",
       "        vertical-align: top;\n",
       "    }\n",
       "\n",
       "    .dataframe thead th {\n",
       "        text-align: right;\n",
       "    }\n",
       "</style>\n",
       "<table border=\"1\" class=\"dataframe\">\n",
       "  <thead>\n",
       "    <tr style=\"text-align: right;\">\n",
       "      <th></th>\n",
       "      <th>predited</th>\n",
       "      <th>target_test</th>\n",
       "    </tr>\n",
       "    <tr>\n",
       "      <th>datetime</th>\n",
       "      <th></th>\n",
       "      <th></th>\n",
       "    </tr>\n",
       "  </thead>\n",
       "  <tbody>\n",
       "    <tr>\n",
       "      <td>2018-08-13 14:00:00</td>\n",
       "      <td>100.216421</td>\n",
       "      <td>102</td>\n",
       "    </tr>\n",
       "    <tr>\n",
       "      <td>2018-08-13 15:00:00</td>\n",
       "      <td>121.393672</td>\n",
       "      <td>175</td>\n",
       "    </tr>\n",
       "    <tr>\n",
       "      <td>2018-08-13 16:00:00</td>\n",
       "      <td>137.357115</td>\n",
       "      <td>144</td>\n",
       "    </tr>\n",
       "    <tr>\n",
       "      <td>2018-08-13 17:00:00</td>\n",
       "      <td>147.253889</td>\n",
       "      <td>152</td>\n",
       "    </tr>\n",
       "    <tr>\n",
       "      <td>2018-08-13 18:00:00</td>\n",
       "      <td>123.824600</td>\n",
       "      <td>104</td>\n",
       "    </tr>\n",
       "    <tr>\n",
       "      <td>...</td>\n",
       "      <td>...</td>\n",
       "      <td>...</td>\n",
       "    </tr>\n",
       "    <tr>\n",
       "      <td>2018-08-31 19:00:00</td>\n",
       "      <td>127.470917</td>\n",
       "      <td>136</td>\n",
       "    </tr>\n",
       "    <tr>\n",
       "      <td>2018-08-31 20:00:00</td>\n",
       "      <td>144.170009</td>\n",
       "      <td>154</td>\n",
       "    </tr>\n",
       "    <tr>\n",
       "      <td>2018-08-31 21:00:00</td>\n",
       "      <td>174.995374</td>\n",
       "      <td>159</td>\n",
       "    </tr>\n",
       "    <tr>\n",
       "      <td>2018-08-31 22:00:00</td>\n",
       "      <td>142.836657</td>\n",
       "      <td>223</td>\n",
       "    </tr>\n",
       "    <tr>\n",
       "      <td>2018-08-31 23:00:00</td>\n",
       "      <td>165.896104</td>\n",
       "      <td>205</td>\n",
       "    </tr>\n",
       "  </tbody>\n",
       "</table>\n",
       "<p>442 rows × 2 columns</p>\n",
       "</div>"
      ],
      "text/plain": [
       "                       predited  target_test\n",
       "datetime                                    \n",
       "2018-08-13 14:00:00  100.216421          102\n",
       "2018-08-13 15:00:00  121.393672          175\n",
       "2018-08-13 16:00:00  137.357115          144\n",
       "2018-08-13 17:00:00  147.253889          152\n",
       "2018-08-13 18:00:00  123.824600          104\n",
       "...                         ...          ...\n",
       "2018-08-31 19:00:00  127.470917          136\n",
       "2018-08-31 20:00:00  144.170009          154\n",
       "2018-08-31 21:00:00  174.995374          159\n",
       "2018-08-31 22:00:00  142.836657          223\n",
       "2018-08-31 23:00:00  165.896104          205\n",
       "\n",
       "[442 rows x 2 columns]"
      ]
     },
     "execution_count": 37,
     "metadata": {},
     "output_type": "execute_result"
    }
   ],
   "source": [
    "data=pd.DataFrame(list(zip(predited,target_test)),index=target_test.index,columns =['predited', 'target_test'])\n",
    "data=data.sort_index()\n",
    "data"
   ]
  },
  {
   "cell_type": "code",
   "execution_count": 38,
   "metadata": {},
   "outputs": [
    {
     "data": {
      "text/plain": [
       "<matplotlib.axes._subplots.AxesSubplot at 0x7fef060952d0>"
      ]
     },
     "execution_count": 38,
     "metadata": {},
     "output_type": "execute_result"
    },
    {
     "data": {
      "image/png": "[encoded data removed]",
      "text/plain": [
       "<Figure size 432x288 with 1 Axes>"
      ]
     },
     "metadata": {
      "needs_background": "light"
     },
     "output_type": "display_data"
    }
   ],
   "source": [
    "data['2018-08-19':'2018-08-21'].plot()"
   ]
  },
  {
   "cell_type": "markdown",
   "metadata": {},
   "source": [
    "## Чек-лист проверки"
   ]
  },
  {
   "cell_type": "markdown",
   "metadata": {},
   "source": [
    "- [x]  Jupyter Notebook открыт\n",
    "- [x]  Весь код выполняется без ошибок\n",
    "- [x]  Ячейки с кодом расположены в порядке исполнения\n",
    "- [x]  Данные загружены и подготовлены\n",
    "- [x]  Данные проанализированы\n",
    "- [x]  Модель обучена, гиперпараметры подобраны\n",
    "- [x]  Качество моделей проверено, выводы сделаны\n",
    "- [x]  Значение *RMSE* на тестовой выборке не больше 48"
   ]
  }
 ],
 "metadata": {
  "kernelspec": {
   "display_name": "Python 3",
   "language": "python",
   "name": "python3"
  },
  "language_info": {
   "codemirror_mode": {
    "name": "ipython",
    "version": 3
   },
   "file_extension": ".py",
   "mimetype": "text/x-python",
   "name": "python",
   "nbconvert_exporter": "python",
   "pygments_lexer": "ipython3",
   "version": "3.8.8"
  },
  "toc": {
   "base_numbering": 1,
   "nav_menu": {},
   "number_sections": true,
   "sideBar": true,
   "skip_h1_title": true,
   "title_cell": "Содержание",
   "title_sidebar": "Contents",
   "toc_cell": true,
   "toc_position": {
    "height": "calc(100% - 180px)",
    "left": "10px",
    "top": "150px",
    "width": "243.391px"
   },
   "toc_section_display": true,
   "toc_window_display": true
  }
 },
 "nbformat": 4,
 "nbformat_minor": 2
}
