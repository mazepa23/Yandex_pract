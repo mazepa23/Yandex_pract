{
 "cells": [
  {
   "cell_type": "markdown",
   "metadata": {
    "toc": true
   },
   "source": [
    "<h1>Содержание<span class=\"tocSkip\"></span></h1>\n",
    "<div class=\"toc\"><ul class=\"toc-item\"><li><span><a href=\"#Аналитика\" data-toc-modified-id=\"Аналитика-1\"><span class=\"toc-item-num\">1&nbsp;&nbsp;</span>Аналитика</a></span><ul class=\"toc-item\"><li><span><a href=\"#Импорт-и-проверка-на-корректность\" data-toc-modified-id=\"Импорт-и-проверка-на-корректность-1.1\"><span class=\"toc-item-num\">1.1&nbsp;&nbsp;</span>Импорт и проверка на корректность</a></span></li><li><span><a href=\"#Топ-10-городов-по-количеству-рейсов\" data-toc-modified-id=\"Топ-10-городов-по-количеству-рейсов-1.2\"><span class=\"toc-item-num\">1.2&nbsp;&nbsp;</span>Топ-10 городов по количеству рейсов</a></span></li><li><span><a href=\"#Графики\" data-toc-modified-id=\"Графики-1.3\"><span class=\"toc-item-num\">1.3&nbsp;&nbsp;</span>Графики</a></span><ul class=\"toc-item\"><li><span><a href=\"#Модели-самолётов-и-количество-рейсов\" data-toc-modified-id=\"Модели-самолётов-и-количество-рейсов-1.3.1\"><span class=\"toc-item-num\">1.3.1&nbsp;&nbsp;</span>Модели самолётов и количество рейсов</a></span></li><li><span><a href=\"#Города-и-количество-рейсов\" data-toc-modified-id=\"Города-и-количество-рейсов-1.3.2\"><span class=\"toc-item-num\">1.3.2&nbsp;&nbsp;</span>Города и количество рейсов</a></span></li><li><span><a href=\"#Топ-10-городов-и-количество-рейсов\" data-toc-modified-id=\"Топ-10-городов-и-количество-рейсов-1.3.3\"><span class=\"toc-item-num\">1.3.3&nbsp;&nbsp;</span>Топ-10 городов и количество рейсов</a></span></li></ul></li><li><span><a href=\"#Вывод\" data-toc-modified-id=\"Вывод-1.4\"><span class=\"toc-item-num\">1.4&nbsp;&nbsp;</span>Вывод</a></span></li></ul></li><li><span><a href=\"#Чек-лист-проверки\" data-toc-modified-id=\"Чек-лист-проверки-2\"><span class=\"toc-item-num\">2&nbsp;&nbsp;</span>Чек-лист проверки</a></span></li></ul></div>"
   ]
  },
  {
   "cell_type": "markdown",
   "metadata": {},
   "source": [
    "## Запросы к БД"
   ]
  },
  {
   "cell_type": "markdown",
   "metadata": {},
   "source": [
    "### Количество рейсов на каждой модели самолёта с вылетом в сентябре 2018 года"
   ]
  },
  {
   "cell_type": "markdown",
   "metadata": {},
   "source": [
    "``` mysql\n",
    "SELECT \n",
    "aircrafts.model as model,\n",
    "count(flights.flight_id) AS flights_amount\n",
    "FROM \n",
    "flights join aircrafts on aircrafts.aircraft_code = flights.aircraft_code\n",
    "where \n",
    "flights.departure_time::date BETWEEN '2018-09-1' and '2018-09-30'\n",
    "group by \n",
    "aircrafts.model;\n",
    "```"
   ]
  },
  {
   "cell_type": "markdown",
   "metadata": {},
   "source": [
    "### Количество прибывающих рейсов в день для каждого города за август 2018 года"
   ]
  },
  {
   "cell_type": "markdown",
   "metadata": {},
   "source": [
    "``` mysql\n",
    "select\n",
    "    SUBQ.city,\n",
    "    avg(SUBQ.cnt) as average_flights\n",
    "from(\n",
    "    select\n",
    "        airports.city as city,\n",
    "        extract(day from flights.arrival_time::date) AS trunc_date,\n",
    "        count(flights.flight_id) as cnt\n",
    "    from\n",
    "        flights\n",
    "        inner join airports on flights.arrival_airport = airports.airport_code\n",
    "    where\n",
    "        flights.arrival_time::date between '2018-08-1' and '2018-08-31'\n",
    "    group by\n",
    "        airports.city,\n",
    "        trunc_date) as SUBQ\n",
    "group by\n",
    "        SUBQ.city\n",
    "```"
   ]
  },
  {
   "cell_type": "markdown",
   "metadata": {},
   "source": [
    "# Спрос на рейсы авиакомпании"
   ]
  },
  {
   "cell_type": "markdown",
   "metadata": {},
   "source": [
    "Вы аналитик российской авиакомпании F9, выполняющей внутренние пассажирские перевозки. Важно понять предпочтения пользователей, покупающих билеты на разные направления.\n",
    "\n",
    "Вам предстоит изучить базу данных и проанализировать спрос пассажиров на рейсы в города, где проходят крупнейшие культурные фестивали."
   ]
  },
  {
   "cell_type": "markdown",
   "metadata": {},
   "source": [
    "У вас есть файлы с результатами запросов из предыдущих заданий.\n",
    "\n",
    "**query_1.csv** — результат первого запроса. В нём содержится такая информация:\n",
    "\n",
    "- *model* — **модель самолета;\n",
    "- *flights_amount* — количество рейсов для каждой модели самолетов *model* в сентябре 2018 года.\n",
    "\n",
    "**query_3.csv** — результат третьего запроса. В нём содержится такая информация:\n",
    "\n",
    "- *city* — город;\n",
    "- *average_flights* — среднее количество рейсов, прибывающих в город (*city*) за день в сентябре 2018 года.\n",
    "\n",
    " Для этих двух наборов данных нужно:\n",
    "\n",
    "- импортировать файлы;\n",
    "- изучить данные в них;\n",
    "- проверить типы данных на корректность;\n",
    "- выбрать топ-10 городов по количеству рейсов;\n",
    "- построить графики: модели самолётов и количество рейсов, города и количество рейсов, топ-10 городов и количество рейсов;\n",
    "- сделать выводы по каждому из графиков, пояснить результат.\n"
   ]
  },
  {
   "cell_type": "markdown",
   "metadata": {},
   "source": [
    "## Аналитика"
   ]
  },
  {
   "cell_type": "markdown",
   "metadata": {},
   "source": [
    "### Импорт и проверка на корректность"
   ]
  },
  {
   "cell_type": "code",
   "execution_count": 1,
   "metadata": {},
   "outputs": [
    {
     "name": "stdout",
     "output_type": "stream",
     "text": [
      "Requirement already satisfied: folium in /home/jovyan/.local/lib/python3.7/site-packages (0.12.1)\n",
      "Requirement already satisfied: branca>=0.3.0 in /home/jovyan/.local/lib/python3.7/site-packages (from folium) (0.4.2)\n",
      "Requirement already satisfied: jinja2>=2.9 in /opt/conda/lib/python3.7/site-packages (from folium) (2.11.2)\n",
      "Requirement already satisfied: requests in /opt/conda/lib/python3.7/site-packages (from folium) (2.22.0)\n",
      "Requirement already satisfied: numpy in /opt/conda/lib/python3.7/site-packages (from folium) (1.19.5)\n",
      "Requirement already satisfied: MarkupSafe>=0.23 in /opt/conda/lib/python3.7/site-packages (from jinja2>=2.9->folium) (2.0.1)\n",
      "Requirement already satisfied: urllib3!=1.25.0,!=1.25.1,<1.26,>=1.21.1 in /opt/conda/lib/python3.7/site-packages (from requests->folium) (1.25.11)\n",
      "Requirement already satisfied: idna<2.9,>=2.5 in /opt/conda/lib/python3.7/site-packages (from requests->folium) (2.8)\n",
      "Requirement already satisfied: certifi>=2017.4.17 in /opt/conda/lib/python3.7/site-packages (from requests->folium) (2021.5.30)\n",
      "Requirement already satisfied: chardet<3.1.0,>=3.0.2 in /opt/conda/lib/python3.7/site-packages (from requests->folium) (3.0.4)\n"
     ]
    }
   ],
   "source": [
    "!pip install --user folium"
   ]
  },
  {
   "cell_type": "code",
   "execution_count": 2,
   "metadata": {},
   "outputs": [
    {
     "name": "stdout",
     "output_type": "stream",
     "text": [
      "Requirement already satisfied: geopy in /home/jovyan/.local/lib/python3.7/site-packages (2.1.0)\r\n",
      "Requirement already satisfied: geographiclib<2,>=1.49 in /home/jovyan/.local/lib/python3.7/site-packages (from geopy) (1.52)\r\n"
     ]
    }
   ],
   "source": [
    "!pip install --user geopy"
   ]
  },
  {
   "cell_type": "code",
   "execution_count": 3,
   "metadata": {},
   "outputs": [],
   "source": [
    "import pandas as pd\n",
    "import matplotlib.pyplot as plt\n",
    "import folium\n",
    "from folium import plugins\n",
    "from folium.plugins import HeatMap\n",
    "import seaborn as sns\n",
    "from geopy.geocoders import Nominatim\n",
    "from collections import Counter"
   ]
  },
  {
   "cell_type": "code",
   "execution_count": 4,
   "metadata": {},
   "outputs": [
    {
     "name": "stdout",
     "output_type": "stream",
     "text": [
      "<class 'pandas.core.frame.DataFrame'>\n",
      "RangeIndex: 8 entries, 0 to 7\n",
      "Data columns (total 2 columns):\n",
      "model             8 non-null object\n",
      "flights_amount    8 non-null int64\n",
      "dtypes: int64(1), object(1)\n",
      "memory usage: 256.0+ bytes\n"
     ]
    }
   ],
   "source": [
    "try:\n",
    "    query_1=pd.read_csv('query_1.csv')\n",
    "except:\n",
    "    query_1 = pd.read_csv('/datasets/query_1.csv')\n",
    "query_1.info()"
   ]
  },
  {
   "cell_type": "code",
   "execution_count": 5,
   "metadata": {},
   "outputs": [
    {
     "data": {
      "text/html": [
       "<div>\n",
       "<style scoped>\n",
       "    .dataframe tbody tr th:only-of-type {\n",
       "        vertical-align: middle;\n",
       "    }\n",
       "\n",
       "    .dataframe tbody tr th {\n",
       "        vertical-align: top;\n",
       "    }\n",
       "\n",
       "    .dataframe thead th {\n",
       "        text-align: right;\n",
       "    }\n",
       "</style>\n",
       "<table border=\"1\" class=\"dataframe\">\n",
       "  <thead>\n",
       "    <tr style=\"text-align: right;\">\n",
       "      <th></th>\n",
       "      <th>model</th>\n",
       "      <th>flights_amount</th>\n",
       "    </tr>\n",
       "  </thead>\n",
       "  <tbody>\n",
       "    <tr>\n",
       "      <td>6</td>\n",
       "      <td>Cessna 208 Caravan</td>\n",
       "      <td>4557</td>\n",
       "    </tr>\n",
       "    <tr>\n",
       "      <td>1</td>\n",
       "      <td>Airbus A321-200</td>\n",
       "      <td>960</td>\n",
       "    </tr>\n",
       "    <tr>\n",
       "      <td>4</td>\n",
       "      <td>Boeing 777-300</td>\n",
       "      <td>300</td>\n",
       "    </tr>\n",
       "    <tr>\n",
       "      <td>2</td>\n",
       "      <td>Boeing 737-300</td>\n",
       "      <td>630</td>\n",
       "    </tr>\n",
       "    <tr>\n",
       "      <td>0</td>\n",
       "      <td>Airbus A319-100</td>\n",
       "      <td>607</td>\n",
       "    </tr>\n",
       "  </tbody>\n",
       "</table>\n",
       "</div>"
      ],
      "text/plain": [
       "                model  flights_amount\n",
       "6  Cessna 208 Caravan            4557\n",
       "1     Airbus A321-200             960\n",
       "4      Boeing 777-300             300\n",
       "2      Boeing 737-300             630\n",
       "0     Airbus A319-100             607"
      ]
     },
     "execution_count": 5,
     "metadata": {},
     "output_type": "execute_result"
    }
   ],
   "source": [
    "query_1.sample(5)"
   ]
  },
  {
   "cell_type": "code",
   "execution_count": 6,
   "metadata": {},
   "outputs": [
    {
     "data": {
      "text/html": [
       "<div>\n",
       "<style scoped>\n",
       "    .dataframe tbody tr th:only-of-type {\n",
       "        vertical-align: middle;\n",
       "    }\n",
       "\n",
       "    .dataframe tbody tr th {\n",
       "        vertical-align: top;\n",
       "    }\n",
       "\n",
       "    .dataframe thead th {\n",
       "        text-align: right;\n",
       "    }\n",
       "</style>\n",
       "<table border=\"1\" class=\"dataframe\">\n",
       "  <thead>\n",
       "    <tr style=\"text-align: right;\">\n",
       "      <th></th>\n",
       "      <th>flights_amount</th>\n",
       "    </tr>\n",
       "  </thead>\n",
       "  <tbody>\n",
       "    <tr>\n",
       "      <td>count</td>\n",
       "      <td>8.000000</td>\n",
       "    </tr>\n",
       "    <tr>\n",
       "      <td>mean</td>\n",
       "      <td>2035.625000</td>\n",
       "    </tr>\n",
       "    <tr>\n",
       "      <td>std</td>\n",
       "      <td>1965.203947</td>\n",
       "    </tr>\n",
       "    <tr>\n",
       "      <td>min</td>\n",
       "      <td>300.000000</td>\n",
       "    </tr>\n",
       "    <tr>\n",
       "      <td>25%</td>\n",
       "      <td>605.250000</td>\n",
       "    </tr>\n",
       "    <tr>\n",
       "      <td>50%</td>\n",
       "      <td>795.000000</td>\n",
       "    </tr>\n",
       "    <tr>\n",
       "      <td>75%</td>\n",
       "      <td>4250.250000</td>\n",
       "    </tr>\n",
       "    <tr>\n",
       "      <td>max</td>\n",
       "      <td>4557.000000</td>\n",
       "    </tr>\n",
       "  </tbody>\n",
       "</table>\n",
       "</div>"
      ],
      "text/plain": [
       "       flights_amount\n",
       "count        8.000000\n",
       "mean      2035.625000\n",
       "std       1965.203947\n",
       "min        300.000000\n",
       "25%        605.250000\n",
       "50%        795.000000\n",
       "75%       4250.250000\n",
       "max       4557.000000"
      ]
     },
     "execution_count": 6,
     "metadata": {},
     "output_type": "execute_result"
    }
   ],
   "source": [
    "query_1.describe()"
   ]
  },
  {
   "cell_type": "code",
   "execution_count": 7,
   "metadata": {},
   "outputs": [
    {
     "name": "stdout",
     "output_type": "stream",
     "text": [
      "<class 'pandas.core.frame.DataFrame'>\n",
      "RangeIndex: 101 entries, 0 to 100\n",
      "Data columns (total 2 columns):\n",
      "city               101 non-null object\n",
      "average_flights    101 non-null float64\n",
      "dtypes: float64(1), object(1)\n",
      "memory usage: 1.7+ KB\n"
     ]
    }
   ],
   "source": [
    "try:\n",
    "    query_3=pd.read_csv('query_3.csv')\n",
    "except:\n",
    "    query_3 = pd.read_csv('/datasets/query_3.csv')\n",
    "query_3.info()"
   ]
  },
  {
   "cell_type": "code",
   "execution_count": 8,
   "metadata": {},
   "outputs": [
    {
     "data": {
      "text/html": [
       "<div>\n",
       "<style scoped>\n",
       "    .dataframe tbody tr th:only-of-type {\n",
       "        vertical-align: middle;\n",
       "    }\n",
       "\n",
       "    .dataframe tbody tr th {\n",
       "        vertical-align: top;\n",
       "    }\n",
       "\n",
       "    .dataframe thead th {\n",
       "        text-align: right;\n",
       "    }\n",
       "</style>\n",
       "<table border=\"1\" class=\"dataframe\">\n",
       "  <thead>\n",
       "    <tr style=\"text-align: right;\">\n",
       "      <th></th>\n",
       "      <th>city</th>\n",
       "      <th>average_flights</th>\n",
       "    </tr>\n",
       "  </thead>\n",
       "  <tbody>\n",
       "    <tr>\n",
       "      <td>38</td>\n",
       "      <td>Магадан</td>\n",
       "      <td>1.357143</td>\n",
       "    </tr>\n",
       "    <tr>\n",
       "      <td>3</td>\n",
       "      <td>Архангельск</td>\n",
       "      <td>5.354839</td>\n",
       "    </tr>\n",
       "    <tr>\n",
       "      <td>91</td>\n",
       "      <td>Хабаровск</td>\n",
       "      <td>6.548387</td>\n",
       "    </tr>\n",
       "    <tr>\n",
       "      <td>74</td>\n",
       "      <td>Сочи</td>\n",
       "      <td>9.612903</td>\n",
       "    </tr>\n",
       "    <tr>\n",
       "      <td>75</td>\n",
       "      <td>Ставрополь</td>\n",
       "      <td>2.000000</td>\n",
       "    </tr>\n",
       "  </tbody>\n",
       "</table>\n",
       "</div>"
      ],
      "text/plain": [
       "           city  average_flights\n",
       "38      Магадан         1.357143\n",
       "3   Архангельск         5.354839\n",
       "91    Хабаровск         6.548387\n",
       "74         Сочи         9.612903\n",
       "75   Ставрополь         2.000000"
      ]
     },
     "execution_count": 8,
     "metadata": {},
     "output_type": "execute_result"
    }
   ],
   "source": [
    "query_3.sample(5)"
   ]
  },
  {
   "cell_type": "code",
   "execution_count": 9,
   "metadata": {},
   "outputs": [
    {
     "data": {
      "text/html": [
       "<div>\n",
       "<style scoped>\n",
       "    .dataframe tbody tr th:only-of-type {\n",
       "        vertical-align: middle;\n",
       "    }\n",
       "\n",
       "    .dataframe tbody tr th {\n",
       "        vertical-align: top;\n",
       "    }\n",
       "\n",
       "    .dataframe thead th {\n",
       "        text-align: right;\n",
       "    }\n",
       "</style>\n",
       "<table border=\"1\" class=\"dataframe\">\n",
       "  <thead>\n",
       "    <tr style=\"text-align: right;\">\n",
       "      <th></th>\n",
       "      <th>average_flights</th>\n",
       "    </tr>\n",
       "  </thead>\n",
       "  <tbody>\n",
       "    <tr>\n",
       "      <td>count</td>\n",
       "      <td>101.000000</td>\n",
       "    </tr>\n",
       "    <tr>\n",
       "      <td>mean</td>\n",
       "      <td>5.494189</td>\n",
       "    </tr>\n",
       "    <tr>\n",
       "      <td>std</td>\n",
       "      <td>13.119790</td>\n",
       "    </tr>\n",
       "    <tr>\n",
       "      <td>min</td>\n",
       "      <td>1.000000</td>\n",
       "    </tr>\n",
       "    <tr>\n",
       "      <td>25%</td>\n",
       "      <td>2.000000</td>\n",
       "    </tr>\n",
       "    <tr>\n",
       "      <td>50%</td>\n",
       "      <td>3.000000</td>\n",
       "    </tr>\n",
       "    <tr>\n",
       "      <td>75%</td>\n",
       "      <td>5.870968</td>\n",
       "    </tr>\n",
       "    <tr>\n",
       "      <td>max</td>\n",
       "      <td>129.774194</td>\n",
       "    </tr>\n",
       "  </tbody>\n",
       "</table>\n",
       "</div>"
      ],
      "text/plain": [
       "       average_flights\n",
       "count       101.000000\n",
       "mean          5.494189\n",
       "std          13.119790\n",
       "min           1.000000\n",
       "25%           2.000000\n",
       "50%           3.000000\n",
       "75%           5.870968\n",
       "max         129.774194"
      ]
     },
     "execution_count": 9,
     "metadata": {},
     "output_type": "execute_result"
    }
   ],
   "source": [
    "query_3.describe()"
   ]
  },
  {
   "cell_type": "code",
   "execution_count": 10,
   "metadata": {},
   "outputs": [
    {
     "data": {
      "text/plain": [
       "101"
      ]
     },
     "execution_count": 10,
     "metadata": {},
     "output_type": "execute_result"
    }
   ],
   "source": [
    "len(query_3['city'].unique())"
   ]
  },
  {
   "cell_type": "code",
   "execution_count": 11,
   "metadata": {},
   "outputs": [
    {
     "data": {
      "text/plain": [
       "101"
      ]
     },
     "execution_count": 11,
     "metadata": {},
     "output_type": "execute_result"
    }
   ],
   "source": [
    "len(Counter(query_3['city']))"
   ]
  },
  {
   "cell_type": "markdown",
   "metadata": {},
   "source": [
    "Данные загрузили, пропусков нет, дубликатов нет, все типы приведены к нужным."
   ]
  },
  {
   "cell_type": "markdown",
   "metadata": {},
   "source": [
    "### Топ-10 городов по количеству рейсов"
   ]
  },
  {
   "cell_type": "code",
   "execution_count": 12,
   "metadata": {},
   "outputs": [
    {
     "data": {
      "text/html": [
       "<div>\n",
       "<style scoped>\n",
       "    .dataframe tbody tr th:only-of-type {\n",
       "        vertical-align: middle;\n",
       "    }\n",
       "\n",
       "    .dataframe tbody tr th {\n",
       "        vertical-align: top;\n",
       "    }\n",
       "\n",
       "    .dataframe thead th {\n",
       "        text-align: right;\n",
       "    }\n",
       "</style>\n",
       "<table border=\"1\" class=\"dataframe\">\n",
       "  <thead>\n",
       "    <tr style=\"text-align: right;\">\n",
       "      <th></th>\n",
       "      <th>city</th>\n",
       "      <th>average_flights</th>\n",
       "    </tr>\n",
       "  </thead>\n",
       "  <tbody>\n",
       "    <tr>\n",
       "      <td>43</td>\n",
       "      <td>Москва</td>\n",
       "      <td>129.774194</td>\n",
       "    </tr>\n",
       "    <tr>\n",
       "      <td>70</td>\n",
       "      <td>Санкт-Петербург</td>\n",
       "      <td>31.161290</td>\n",
       "    </tr>\n",
       "    <tr>\n",
       "      <td>54</td>\n",
       "      <td>Новосибирск</td>\n",
       "      <td>17.322581</td>\n",
       "    </tr>\n",
       "    <tr>\n",
       "      <td>33</td>\n",
       "      <td>Красноярск</td>\n",
       "      <td>11.580645</td>\n",
       "    </tr>\n",
       "    <tr>\n",
       "      <td>20</td>\n",
       "      <td>Екатеринбург</td>\n",
       "      <td>11.322581</td>\n",
       "    </tr>\n",
       "    <tr>\n",
       "      <td>67</td>\n",
       "      <td>Ростов-на-Дону</td>\n",
       "      <td>10.193548</td>\n",
       "    </tr>\n",
       "    <tr>\n",
       "      <td>63</td>\n",
       "      <td>Пермь</td>\n",
       "      <td>10.129032</td>\n",
       "    </tr>\n",
       "    <tr>\n",
       "      <td>10</td>\n",
       "      <td>Брянск</td>\n",
       "      <td>10.000000</td>\n",
       "    </tr>\n",
       "    <tr>\n",
       "      <td>74</td>\n",
       "      <td>Сочи</td>\n",
       "      <td>9.612903</td>\n",
       "    </tr>\n",
       "    <tr>\n",
       "      <td>84</td>\n",
       "      <td>Ульяновск</td>\n",
       "      <td>9.580645</td>\n",
       "    </tr>\n",
       "  </tbody>\n",
       "</table>\n",
       "</div>"
      ],
      "text/plain": [
       "               city  average_flights\n",
       "43           Москва       129.774194\n",
       "70  Санкт-Петербург        31.161290\n",
       "54      Новосибирск        17.322581\n",
       "33       Красноярск        11.580645\n",
       "20     Екатеринбург        11.322581\n",
       "67   Ростов-на-Дону        10.193548\n",
       "63            Пермь        10.129032\n",
       "10           Брянск        10.000000\n",
       "74             Сочи         9.612903\n",
       "84        Ульяновск         9.580645"
      ]
     },
     "execution_count": 12,
     "metadata": {},
     "output_type": "execute_result"
    }
   ],
   "source": [
    "top10=query_3.sort_values('average_flights', ascending=False).head(10)\n",
    "top10"
   ]
  },
  {
   "cell_type": "markdown",
   "metadata": {},
   "source": [
    "### Графики"
   ]
  },
  {
   "cell_type": "markdown",
   "metadata": {},
   "source": [
    "#### Модели самолётов и количество рейсов"
   ]
  },
  {
   "cell_type": "code",
   "execution_count": 13,
   "metadata": {},
   "outputs": [
    {
     "data": {
      "text/html": [
       "<div>\n",
       "<style scoped>\n",
       "    .dataframe tbody tr th:only-of-type {\n",
       "        vertical-align: middle;\n",
       "    }\n",
       "\n",
       "    .dataframe tbody tr th {\n",
       "        vertical-align: top;\n",
       "    }\n",
       "\n",
       "    .dataframe thead th {\n",
       "        text-align: right;\n",
       "    }\n",
       "</style>\n",
       "<table border=\"1\" class=\"dataframe\">\n",
       "  <thead>\n",
       "    <tr style=\"text-align: right;\">\n",
       "      <th></th>\n",
       "      <th>model</th>\n",
       "      <th>flights_amount</th>\n",
       "    </tr>\n",
       "  </thead>\n",
       "  <tbody>\n",
       "    <tr>\n",
       "      <td>4</td>\n",
       "      <td>Boeing 777-300</td>\n",
       "      <td>300</td>\n",
       "    </tr>\n",
       "    <tr>\n",
       "      <td>3</td>\n",
       "      <td>Boeing 767-300</td>\n",
       "      <td>600</td>\n",
       "    </tr>\n",
       "    <tr>\n",
       "      <td>0</td>\n",
       "      <td>Airbus A319-100</td>\n",
       "      <td>607</td>\n",
       "    </tr>\n",
       "    <tr>\n",
       "      <td>2</td>\n",
       "      <td>Boeing 737-300</td>\n",
       "      <td>630</td>\n",
       "    </tr>\n",
       "    <tr>\n",
       "      <td>1</td>\n",
       "      <td>Airbus A321-200</td>\n",
       "      <td>960</td>\n",
       "    </tr>\n",
       "    <tr>\n",
       "      <td>7</td>\n",
       "      <td>Sukhoi SuperJet-100</td>\n",
       "      <td>4185</td>\n",
       "    </tr>\n",
       "    <tr>\n",
       "      <td>5</td>\n",
       "      <td>Bombardier CRJ-200</td>\n",
       "      <td>4446</td>\n",
       "    </tr>\n",
       "    <tr>\n",
       "      <td>6</td>\n",
       "      <td>Cessna 208 Caravan</td>\n",
       "      <td>4557</td>\n",
       "    </tr>\n",
       "  </tbody>\n",
       "</table>\n",
       "</div>"
      ],
      "text/plain": [
       "                 model  flights_amount\n",
       "4       Boeing 777-300             300\n",
       "3       Boeing 767-300             600\n",
       "0      Airbus A319-100             607\n",
       "2       Boeing 737-300             630\n",
       "1      Airbus A321-200             960\n",
       "7  Sukhoi SuperJet-100            4185\n",
       "5   Bombardier CRJ-200            4446\n",
       "6   Cessna 208 Caravan            4557"
      ]
     },
     "execution_count": 13,
     "metadata": {},
     "output_type": "execute_result"
    }
   ],
   "source": [
    "top_air=query_1.sort_values('flights_amount')\n",
    "top_air"
   ]
  },
  {
   "cell_type": "code",
   "execution_count": 14,
   "metadata": {},
   "outputs": [
    {
     "data": {
      "image/png": "[encoded data removed]",
      "text/plain": [
       "<Figure size 432x288 with 1 Axes>"
      ]
     },
     "metadata": {
      "needs_background": "light"
     },
     "output_type": "display_data"
    }
   ],
   "source": [
    "plt.barh(top_air['model'],top_air['flights_amount'])\n",
    "plt.grid()\n",
    "plt.xlabel('Вылеты')\n",
    "plt.ylabel('Марка самолёта')\n",
    "plt.title('Топ самолётов по количеству вылетов за месяц',fontsize=20)\n",
    "plt.show()"
   ]
  },
  {
   "cell_type": "markdown",
   "metadata": {},
   "source": [
    "По графику явно выделяется тройка лидеров с количеством вылетов за 4000 в месяц, отсавшиеся 4 модели образовали группу с количетсвом вылетов до 1000."
   ]
  },
  {
   "cell_type": "markdown",
   "metadata": {},
   "source": [
    "#### Города и количество рейсов"
   ]
  },
  {
   "cell_type": "code",
   "execution_count": 15,
   "metadata": {},
   "outputs": [
    {
     "data": {
      "text/html": [
       "<div>\n",
       "<style scoped>\n",
       "    .dataframe tbody tr th:only-of-type {\n",
       "        vertical-align: middle;\n",
       "    }\n",
       "\n",
       "    .dataframe tbody tr th {\n",
       "        vertical-align: top;\n",
       "    }\n",
       "\n",
       "    .dataframe thead th {\n",
       "        text-align: right;\n",
       "    }\n",
       "</style>\n",
       "<table border=\"1\" class=\"dataframe\">\n",
       "  <thead>\n",
       "    <tr style=\"text-align: right;\">\n",
       "      <th></th>\n",
       "      <th>city</th>\n",
       "      <th>average_flights</th>\n",
       "    </tr>\n",
       "  </thead>\n",
       "  <tbody>\n",
       "    <tr>\n",
       "      <td>8</td>\n",
       "      <td>Благовещенск</td>\n",
       "      <td>1.000000</td>\n",
       "    </tr>\n",
       "    <tr>\n",
       "      <td>1</td>\n",
       "      <td>Анадырь</td>\n",
       "      <td>1.000000</td>\n",
       "    </tr>\n",
       "    <tr>\n",
       "      <td>31</td>\n",
       "      <td>Комсомольск-на-Амуре</td>\n",
       "      <td>1.000000</td>\n",
       "    </tr>\n",
       "    <tr>\n",
       "      <td>76</td>\n",
       "      <td>Стрежевой</td>\n",
       "      <td>1.000000</td>\n",
       "    </tr>\n",
       "    <tr>\n",
       "      <td>49</td>\n",
       "      <td>Нефтеюганск</td>\n",
       "      <td>1.000000</td>\n",
       "    </tr>\n",
       "    <tr>\n",
       "      <td>...</td>\n",
       "      <td>...</td>\n",
       "      <td>...</td>\n",
       "    </tr>\n",
       "    <tr>\n",
       "      <td>20</td>\n",
       "      <td>Екатеринбург</td>\n",
       "      <td>11.322581</td>\n",
       "    </tr>\n",
       "    <tr>\n",
       "      <td>33</td>\n",
       "      <td>Красноярск</td>\n",
       "      <td>11.580645</td>\n",
       "    </tr>\n",
       "    <tr>\n",
       "      <td>54</td>\n",
       "      <td>Новосибирск</td>\n",
       "      <td>17.322581</td>\n",
       "    </tr>\n",
       "    <tr>\n",
       "      <td>70</td>\n",
       "      <td>Санкт-Петербург</td>\n",
       "      <td>31.161290</td>\n",
       "    </tr>\n",
       "    <tr>\n",
       "      <td>43</td>\n",
       "      <td>Москва</td>\n",
       "      <td>129.774194</td>\n",
       "    </tr>\n",
       "  </tbody>\n",
       "</table>\n",
       "<p>101 rows × 2 columns</p>\n",
       "</div>"
      ],
      "text/plain": [
       "                    city  average_flights\n",
       "8           Благовещенск         1.000000\n",
       "1                Анадырь         1.000000\n",
       "31  Комсомольск-на-Амуре         1.000000\n",
       "76             Стрежевой         1.000000\n",
       "49           Нефтеюганск         1.000000\n",
       "..                   ...              ...\n",
       "20          Екатеринбург        11.322581\n",
       "33            Красноярск        11.580645\n",
       "54           Новосибирск        17.322581\n",
       "70       Санкт-Петербург        31.161290\n",
       "43                Москва       129.774194\n",
       "\n",
       "[101 rows x 2 columns]"
      ]
     },
     "execution_count": 15,
     "metadata": {},
     "output_type": "execute_result"
    }
   ],
   "source": [
    "query_3=query_3.sort_values('average_flights')\n",
    "query_3"
   ]
  },
  {
   "cell_type": "code",
   "execution_count": 16,
   "metadata": {},
   "outputs": [
    {
     "data": {
      "image/png": "[encoded data removed]",
      "text/plain": [
       "<Figure size 720x1440 with 1 Axes>"
      ]
     },
     "metadata": {
      "needs_background": "light"
     },
     "output_type": "display_data"
    }
   ],
   "source": [
    "plt.figure(figsize=(10,20))\n",
    "plt.barh(query_3['city'],query_3['average_flights'])\n",
    "plt.grid()\n",
    "plt.xlabel('Вылеты',fontsize=20)\n",
    "plt.ylabel('Города',fontsize=20)\n",
    "plt.title('Распределение вылетов по городам',fontsize=20)\n",
    "plt.show()"
   ]
  },
  {
   "cell_type": "markdown",
   "metadata": {},
   "source": [
    "Столица с показателем за 120 в 4 раза превосходит ближайшего преследователя с результатом около 30.\n",
    "Остальные города принимают не более 20 рейсов в день."
   ]
  },
  {
   "cell_type": "code",
   "execution_count": 17,
   "metadata": {},
   "outputs": [
    {
     "data": {
      "text/html": [
       "<div style=\"width:100%;\"><div style=\"position:relative;width:100%;height:0;padding-bottom:60%;\"><span style=\"color:#565656\">Make this Notebook Trusted to load map: File -> Trust Notebook</span><iframe src=\"about:blank\" style=\"position:absolute;width:100%;height:100%;left:0;top:0;border:none !important;\" data-html=%3C%21DOCTYPE%20html%3E%0A%3Chead%3E%20%20%20%20%0A%20%20%20%20%3Cmeta%20http-equiv%3D%22content-type%22%20content%3D%22text/html%3B%20charset%3DUTF-8%22%20/%3E%0A%20%20%20%20%0A%20%20%20%20%20%20%20%20%3Cscript%3E%0A%20%20%20%20%20%20%20%20%20%20%20%20L_NO_TOUCH%20%3D%20false%3B%0A%20%20%20%20%20%20%20%20%20%20%20%20L_DISABLE_3D%20%3D%20false%3B%0A%20%20%20%20%20%20%20%20%3C/script%3E%0A%20%20%20%20%0A%20%20%20%20%3Cstyle%3Ehtml%2C%20body%20%7Bwidth%3A%20100%25%3Bheight%3A%20100%25%3Bmargin%3A%200%3Bpadding%3A%200%3B%7D%3C/style%3E%0A%20%20%20%20%3Cstyle%3E%23map%20%7Bposition%3Aabsolute%3Btop%3A0%3Bbottom%3A0%3Bright%3A0%3Bleft%3A0%3B%7D%3C/style%3E%0A%20%20%20%20%3Cscript%20src%3D%22https%3A//cdn.jsdelivr.net/npm/leaflet%401.6.0/dist/leaflet.js%22%3E%3C/script%3E%0A%20%20%20%20%3Cscript%20src%3D%22https%3A//code.jquery.com/jquery-1.12.4.min.js%22%3E%3C/script%3E%0A%20%20%20%20%3Cscript%20src%3D%22https%3A//maxcdn.bootstrapcdn.com/bootstrap/3.2.0/js/bootstrap.min.js%22%3E%3C/script%3E%0A%20%20%20%20%3Cscript%20src%3D%22https%3A//cdnjs.cloudflare.com/ajax/libs/Leaflet.awesome-markers/2.0.2/leaflet.awesome-markers.js%22%3E%3C/script%3E%0A%20%20%20%20%3Clink%20rel%3D%22stylesheet%22%20href%3D%22https%3A//cdn.jsdelivr.net/npm/leaflet%401.6.0/dist/leaflet.css%22/%3E%0A%20%20%20%20%3Clink%20rel%3D%22stylesheet%22%20href%3D%22https%3A//maxcdn.bootstrapcdn.com/bootstrap/3.2.0/css/bootstrap.min.css%22/%3E%0A%20%20%20%20%3Clink%20rel%3D%22stylesheet%22%20href%3D%22https%3A//maxcdn.bootstrapcdn.com/bootstrap/3.2.0/css/bootstrap-theme.min.css%22/%3E%0A%20%20%20%20%3Clink%20rel%3D%22stylesheet%22%20href%3D%22https%3A//maxcdn.bootstrapcdn.com/font-awesome/4.6.3/css/font-awesome.min.css%22/%3E%0A%20%20%20%20%3Clink%20rel%3D%22stylesheet%22%20href%3D%22https%3A//cdnjs.cloudflare.com/ajax/libs/Leaflet.awesome-markers/2.0.2/leaflet.awesome-markers.css%22/%3E%0A%20%20%20%20%3Clink%20rel%3D%22stylesheet%22%20href%3D%22https%3A//cdn.jsdelivr.net/gh/python-visualization/folium/folium/templates/leaflet.awesome.rotate.min.css%22/%3E%0A%20%20%20%20%0A%20%20%20%20%20%20%20%20%20%20%20%20%3Cmeta%20name%3D%22viewport%22%20content%3D%22width%3Ddevice-width%2C%0A%20%20%20%20%20%20%20%20%20%20%20%20%20%20%20%20initial-scale%3D1.0%2C%20maximum-scale%3D1.0%2C%20user-scalable%3Dno%22%20/%3E%0A%20%20%20%20%20%20%20%20%20%20%20%20%3Cstyle%3E%0A%20%20%20%20%20%20%20%20%20%20%20%20%20%20%20%20%23map_f916b056ee8b40c1904d07af61aef662%20%7B%0A%20%20%20%20%20%20%20%20%20%20%20%20%20%20%20%20%20%20%20%20position%3A%20relative%3B%0A%20%20%20%20%20%20%20%20%20%20%20%20%20%20%20%20%20%20%20%20width%3A%20100.0%25%3B%0A%20%20%20%20%20%20%20%20%20%20%20%20%20%20%20%20%20%20%20%20height%3A%20100.0%25%3B%0A%20%20%20%20%20%20%20%20%20%20%20%20%20%20%20%20%20%20%20%20left%3A%200.0%25%3B%0A%20%20%20%20%20%20%20%20%20%20%20%20%20%20%20%20%20%20%20%20top%3A%200.0%25%3B%0A%20%20%20%20%20%20%20%20%20%20%20%20%20%20%20%20%7D%0A%20%20%20%20%20%20%20%20%20%20%20%20%3C/style%3E%0A%20%20%20%20%20%20%20%20%0A%3C/head%3E%0A%3Cbody%3E%20%20%20%20%0A%20%20%20%20%0A%20%20%20%20%20%20%20%20%20%20%20%20%3Cdiv%20class%3D%22folium-map%22%20id%3D%22map_f916b056ee8b40c1904d07af61aef662%22%20%3E%3C/div%3E%0A%20%20%20%20%20%20%20%20%0A%3C/body%3E%0A%3Cscript%3E%20%20%20%20%0A%20%20%20%20%0A%20%20%20%20%20%20%20%20%20%20%20%20var%20map_f916b056ee8b40c1904d07af61aef662%20%3D%20L.map%28%0A%20%20%20%20%20%20%20%20%20%20%20%20%20%20%20%20%22map_f916b056ee8b40c1904d07af61aef662%22%2C%0A%20%20%20%20%20%20%20%20%20%20%20%20%20%20%20%20%7B%0A%20%20%20%20%20%20%20%20%20%20%20%20%20%20%20%20%20%20%20%20center%3A%20%5B63.80292%2C%2096.456011%5D%2C%0A%20%20%20%20%20%20%20%20%20%20%20%20%20%20%20%20%20%20%20%20crs%3A%20L.CRS.EPSG3857%2C%0A%20%20%20%20%20%20%20%20%20%20%20%20%20%20%20%20%20%20%20%20zoom%3A%203%2C%0A%20%20%20%20%20%20%20%20%20%20%20%20%20%20%20%20%20%20%20%20zoomControl%3A%20true%2C%0A%20%20%20%20%20%20%20%20%20%20%20%20%20%20%20%20%20%20%20%20preferCanvas%3A%20false%2C%0A%20%20%20%20%20%20%20%20%20%20%20%20%20%20%20%20%7D%0A%20%20%20%20%20%20%20%20%20%20%20%20%29%3B%0A%0A%20%20%20%20%20%20%20%20%20%20%20%20%0A%0A%20%20%20%20%20%20%20%20%0A%20%20%20%20%0A%20%20%20%20%20%20%20%20%20%20%20%20var%20tile_layer_691cd8bf2c4f41fbb18f354bb5ef1e1d%20%3D%20L.tileLayer%28%0A%20%20%20%20%20%20%20%20%20%20%20%20%20%20%20%20%22https%3A//%7Bs%7D.tile.openstreetmap.org/%7Bz%7D/%7Bx%7D/%7By%7D.png%22%2C%0A%20%20%20%20%20%20%20%20%20%20%20%20%20%20%20%20%7B%22attribution%22%3A%20%22Data%20by%20%5Cu0026copy%3B%20%5Cu003ca%20href%3D%5C%22http%3A//openstreetmap.org%5C%22%5Cu003eOpenStreetMap%5Cu003c/a%5Cu003e%2C%20under%20%5Cu003ca%20href%3D%5C%22http%3A//www.openstreetmap.org/copyright%5C%22%5Cu003eODbL%5Cu003c/a%5Cu003e.%22%2C%20%22detectRetina%22%3A%20false%2C%20%22maxNativeZoom%22%3A%2018%2C%20%22maxZoom%22%3A%2018%2C%20%22minZoom%22%3A%200%2C%20%22noWrap%22%3A%20false%2C%20%22opacity%22%3A%201%2C%20%22subdomains%22%3A%20%22abc%22%2C%20%22tms%22%3A%20false%7D%0A%20%20%20%20%20%20%20%20%20%20%20%20%29.addTo%28map_f916b056ee8b40c1904d07af61aef662%29%3B%0A%20%20%20%20%20%20%20%20%0A%3C/script%3E onload=\"this.contentDocument.open();this.contentDocument.write(    decodeURIComponent(this.getAttribute('data-html')));this.contentDocument.close();\" allowfullscreen webkitallowfullscreen mozallowfullscreen></iframe></div></div>"
      ],
      "text/plain": [
       "<folium.folium.Map at 0x7fdfa32d16d0>"
      ]
     },
     "execution_count": 17,
     "metadata": {},
     "output_type": "execute_result"
    }
   ],
   "source": [
    "m = folium.Map(location=[63.802920, 96.456011],zoom_start=3) \n",
    "m"
   ]
  },
  {
   "cell_type": "code",
   "execution_count": 18,
   "metadata": {},
   "outputs": [],
   "source": [
    "geolocator = Nominatim(user_agent='myapplication')"
   ]
  },
  {
   "cell_type": "code",
   "execution_count": 19,
   "metadata": {},
   "outputs": [],
   "source": [
    "def lat(city):\n",
    "    location = geolocator.geocode(city)\n",
    "    lat=float(location.raw['lat'])\n",
    "    return lat"
   ]
  },
  {
   "cell_type": "code",
   "execution_count": 20,
   "metadata": {},
   "outputs": [],
   "source": [
    "def lon(city):\n",
    "    location = geolocator.geocode(city)\n",
    "    lon=float(location.raw['lon'])\n",
    "    return lon"
   ]
  },
  {
   "cell_type": "code",
   "execution_count": 21,
   "metadata": {},
   "outputs": [
    {
     "data": {
      "text/html": [
       "<div>\n",
       "<style scoped>\n",
       "    .dataframe tbody tr th:only-of-type {\n",
       "        vertical-align: middle;\n",
       "    }\n",
       "\n",
       "    .dataframe tbody tr th {\n",
       "        vertical-align: top;\n",
       "    }\n",
       "\n",
       "    .dataframe thead th {\n",
       "        text-align: right;\n",
       "    }\n",
       "</style>\n",
       "<table border=\"1\" class=\"dataframe\">\n",
       "  <thead>\n",
       "    <tr style=\"text-align: right;\">\n",
       "      <th></th>\n",
       "      <th>city</th>\n",
       "      <th>average_flights</th>\n",
       "      <th>lat</th>\n",
       "    </tr>\n",
       "  </thead>\n",
       "  <tbody>\n",
       "    <tr>\n",
       "      <td>8</td>\n",
       "      <td>Благовещенск</td>\n",
       "      <td>1.000000</td>\n",
       "      <td>50.290527</td>\n",
       "    </tr>\n",
       "    <tr>\n",
       "      <td>1</td>\n",
       "      <td>Анадырь</td>\n",
       "      <td>1.000000</td>\n",
       "      <td>64.731688</td>\n",
       "    </tr>\n",
       "    <tr>\n",
       "      <td>31</td>\n",
       "      <td>Комсомольск-на-Амуре</td>\n",
       "      <td>1.000000</td>\n",
       "      <td>50.550877</td>\n",
       "    </tr>\n",
       "    <tr>\n",
       "      <td>76</td>\n",
       "      <td>Стрежевой</td>\n",
       "      <td>1.000000</td>\n",
       "      <td>60.732758</td>\n",
       "    </tr>\n",
       "    <tr>\n",
       "      <td>49</td>\n",
       "      <td>Нефтеюганск</td>\n",
       "      <td>1.000000</td>\n",
       "      <td>61.090309</td>\n",
       "    </tr>\n",
       "    <tr>\n",
       "      <td>...</td>\n",
       "      <td>...</td>\n",
       "      <td>...</td>\n",
       "      <td>...</td>\n",
       "    </tr>\n",
       "    <tr>\n",
       "      <td>20</td>\n",
       "      <td>Екатеринбург</td>\n",
       "      <td>11.322581</td>\n",
       "      <td>56.839104</td>\n",
       "    </tr>\n",
       "    <tr>\n",
       "      <td>33</td>\n",
       "      <td>Красноярск</td>\n",
       "      <td>11.580645</td>\n",
       "      <td>56.009097</td>\n",
       "    </tr>\n",
       "    <tr>\n",
       "      <td>54</td>\n",
       "      <td>Новосибирск</td>\n",
       "      <td>17.322581</td>\n",
       "      <td>54.967814</td>\n",
       "    </tr>\n",
       "    <tr>\n",
       "      <td>70</td>\n",
       "      <td>Санкт-Петербург</td>\n",
       "      <td>31.161290</td>\n",
       "      <td>59.938732</td>\n",
       "    </tr>\n",
       "    <tr>\n",
       "      <td>43</td>\n",
       "      <td>Москва</td>\n",
       "      <td>129.774194</td>\n",
       "      <td>55.750446</td>\n",
       "    </tr>\n",
       "  </tbody>\n",
       "</table>\n",
       "<p>101 rows × 3 columns</p>\n",
       "</div>"
      ],
      "text/plain": [
       "                    city  average_flights        lat\n",
       "8           Благовещенск         1.000000  50.290527\n",
       "1                Анадырь         1.000000  64.731688\n",
       "31  Комсомольск-на-Амуре         1.000000  50.550877\n",
       "76             Стрежевой         1.000000  60.732758\n",
       "49           Нефтеюганск         1.000000  61.090309\n",
       "..                   ...              ...        ...\n",
       "20          Екатеринбург        11.322581  56.839104\n",
       "33            Красноярск        11.580645  56.009097\n",
       "54           Новосибирск        17.322581  54.967814\n",
       "70       Санкт-Петербург        31.161290  59.938732\n",
       "43                Москва       129.774194  55.750446\n",
       "\n",
       "[101 rows x 3 columns]"
      ]
     },
     "execution_count": 21,
     "metadata": {},
     "output_type": "execute_result"
    }
   ],
   "source": [
    "query_3['lat']=query_3['city'].apply(lat)\n",
    "query_3"
   ]
  },
  {
   "cell_type": "code",
   "execution_count": 22,
   "metadata": {},
   "outputs": [
    {
     "data": {
      "text/html": [
       "<div>\n",
       "<style scoped>\n",
       "    .dataframe tbody tr th:only-of-type {\n",
       "        vertical-align: middle;\n",
       "    }\n",
       "\n",
       "    .dataframe tbody tr th {\n",
       "        vertical-align: top;\n",
       "    }\n",
       "\n",
       "    .dataframe thead th {\n",
       "        text-align: right;\n",
       "    }\n",
       "</style>\n",
       "<table border=\"1\" class=\"dataframe\">\n",
       "  <thead>\n",
       "    <tr style=\"text-align: right;\">\n",
       "      <th></th>\n",
       "      <th>city</th>\n",
       "      <th>average_flights</th>\n",
       "      <th>lat</th>\n",
       "      <th>lon</th>\n",
       "    </tr>\n",
       "  </thead>\n",
       "  <tbody>\n",
       "    <tr>\n",
       "      <td>8</td>\n",
       "      <td>Благовещенск</td>\n",
       "      <td>1.000000</td>\n",
       "      <td>50.290527</td>\n",
       "      <td>127.527161</td>\n",
       "    </tr>\n",
       "    <tr>\n",
       "      <td>1</td>\n",
       "      <td>Анадырь</td>\n",
       "      <td>1.000000</td>\n",
       "      <td>64.731688</td>\n",
       "      <td>177.506092</td>\n",
       "    </tr>\n",
       "    <tr>\n",
       "      <td>31</td>\n",
       "      <td>Комсомольск-на-Амуре</td>\n",
       "      <td>1.000000</td>\n",
       "      <td>50.550877</td>\n",
       "      <td>137.020782</td>\n",
       "    </tr>\n",
       "    <tr>\n",
       "      <td>76</td>\n",
       "      <td>Стрежевой</td>\n",
       "      <td>1.000000</td>\n",
       "      <td>60.732758</td>\n",
       "      <td>77.600807</td>\n",
       "    </tr>\n",
       "    <tr>\n",
       "      <td>49</td>\n",
       "      <td>Нефтеюганск</td>\n",
       "      <td>1.000000</td>\n",
       "      <td>61.090309</td>\n",
       "      <td>72.610100</td>\n",
       "    </tr>\n",
       "    <tr>\n",
       "      <td>...</td>\n",
       "      <td>...</td>\n",
       "      <td>...</td>\n",
       "      <td>...</td>\n",
       "      <td>...</td>\n",
       "    </tr>\n",
       "    <tr>\n",
       "      <td>20</td>\n",
       "      <td>Екатеринбург</td>\n",
       "      <td>11.322581</td>\n",
       "      <td>56.839104</td>\n",
       "      <td>60.608250</td>\n",
       "    </tr>\n",
       "    <tr>\n",
       "      <td>33</td>\n",
       "      <td>Красноярск</td>\n",
       "      <td>11.580645</td>\n",
       "      <td>56.009097</td>\n",
       "      <td>92.872515</td>\n",
       "    </tr>\n",
       "    <tr>\n",
       "      <td>54</td>\n",
       "      <td>Новосибирск</td>\n",
       "      <td>17.322581</td>\n",
       "      <td>54.967814</td>\n",
       "      <td>82.951599</td>\n",
       "    </tr>\n",
       "    <tr>\n",
       "      <td>70</td>\n",
       "      <td>Санкт-Петербург</td>\n",
       "      <td>31.161290</td>\n",
       "      <td>59.938732</td>\n",
       "      <td>30.316229</td>\n",
       "    </tr>\n",
       "    <tr>\n",
       "      <td>43</td>\n",
       "      <td>Москва</td>\n",
       "      <td>129.774194</td>\n",
       "      <td>55.750446</td>\n",
       "      <td>37.617494</td>\n",
       "    </tr>\n",
       "  </tbody>\n",
       "</table>\n",
       "<p>101 rows × 4 columns</p>\n",
       "</div>"
      ],
      "text/plain": [
       "                    city  average_flights        lat         lon\n",
       "8           Благовещенск         1.000000  50.290527  127.527161\n",
       "1                Анадырь         1.000000  64.731688  177.506092\n",
       "31  Комсомольск-на-Амуре         1.000000  50.550877  137.020782\n",
       "76             Стрежевой         1.000000  60.732758   77.600807\n",
       "49           Нефтеюганск         1.000000  61.090309   72.610100\n",
       "..                   ...              ...        ...         ...\n",
       "20          Екатеринбург        11.322581  56.839104   60.608250\n",
       "33            Красноярск        11.580645  56.009097   92.872515\n",
       "54           Новосибирск        17.322581  54.967814   82.951599\n",
       "70       Санкт-Петербург        31.161290  59.938732   30.316229\n",
       "43                Москва       129.774194  55.750446   37.617494\n",
       "\n",
       "[101 rows x 4 columns]"
      ]
     },
     "execution_count": 22,
     "metadata": {},
     "output_type": "execute_result"
    }
   ],
   "source": [
    "query_3['lon']=query_3['city'].apply(lon)\n",
    "query_3"
   ]
  },
  {
   "cell_type": "code",
   "execution_count": 23,
   "metadata": {},
   "outputs": [
    {
     "data": {
      "text/html": [
       "<div style=\"width:100%;\"><div style=\"position:relative;width:100%;height:0;padding-bottom:60%;\"><span style=\"color:#565656\">Make this Notebook Trusted to load map: File -> Trust Notebook</span><iframe src=\"about:blank\" style=\"position:absolute;width:100%;height:100%;left:0;top:0;border:none !important;\" data-html=%3C%21DOCTYPE%20html%3E%0A%3Chead%3E%20%20%20%20%0A%20%20%20%20%3Cmeta%20http-equiv%3D%22content-type%22%20content%3D%22text/html%3B%20charset%3DUTF-8%22%20/%3E%0A%20%20%20%20%0A%20%20%20%20%20%20%20%20%3Cscript%3E%0A%20%20%20%20%20%20%20%20%20%20%20%20L_NO_TOUCH%20%3D%20false%3B%0A%20%20%20%20%20%20%20%20%20%20%20%20L_DISABLE_3D%20%3D%20false%3B%0A%20%20%20%20%20%20%20%20%3C/script%3E%0A%20%20%20%20%0A%20%20%20%20%3Cstyle%3Ehtml%2C%20body%20%7Bwidth%3A%20100%25%3Bheight%3A%20100%25%3Bmargin%3A%200%3Bpadding%3A%200%3B%7D%3C/style%3E%0A%20%20%20%20%3Cstyle%3E%23map%20%7Bposition%3Aabsolute%3Btop%3A0%3Bbottom%3A0%3Bright%3A0%3Bleft%3A0%3B%7D%3C/style%3E%0A%20%20%20%20%3Cscript%20src%3D%22https%3A//cdn.jsdelivr.net/npm/leaflet%401.6.0/dist/leaflet.js%22%3E%3C/script%3E%0A%20%20%20%20%3Cscript%20src%3D%22https%3A//code.jquery.com/jquery-1.12.4.min.js%22%3E%3C/script%3E%0A%20%20%20%20%3Cscript%20src%3D%22https%3A//maxcdn.bootstrapcdn.com/bootstrap/3.2.0/js/bootstrap.min.js%22%3E%3C/script%3E%0A%20%20%20%20%3Cscript%20src%3D%22https%3A//cdnjs.cloudflare.com/ajax/libs/Leaflet.awesome-markers/2.0.2/leaflet.awesome-markers.js%22%3E%3C/script%3E%0A%20%20%20%20%3Clink%20rel%3D%22stylesheet%22%20href%3D%22https%3A//cdn.jsdelivr.net/npm/leaflet%401.6.0/dist/leaflet.css%22/%3E%0A%20%20%20%20%3Clink%20rel%3D%22stylesheet%22%20href%3D%22https%3A//maxcdn.bootstrapcdn.com/bootstrap/3.2.0/css/bootstrap.min.css%22/%3E%0A%20%20%20%20%3Clink%20rel%3D%22stylesheet%22%20href%3D%22https%3A//maxcdn.bootstrapcdn.com/bootstrap/3.2.0/css/bootstrap-theme.min.css%22/%3E%0A%20%20%20%20%3Clink%20rel%3D%22stylesheet%22%20href%3D%22https%3A//maxcdn.bootstrapcdn.com/font-awesome/4.6.3/css/font-awesome.min.css%22/%3E%0A%20%20%20%20%3Clink%20rel%3D%22stylesheet%22%20href%3D%22https%3A//cdnjs.cloudflare.com/ajax/libs/Leaflet.awesome-markers/2.0.2/leaflet.awesome-markers.css%22/%3E%0A%20%20%20%20%3Clink%20rel%3D%22stylesheet%22%20href%3D%22https%3A//cdn.jsdelivr.net/gh/python-visualization/folium/folium/templates/leaflet.awesome.rotate.min.css%22/%3E%0A%20%20%20%20%0A%20%20%20%20%20%20%20%20%20%20%20%20%3Cmeta%20name%3D%22viewport%22%20content%3D%22width%3Ddevice-width%2C%0A%20%20%20%20%20%20%20%20%20%20%20%20%20%20%20%20initial-scale%3D1.0%2C%20maximum-scale%3D1.0%2C%20user-scalable%3Dno%22%20/%3E%0A%20%20%20%20%20%20%20%20%20%20%20%20%3Cstyle%3E%0A%20%20%20%20%20%20%20%20%20%20%20%20%20%20%20%20%23map_f916b056ee8b40c1904d07af61aef662%20%7B%0A%20%20%20%20%20%20%20%20%20%20%20%20%20%20%20%20%20%20%20%20position%3A%20relative%3B%0A%20%20%20%20%20%20%20%20%20%20%20%20%20%20%20%20%20%20%20%20width%3A%20100.0%25%3B%0A%20%20%20%20%20%20%20%20%20%20%20%20%20%20%20%20%20%20%20%20height%3A%20100.0%25%3B%0A%20%20%20%20%20%20%20%20%20%20%20%20%20%20%20%20%20%20%20%20left%3A%200.0%25%3B%0A%20%20%20%20%20%20%20%20%20%20%20%20%20%20%20%20%20%20%20%20top%3A%200.0%25%3B%0A%20%20%20%20%20%20%20%20%20%20%20%20%20%20%20%20%7D%0A%20%20%20%20%20%20%20%20%20%20%20%20%3C/style%3E%0A%20%20%20%20%20%20%20%20%0A%20%20%20%20%3Cscript%20src%3D%22https%3A//cdn.jsdelivr.net/gh/python-visualization/folium%40master/folium/templates/leaflet_heat.min.js%22%3E%3C/script%3E%0A%3C/head%3E%0A%3Cbody%3E%20%20%20%20%0A%20%20%20%20%0A%20%20%20%20%20%20%20%20%20%20%20%20%3Cdiv%20class%3D%22folium-map%22%20id%3D%22map_f916b056ee8b40c1904d07af61aef662%22%20%3E%3C/div%3E%0A%20%20%20%20%20%20%20%20%0A%3C/body%3E%0A%3Cscript%3E%20%20%20%20%0A%20%20%20%20%0A%20%20%20%20%20%20%20%20%20%20%20%20var%20map_f916b056ee8b40c1904d07af61aef662%20%3D%20L.map%28%0A%20%20%20%20%20%20%20%20%20%20%20%20%20%20%20%20%22map_f916b056ee8b40c1904d07af61aef662%22%2C%0A%20%20%20%20%20%20%20%20%20%20%20%20%20%20%20%20%7B%0A%20%20%20%20%20%20%20%20%20%20%20%20%20%20%20%20%20%20%20%20center%3A%20%5B63.80292%2C%2096.456011%5D%2C%0A%20%20%20%20%20%20%20%20%20%20%20%20%20%20%20%20%20%20%20%20crs%3A%20L.CRS.EPSG3857%2C%0A%20%20%20%20%20%20%20%20%20%20%20%20%20%20%20%20%20%20%20%20zoom%3A%203%2C%0A%20%20%20%20%20%20%20%20%20%20%20%20%20%20%20%20%20%20%20%20zoomControl%3A%20true%2C%0A%20%20%20%20%20%20%20%20%20%20%20%20%20%20%20%20%20%20%20%20preferCanvas%3A%20false%2C%0A%20%20%20%20%20%20%20%20%20%20%20%20%20%20%20%20%7D%0A%20%20%20%20%20%20%20%20%20%20%20%20%29%3B%0A%0A%20%20%20%20%20%20%20%20%20%20%20%20%0A%0A%20%20%20%20%20%20%20%20%0A%20%20%20%20%0A%20%20%20%20%20%20%20%20%20%20%20%20var%20tile_layer_691cd8bf2c4f41fbb18f354bb5ef1e1d%20%3D%20L.tileLayer%28%0A%20%20%20%20%20%20%20%20%20%20%20%20%20%20%20%20%22https%3A//%7Bs%7D.tile.openstreetmap.org/%7Bz%7D/%7Bx%7D/%7By%7D.png%22%2C%0A%20%20%20%20%20%20%20%20%20%20%20%20%20%20%20%20%7B%22attribution%22%3A%20%22Data%20by%20%5Cu0026copy%3B%20%5Cu003ca%20href%3D%5C%22http%3A//openstreetmap.org%5C%22%5Cu003eOpenStreetMap%5Cu003c/a%5Cu003e%2C%20under%20%5Cu003ca%20href%3D%5C%22http%3A//www.openstreetmap.org/copyright%5C%22%5Cu003eODbL%5Cu003c/a%5Cu003e.%22%2C%20%22detectRetina%22%3A%20false%2C%20%22maxNativeZoom%22%3A%2018%2C%20%22maxZoom%22%3A%2018%2C%20%22minZoom%22%3A%200%2C%20%22noWrap%22%3A%20false%2C%20%22opacity%22%3A%201%2C%20%22subdomains%22%3A%20%22abc%22%2C%20%22tms%22%3A%20false%7D%0A%20%20%20%20%20%20%20%20%20%20%20%20%29.addTo%28map_f916b056ee8b40c1904d07af61aef662%29%3B%0A%20%20%20%20%20%20%20%20%0A%20%20%20%20%0A%20%20%20%20%20%20%20%20%20%20%20%20var%20heat_map_6eb34c7c70ed410ab3267c08bbf50ded%20%3D%20L.heatLayer%28%0A%20%20%20%20%20%20%20%20%20%20%20%20%20%20%20%20%5B%5B50.290527%2C%20127.527161%2C%201.0%5D%2C%20%5B64.7316875%2C%20177.5060925%2C%201.0%5D%2C%20%5B50.550877%2C%20137.020782%2C%201.0%5D%2C%20%5B60.732758%2C%2077.600807%2C%201.0%5D%2C%20%5B61.090309%2C%2072.6101%2C%201.0%5D%2C%20%5B53.0199838%2C%20158.6471356%2C%201.0%5D%2C%20%5B56.780561%2C%20105.7489287%2C%201.0%5D%2C%20%5B56.86051745%2C%2053.197730742455306%2C%201.0%5D%2C%20%5B56.1517085%2C%20101.6334907%2C%201.0%5D%2C%20%5B56.9984452%2C%2040.9737394%2C%201.0%5D%2C%20%5B62.1445646%2C%2065.4349289%2C%201.0%5D%2C%20%5B65.995731%2C%2057.5571267%2C%201.0%5D%2C%20%5B43.3197031%2C%2045.6934308%2C%201.129032258064516%5D%2C%20%5B51.7190995%2C%2094.4300627%2C%201.277777777777778%5D%2C%20%5B52.6041877%2C%2039.5936899%2C%201.2941176470588236%5D%2C%20%5B57.6263877%2C%2039.8933705%2C%201.3225806451612905%5D%2C%20%5B59.5604768%2C%20150.7988617%2C%201.3571428571428572%5D%2C%20%5B51.957775%2C%2085.963653%2C%201.3870967741935485%5D%2C%20%5B57.817398%2C%2028.334368%2C%201.5483870967741935%5D%2C%20%5B52.033409%2C%20113.500893%2C%201.5806451612903225%5D%2C%20%5B51.2305015%2C%2058.4738015%2C%201.5909090909090908%5D%2C%20%5B51.8357841%2C%20107.5839105%2C%201.608695652173913%5D%2C%20%5B43.024593%2C%2044.68211%2C%202.0%5D%2C%20%5B68.970665%2C%2033.07497%2C%202.0%5D%2C%20%5B63.7156353%2C%2066.6667691%2C%202.0%5D%2C%20%5B60.12912%2C%2064.803627%2C%202.0%5D%2C%20%5B55.355125%2C%2086.087234%2C%202.0%5D%2C%20%5B45.0433245%2C%2041.9690934%2C%202.0%5D%2C%20%5B54.18671%2C%2045.18383%2C%202.0%5D%2C%20%5B51.6605982%2C%2039.2005858%2C%202.0%5D%2C%20%5B66.5375387%2C%2066.6157469%2C%202.0%5D%2C%20%5B54.5101087%2C%2036.2598115%2C%202.032258064516129%5D%2C%20%5B59.128696%2C%2037.916389%2C%202.161290322580645%5D%2C%20%5B44.894272%2C%2037.316887%2C%202.161290322580645%5D%2C%20%5B65.5336238%2C%2072.5113955%2C%202.290322580645161%5D%2C%20%5B69.3498394%2C%2088.200517%2C%202.290322580645161%5D%2C%20%5B51.739433%2C%2036.179604%2C%202.290322580645161%5D%2C%20%5B46.3498308%2C%2048.0326203%2C%202.4516129032258065%5D%2C%20%5B54.710128%2C%2020.5105838%2C%202.5806451612903225%5D%2C%20%5B56.6579435%2C%20124.7123042%2C%202.5806451612903225%5D%2C%20%5B44.5609447%2C%2038.0766832%2C%202.590909090909091%5D%2C%20%5B53.347402%2C%2083.7784496%2C%202.612903225806452%5D%2C%20%5B67.6380175%2C%2053.0071044%2C%202.612903225806452%5D%2C%20%5B62.027287%2C%20129.732086%2C%202.741935483870968%5D%2C%20%5B57.959473%2C%20102.734192%2C%202.870967741935484%5D%2C%20%5B53.198627%2C%2050.113987%2C%203.0%5D%2C%20%5B43.1150678%2C%20131.8855768%2C%203.0%5D%2C%20%5B54.5384152%2C%2052.7955953%2C%203.0%5D%2C%20%5B63.1191178%2C%2075.34670351236167%2C%203.0%5D%2C%20%5B63.5624585%2C%2053.684243%2C%203.0%5D%2C%20%5B43.4769604%2C%2043.5966578%2C%203.0%5D%2C%20%5B66.411768%2C%20112.2517294%2C%203.0%5D%2C%20%5B60.9391866%2C%2076.55117870683605%2C%203.129032258064516%5D%2C%20%5B62.26798%2C%2074.4889068%2C%203.161290322580645%5D%2C%20%5B42.9830241%2C%2047.5048717%2C%203.290322580645161%5D%2C%20%5B54.991375%2C%2073.371529%2C%203.290322580645161%5D%2C%20%5B55.7655302%2C%2064.5632681%2C%203.419354838709677%5D%2C%20%5B44.2107377%2C%2043.134969%2C%203.419354838709677%5D%2C%20%5B55.6412879%2C%2051.8160376%2C%203.741935483870968%5D%2C%20%5B53.7206497%2C%2091.4403553%2C%203.870967741935484%5D%2C%20%5B45.0352566%2C%2038.9764814%2C%203.903225806451613%5D%2C%20%5B53.200001%2C%2045.0%2C%204.0%5D%2C%20%5B52.72879%2C%2041.45536%2C%204.0%5D%2C%20%5B51.53952715%2C%2046.03338615081432%2C%204.0%5D%2C%20%5B53.4242184%2C%2058.983136%2C%204.0%5D%2C%20%5B61.6685237%2C%2050.8352024%2C%204.129032258064516%5D%2C%20%5B58.6124279%2C%2082.0475315%2C%204.193548387096774%5D%2C%20%5B46.9574273%2C%20142.727438%2C%204.290322580645161%5D%2C%20%5B56.6328248%2C%2047.8972462%2C%204.290322580645161%5D%2C%20%5B67.4948535%2C%2064.0399469%2C%204.580645161290322%5D%2C%20%5B46.306999%2C%2044.270187%2C%204.870967741935484%5D%2C%20%5B56.1307195%2C%2047.2449597%2C%205.0%5D%2C%20%5B51.767452%2C%2055.097118%2C%205.0%5D%2C%20%5B48.7081906%2C%2044.5153353%2C%205.129032258064516%5D%2C%20%5B64.543022%2C%2040.537121%2C%205.354838709677419%5D%2C%20%5B56.328571%2C%2044.003506%2C%205.870967741935484%5D%2C%20%5B61.790039%2C%2034.390007%2C%205.870967741935484%5D%2C%20%5B50.5955595%2C%2036.5873394%2C%206.0%5D%2C%20%5B58.6035257%2C%2049.6639029%2C%206.0%5D%2C%20%5B53.757607%2C%2087.136101%2C%206.032258064516129%5D%2C%20%5B52.289597%2C%20104.280586%2C%206.032258064516129%5D%2C%20%5B62.541077%2C%20113.978584%2C%206.290322580645161%5D%2C%20%5B46.370935349999996%2C%206.231168493722434%2C%206.290322580645161%5D%2C%20%5B48.481403%2C%20135.076935%2C%206.548387096774194%5D%2C%20%5B55.1598408%2C%2061.4025547%2C%206.709677419354839%5D%2C%20%5B57.153534%2C%2065.542274%2C%206.967741935483871%5D%2C%20%5B55.7823547%2C%2049.1242266%2C%207.741935483870966%5D%2C%20%5B66.085196%2C%2076.6799167%2C%208.290322580645162%5D%2C%20%5B61.0034448%2C%2069.0190006%2C%208.419354838709676%5D%2C%20%5B61.254032%2C%2073.3964%2C%208.741935483870966%5D%2C%20%5B61.362099%2C%2063.57354%2C%209.0%5D%2C%20%5B54.1463177%2C%2047.2324921%2C%209.580645161290322%5D%2C%20%5B43.5854823%2C%2039.723109%2C%209.612903225806452%5D%2C%20%5B53.2423778%2C%2034.3668288%2C%2010.0%5D%2C%20%5B58.0230679%2C%2056.232803119037456%2C%2010.129032258064516%5D%2C%20%5B47.2213858%2C%2039.7114196%2C%2010.193548387096774%5D%2C%20%5B56.839104%2C%2060.60825%2C%2011.32258064516129%5D%2C%20%5B56.0090968%2C%2092.8725147%2C%2011.580645161290322%5D%2C%20%5B54.96781445%2C%2082.95159894278376%2C%2017.32258064516129%5D%2C%20%5B59.938732%2C%2030.316229%2C%2031.161290322580648%5D%2C%20%5B55.7504461%2C%2037.6174943%2C%20129.77419354838707%5D%5D%2C%0A%20%20%20%20%20%20%20%20%20%20%20%20%20%20%20%20%7B%22blur%22%3A%2015%2C%20%22maxZoom%22%3A%2018%2C%20%22minOpacity%22%3A%200.5%2C%20%22radius%22%3A%2025%7D%0A%20%20%20%20%20%20%20%20%20%20%20%20%29.addTo%28map_f916b056ee8b40c1904d07af61aef662%29%3B%0A%20%20%20%20%20%20%20%20%0A%3C/script%3E onload=\"this.contentDocument.open();this.contentDocument.write(    decodeURIComponent(this.getAttribute('data-html')));this.contentDocument.close();\" allowfullscreen webkitallowfullscreen mozallowfullscreen></iframe></div></div>"
      ],
      "text/plain": [
       "<folium.folium.Map at 0x7fdfa32d16d0>"
      ]
     },
     "execution_count": 23,
     "metadata": {},
     "output_type": "execute_result"
    }
   ],
   "source": [
    "HeatMap(data=query_3[['lat', 'lon', 'average_flights']]).add_to(m)\n",
    "m"
   ]
  },
  {
   "cell_type": "markdown",
   "metadata": {},
   "source": [
    "Здесь я попытался сделать тепловую карту."
   ]
  },
  {
   "cell_type": "markdown",
   "metadata": {},
   "source": [
    "#### Топ-10 городов и количество рейсов"
   ]
  },
  {
   "cell_type": "code",
   "execution_count": 24,
   "metadata": {},
   "outputs": [
    {
     "data": {
      "image/png": "[encoded data removed]",
      "text/plain": [
       "<Figure size 432x288 with 1 Axes>"
      ]
     },
     "metadata": {
      "needs_background": "light"
     },
     "output_type": "display_data"
    }
   ],
   "source": [
    "plt.barh(top10['city'][::-1],top10['average_flights'][::-1])\n",
    "plt.grid()\n",
    "plt.xlabel('Вылеты')\n",
    "plt.ylabel('Города')\n",
    "plt.title('Топ-10 городов по количеству вылетов',fontsize=20)\n",
    "plt.show()"
   ]
  },
  {
   "cell_type": "markdown",
   "metadata": {},
   "source": [
    "В топе находятся города миллионики и количество полетов напрямую зависит от численности населения. Новосибирск выделяется среди оставшихся, потому что является аэропортом международного уровня и выполяет фунцию некой развязки во всей восточной части России."
   ]
  },
  {
   "cell_type": "markdown",
   "metadata": {},
   "source": [
    "### Вывод"
   ]
  },
  {
   "cell_type": "markdown",
   "metadata": {},
   "source": [
    "На основании полученных данных мы смогли построить наглядные графики и сделать интересные выводы:\n",
    "\n",
    " - Москва явно выделяется среди всех городов страны\n",
    " - В топ-3 также вошли Санкт-Петербург (вторая столица) и Новосибирск (ключевая развязка восточной России)\n",
    " - На удивлении больше всего вылетов совершают маломерные самолёты (малый спрос, недостаточное количество крупных аэропортов, малые расстояния)\n",
    " \n",
    " На основании полученных данных можно скоректировать дальнейшую работу по закупкам и техобслуживанию самолетов и аэропортов, а также развитию авиаперевозок в регионах."
   ]
  },
  {
   "cell_type": "markdown",
   "metadata": {},
   "source": [
    "## Чек-лист проверки"
   ]
  },
  {
   "cell_type": "markdown",
   "metadata": {},
   "source": [
    "- [x]  Jupyter Notebook открыт\n",
    "- [x]  Весь код выполняется без ошибок\n",
    "- [x]  Ячейки с кодом расположены в порядке исполнения\n",
    "- [x]  Файлы изучены\n",
    "- [x]  Типы данных проверены на корректность\n",
    "- [x]  Выбран топ-10 городов по количеству рейсов\n",
    "- [x]  Построен график «Модели самолётов и количество рейсов»\n",
    "- [x]  Построен график «Города и количество рейсов»\n",
    "- [x]  Построен график «Топ-10 городов и количество рейсов»\n",
    "- [x]  На каждом этапе написаны выводы\n",
    "- [x]  Написан общий вывод"
   ]
  }
 ],
 "metadata": {
  "ExecuteTimeLog": [
   {
    "duration": 336,
    "start_time": "2021-06-29T09:42:26.616Z"
   },
   {
    "duration": 1393,
    "start_time": "2021-06-29T09:42:28.657Z"
   },
   {
    "duration": 22,
    "start_time": "2021-06-29T09:42:30.052Z"
   },
   {
    "duration": 20,
    "start_time": "2021-06-29T09:42:53.025Z"
   },
   {
    "duration": 23,
    "start_time": "2021-06-29T09:43:00.608Z"
   },
   {
    "duration": 23,
    "start_time": "2021-06-29T09:43:31.002Z"
   },
   {
    "duration": 16,
    "start_time": "2021-06-29T09:43:52.537Z"
   },
   {
    "duration": 12,
    "start_time": "2021-06-29T09:44:09.189Z"
   },
   {
    "duration": 17,
    "start_time": "2021-06-29T09:44:50.299Z"
   },
   {
    "duration": 16,
    "start_time": "2021-06-29T09:44:58.629Z"
   },
   {
    "duration": 842,
    "start_time": "2021-06-29T09:51:01.681Z"
   },
   {
    "duration": 14,
    "start_time": "2021-06-29T09:51:45.939Z"
   },
   {
    "duration": 312,
    "start_time": "2021-06-29T09:52:04.857Z"
   },
   {
    "duration": 15,
    "start_time": "2021-06-29T09:52:39.722Z"
   },
   {
    "duration": 14,
    "start_time": "2021-06-29T09:52:45.467Z"
   },
   {
    "duration": 11,
    "start_time": "2021-06-29T09:52:54.971Z"
   },
   {
    "duration": 11,
    "start_time": "2021-06-29T09:55:54.411Z"
   },
   {
    "duration": 293,
    "start_time": "2021-06-29T09:56:16.861Z"
   },
   {
    "duration": 323,
    "start_time": "2021-06-29T10:01:26.139Z"
   },
   {
    "duration": 302,
    "start_time": "2021-06-29T10:01:36.683Z"
   },
   {
    "duration": 343,
    "start_time": "2021-06-29T10:02:32.419Z"
   },
   {
    "duration": 321,
    "start_time": "2021-06-29T10:03:03.525Z"
   },
   {
    "duration": 364,
    "start_time": "2021-06-29T10:05:42.085Z"
   },
   {
    "duration": 297,
    "start_time": "2021-06-29T10:07:19.967Z"
   },
   {
    "duration": 286,
    "start_time": "2021-06-29T10:07:35.035Z"
   },
   {
    "duration": 376,
    "start_time": "2021-06-29T10:07:41.797Z"
   },
   {
    "duration": 290,
    "start_time": "2021-06-29T10:08:04.836Z"
   },
   {
    "duration": 302,
    "start_time": "2021-06-29T10:11:17.844Z"
   },
   {
    "duration": 298,
    "start_time": "2021-06-29T10:11:25.723Z"
   },
   {
    "duration": 256,
    "start_time": "2021-06-29T10:13:28.244Z"
   },
   {
    "duration": 336,
    "start_time": "2021-06-29T10:14:21.388Z"
   },
   {
    "duration": 787,
    "start_time": "2021-06-29T10:15:00.452Z"
   },
   {
    "duration": 295,
    "start_time": "2021-06-29T10:15:13.443Z"
   },
   {
    "duration": 298,
    "start_time": "2021-06-29T10:16:26.636Z"
   },
   {
    "duration": 311,
    "start_time": "2021-06-29T10:17:56.355Z"
   },
   {
    "duration": 293,
    "start_time": "2021-06-29T10:18:09.732Z"
   },
   {
    "duration": 318,
    "start_time": "2021-06-29T10:18:24.020Z"
   },
   {
    "duration": 301,
    "start_time": "2021-06-29T10:18:30.876Z"
   },
   {
    "duration": 380,
    "start_time": "2021-06-29T10:18:36.988Z"
   },
   {
    "duration": 9,
    "start_time": "2021-06-29T10:22:13.124Z"
   },
   {
    "duration": 5,
    "start_time": "2021-06-29T10:22:56.006Z"
   },
   {
    "duration": 11,
    "start_time": "2021-06-29T10:23:09.963Z"
   },
   {
    "duration": 269,
    "start_time": "2021-06-29T10:24:37.421Z"
   },
   {
    "duration": 2136,
    "start_time": "2021-06-29T10:27:30.197Z"
   },
   {
    "duration": 2672,
    "start_time": "2021-06-29T10:28:53.572Z"
   },
   {
    "duration": 2397,
    "start_time": "2021-06-29T10:29:15.070Z"
   },
   {
    "duration": 2737,
    "start_time": "2021-06-29T10:29:51.311Z"
   },
   {
    "duration": 324,
    "start_time": "2021-06-29T10:32:28.059Z"
   },
   {
    "duration": 817,
    "start_time": "2021-06-29T15:51:48.752Z"
   },
   {
    "duration": -1227,
    "start_time": "2021-06-29T15:51:50.800Z"
   },
   {
    "duration": -1228,
    "start_time": "2021-06-29T15:51:50.802Z"
   },
   {
    "duration": -1269,
    "start_time": "2021-06-29T15:51:50.844Z"
   },
   {
    "duration": -1270,
    "start_time": "2021-06-29T15:51:50.846Z"
   },
   {
    "duration": -1269,
    "start_time": "2021-06-29T15:51:50.847Z"
   },
   {
    "duration": -1270,
    "start_time": "2021-06-29T15:51:50.849Z"
   },
   {
    "duration": -1270,
    "start_time": "2021-06-29T15:51:50.850Z"
   },
   {
    "duration": -1269,
    "start_time": "2021-06-29T15:51:50.851Z"
   },
   {
    "duration": -1270,
    "start_time": "2021-06-29T15:51:50.853Z"
   },
   {
    "duration": -1269,
    "start_time": "2021-06-29T15:51:50.854Z"
   },
   {
    "duration": -1269,
    "start_time": "2021-06-29T15:51:50.855Z"
   },
   {
    "duration": -1268,
    "start_time": "2021-06-29T15:51:50.856Z"
   },
   {
    "duration": -1268,
    "start_time": "2021-06-29T15:51:50.858Z"
   },
   {
    "duration": -1268,
    "start_time": "2021-06-29T15:51:50.859Z"
   },
   {
    "duration": -1269,
    "start_time": "2021-06-29T15:51:50.861Z"
   },
   {
    "duration": -1268,
    "start_time": "2021-06-29T15:51:50.862Z"
   },
   {
    "duration": -1268,
    "start_time": "2021-06-29T15:51:50.863Z"
   },
   {
    "duration": -1268,
    "start_time": "2021-06-29T15:51:50.865Z"
   },
   {
    "duration": 4067,
    "start_time": "2021-06-29T15:52:47.060Z"
   },
   {
    "duration": 1999,
    "start_time": "2021-06-29T15:52:51.129Z"
   },
   {
    "duration": 4080,
    "start_time": "2021-06-29T15:53:06.159Z"
   },
   {
    "duration": 98,
    "start_time": "2021-06-29T15:53:15.847Z"
   },
   {
    "duration": 1411,
    "start_time": "2021-06-29T15:53:18.153Z"
   },
   {
    "duration": -1275,
    "start_time": "2021-06-29T15:53:20.842Z"
   },
   {
    "duration": -1277,
    "start_time": "2021-06-29T15:53:20.845Z"
   },
   {
    "duration": -1278,
    "start_time": "2021-06-29T15:53:20.848Z"
   },
   {
    "duration": -1278,
    "start_time": "2021-06-29T15:53:20.849Z"
   },
   {
    "duration": 176,
    "start_time": "2021-06-29T15:53:19.613Z"
   },
   {
    "duration": 19,
    "start_time": "2021-06-29T20:54:41.582Z"
   },
   {
    "duration": 10,
    "start_time": "2021-06-29T20:54:42.454Z"
   },
   {
    "duration": 12,
    "start_time": "2021-06-29T20:54:42.870Z"
   },
   {
    "duration": 18,
    "start_time": "2021-06-29T20:54:43.112Z"
   },
   {
    "duration": 7,
    "start_time": "2021-06-29T20:54:43.510Z"
   },
   {
    "duration": 12,
    "start_time": "2021-06-29T20:54:43.828Z"
   },
   {
    "duration": 8,
    "start_time": "2021-06-29T20:54:44.686Z"
   },
   {
    "duration": 7,
    "start_time": "2021-06-29T20:54:46.294Z"
   },
   {
    "duration": 181,
    "start_time": "2021-06-29T20:54:46.629Z"
   },
   {
    "duration": 1617,
    "start_time": "2021-06-29T20:54:47.678Z"
   },
   {
    "duration": 10,
    "start_time": "2021-06-29T20:54:49.296Z"
   },
   {
    "duration": 4,
    "start_time": "2021-06-29T20:54:49.717Z"
   },
   {
    "duration": 3,
    "start_time": "2021-06-29T20:54:50.617Z"
   },
   {
    "duration": 3,
    "start_time": "2021-06-29T20:54:51.637Z"
   },
   {
    "duration": 50247,
    "start_time": "2021-06-29T20:54:52.134Z"
   },
   {
    "duration": 50496,
    "start_time": "2021-06-29T20:55:42.383Z"
   },
   {
    "duration": 10,
    "start_time": "2021-06-29T20:56:32.881Z"
   },
   {
    "duration": 195,
    "start_time": "2021-06-29T20:56:32.893Z"
   },
   {
    "duration": 3,
    "start_time": "2021-06-29T21:02:31.779Z"
   },
   {
    "duration": 1268,
    "start_time": "2021-06-29T21:02:32.186Z"
   },
   {
    "duration": 5045,
    "start_time": "2021-06-30T07:37:30.694Z"
   },
   {
    "duration": 4940,
    "start_time": "2021-06-30T07:37:35.743Z"
   },
   {
    "duration": 88,
    "start_time": "2021-06-30T07:38:53.580Z"
   },
   {
    "duration": 2582,
    "start_time": "2021-06-30T07:40:11.638Z"
   },
   {
    "duration": 188,
    "start_time": "2021-06-30T07:40:14.222Z"
   },
   {
    "duration": 15,
    "start_time": "2021-06-30T07:40:18.332Z"
   },
   {
    "duration": 18,
    "start_time": "2021-06-30T07:40:19.998Z"
   },
   {
    "duration": 242,
    "start_time": "2021-06-30T07:40:23.333Z"
   },
   {
    "duration": 11,
    "start_time": "2021-06-30T07:40:26.318Z"
   },
   {
    "duration": 18,
    "start_time": "2021-06-30T07:40:48.334Z"
   },
   {
    "duration": 9,
    "start_time": "2021-06-30T07:40:49.534Z"
   },
   {
    "duration": 5,
    "start_time": "2021-06-30T07:41:16.291Z"
   },
   {
    "duration": 6,
    "start_time": "2021-06-30T07:42:15.983Z"
   },
   {
    "duration": 6,
    "start_time": "2021-06-30T07:42:23.990Z"
   },
   {
    "duration": 12,
    "start_time": "2021-06-30T07:43:14.831Z"
   },
   {
    "duration": 10,
    "start_time": "2021-06-30T07:43:19.927Z"
   },
   {
    "duration": 302,
    "start_time": "2021-06-30T07:43:20.406Z"
   },
   {
    "duration": 15,
    "start_time": "2021-06-30T07:46:04.655Z"
   },
   {
    "duration": 2491,
    "start_time": "2021-06-30T07:46:16.126Z"
   },
   {
    "duration": 16,
    "start_time": "2021-06-30T07:46:49.950Z"
   },
   {
    "duration": 4,
    "start_time": "2021-06-30T07:48:04.510Z"
   },
   {
    "duration": 4,
    "start_time": "2021-06-30T07:48:06.637Z"
   },
   {
    "duration": 4,
    "start_time": "2021-06-30T07:48:07.294Z"
   },
   {
    "duration": 50209,
    "start_time": "2021-06-30T07:48:08.662Z"
   },
   {
    "duration": 50495,
    "start_time": "2021-06-30T07:48:58.873Z"
   },
   {
    "duration": 18,
    "start_time": "2021-06-30T07:49:49.371Z"
   },
   {
    "duration": 300,
    "start_time": "2021-06-30T07:50:06.823Z"
   },
   {
    "duration": 3012,
    "start_time": "2021-06-30T08:01:22.177Z"
   },
   {
    "duration": 3028,
    "start_time": "2021-06-30T08:01:25.192Z"
   },
   {
    "duration": 2600,
    "start_time": "2021-06-30T08:01:28.223Z"
   },
   {
    "duration": 192,
    "start_time": "2021-06-30T08:01:30.827Z"
   },
   {
    "duration": 16,
    "start_time": "2021-06-30T08:01:31.022Z"
   },
   {
    "duration": 34,
    "start_time": "2021-06-30T08:01:31.040Z"
   },
   {
    "duration": 206,
    "start_time": "2021-06-30T08:01:31.076Z"
   },
   {
    "duration": 11,
    "start_time": "2021-06-30T08:01:31.286Z"
   },
   {
    "duration": 22,
    "start_time": "2021-06-30T08:01:31.300Z"
   },
   {
    "duration": 11,
    "start_time": "2021-06-30T08:01:31.325Z"
   },
   {
    "duration": 18,
    "start_time": "2021-06-30T08:01:31.338Z"
   },
   {
    "duration": 23,
    "start_time": "2021-06-30T08:01:31.359Z"
   },
   {
    "duration": 19,
    "start_time": "2021-06-30T08:01:31.385Z"
   },
   {
    "duration": 307,
    "start_time": "2021-06-30T08:01:31.406Z"
   },
   {
    "duration": 14,
    "start_time": "2021-06-30T08:01:31.716Z"
   },
   {
    "duration": 2609,
    "start_time": "2021-06-30T08:01:31.733Z"
   },
   {
    "duration": 20,
    "start_time": "2021-06-30T08:01:34.345Z"
   },
   {
    "duration": 4,
    "start_time": "2021-06-30T08:01:34.368Z"
   },
   {
    "duration": 11,
    "start_time": "2021-06-30T08:01:34.374Z"
   },
   {
    "duration": 7,
    "start_time": "2021-06-30T08:01:34.387Z"
   },
   {
    "duration": 50224,
    "start_time": "2021-06-30T08:01:34.396Z"
   },
   {
    "duration": 50488,
    "start_time": "2021-06-30T08:02:24.623Z"
   },
   {
    "duration": 17,
    "start_time": "2021-06-30T08:03:15.116Z"
   },
   {
    "duration": 303,
    "start_time": "2021-06-30T08:03:15.135Z"
   }
  ],
  "celltoolbar": "Необработанный формат ячейки",
  "kernelspec": {
   "display_name": "Python 3",
   "language": "python",
   "name": "python3"
  },
  "language_info": {
   "codemirror_mode": {
    "name": "ipython",
    "version": 3
   },
   "file_extension": ".py",
   "mimetype": "text/x-python",
   "name": "python",
   "nbconvert_exporter": "python",
   "pygments_lexer": "ipython3",
   "version": "3.8.8"
  },
  "toc": {
   "base_numbering": 1,
   "nav_menu": {},
   "number_sections": true,
   "sideBar": true,
   "skip_h1_title": true,
   "title_cell": "Содержание",
   "title_sidebar": "Contents",
   "toc_cell": true,
   "toc_position": {},
   "toc_section_display": true,
   "toc_window_display": false
  }
 },
 "nbformat": 4,
 "nbformat_minor": 2
}
